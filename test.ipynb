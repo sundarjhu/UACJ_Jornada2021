{
  "nbformat": 4,
  "nbformat_minor": 0,
  "metadata": {
    "colab": {
      "name": "Untitled5.ipynb",
      "provenance": [],
      "collapsed_sections": [],
      "authorship_tag": "ABX9TyOnuhWIg1CVFyKH0o+ZUrlG",
      "include_colab_link": true
    },
    "kernelspec": {
      "name": "python3",
      "display_name": "Python 3"
    },
    "language_info": {
      "name": "python"
    }
  },
  "cells": [
    {
      "cell_type": "markdown",
      "metadata": {
        "id": "view-in-github",
        "colab_type": "text"
      },
      "source": [
        "<a href=\"https://colab.research.google.com/github/sundarjhu/UACJ_Jornada2021/blob/main/test.ipynb\" target=\"_parent\"><img src=\"https://colab.research.google.com/assets/colab-badge.svg\" alt=\"Open In Colab\"/></a>"
      ]
    },
    {
      "cell_type": "code",
      "metadata": {
        "id": "RznLY9gMahpa"
      },
      "source": [
        "import warnings, numpy as np\n",
        "warnings.filterwarnings(\"ignore\", category = np.VisibleDeprecationWarning)\n",
        "try:\n",
        "  from astroquery.sdss import SDSS\n",
        "except:\n",
        "  !pip install astroquery\n",
        "  from astroquery.sdss import SDSS\n",
        "from astropy import coordinates as coords\n",
        "#pos = coords.SkyCoord('202.45748d 29.579716d', frame = 'icrs')\n",
        "pos = coords.SkyCoord.from_name(\"KISSR 298\")\n",
        "xid = SDSS.query_region(pos, spectro = True)\n",
        "sp = SDSS.get_spectra(matches = xid)"
      ],
      "execution_count": 63,
      "outputs": []
    },
    {
      "cell_type": "code",
      "metadata": {
        "colab": {
          "base_uri": "https://localhost:8080/"
        },
        "id": "A5yQ-0xHapmk",
        "outputId": "60a445db-4d46-401c-e2fe-21240f453a76"
      },
      "source": [
        "sp[0][1].data"
      ],
      "execution_count": 51,
      "outputs": [
        {
          "output_type": "execute_result",
          "data": {
            "text/plain": [
              "FITS_rec([(13.479021, 3.5816, 0.06797916, 0, 0, 1.1088611 , 9.002381, 13.217207),\n",
              "          (19.215475, 3.5817, 0.06977836, 0, 0, 1.108475  , 9.212716, 13.737914),\n",
              "          (14.267138, 3.5818, 0.07592517, 0, 0, 1.108091  , 9.300478, 13.168895),\n",
              "          ...,\n",
              "          ( 8.162261, 3.9645, 0.35342726, 0, 0, 0.7729795 , 4.512267, 12.689797),\n",
              "          (11.752623, 3.9646, 0.        , 0, 0, 0.77300555, 4.811207, 12.891481),\n",
              "          (15.343176, 3.9647, 0.28280747, 0, 0, 0.77303153, 4.932665, 12.677738)],\n",
              "         dtype=(numpy.record, [('flux', '>f4'), ('loglam', '>f4'), ('ivar', '>f4'), ('and_mask', '>i4'), ('or_mask', '>i4'), ('wdisp', '>f4'), ('sky', '>f4'), ('model', '>f4')]))"
            ]
          },
          "metadata": {
            "tags": []
          },
          "execution_count": 51
        }
      ]
    },
    {
      "cell_type": "code",
      "metadata": {
        "colab": {
          "base_uri": "https://localhost:8080/"
        },
        "id": "3SqAwFyoa2wq",
        "outputId": "87d09fb2-7e89-459c-b188-2adade0e1c60"
      },
      "source": [
        "len(sp[0])"
      ],
      "execution_count": 52,
      "outputs": [
        {
          "output_type": "execute_result",
          "data": {
            "text/plain": [
              "(56, '/tmp/tmpy0klnhm7')"
            ]
          },
          "metadata": {
            "tags": []
          },
          "execution_count": 52
        }
      ]
    },
    {
      "cell_type": "markdown",
      "metadata": {
        "id": "ifqeaQBuzuTH"
      },
      "source": [
        "#**Download the HST images from the Mikulski Archive at Space Telescope (MAST)**\n",
        "###We will create a temporary directory to store and access these images. This folder will be deleted at the end of the session with the final command."
      ]
    },
    {
      "cell_type": "code",
      "metadata": {
        "colab": {
          "base_uri": "https://localhost:8080/"
        },
        "id": "vRwdRy6Na6G2",
        "outputId": "8c3af61e-58bc-4410-a40c-4787675a1641"
      },
      "source": [
        "from astroquery.mast import Observations\n",
        "import os, requests, shutil, tempfile\n",
        "#Create temporary folder if it doesn't already exist.\n",
        "if not(os.path.exists(\"/content/UACJ/\")):\n",
        "  %mkdir \"/content/UACJ/\"\n",
        "#Get relevant information for the images\n",
        "obs_table = Observations.query_criteria(project = \"HST\", target_name = \"KISSR298\", proposal_id = 12951, instrument_name = \"WFC3/UVIS\")\n",
        "print(obs_table['filters', 'dataURL'])\n",
        "\"\"\"\n",
        "  Download each of the files in the resulting table.\n",
        "  For speed, the file is first read as a stream using the `requests` module into the temporary storage.\n",
        "  It is then moved to the folder created as part of this session.\n",
        "\"\"\"\n",
        "url = \"https://mast.stsci.edu/api/v0.1/Download/file?uri=\" #Base url to MAST\n",
        "for dataURL, filter in zip(obs_table['dataURL'], obs_table['filters']):\n",
        "  temp_filename = tempfile.gettempdir() + dataURL.split('/')[-1]\n",
        "  with requests.get(url + dataURL, stream = True) as r:\n",
        "    with open(temp_filename, 'wb') as f:\n",
        "      shutil.copyfileobj(r.raw, f)\n",
        "  print(\"Downloading data for filter {} into {}\".format(filter, '/content/UACJ/KISSR298_' + filter + '_drz.fits'))\n",
        "  shutil.move(temp_filename, '/content/UACJ/KISSR298_' + filter + '_drz.fits', copy_function = shutil.copy)"
      ],
      "execution_count": 54,
      "outputs": [
        {
          "output_type": "stream",
          "text": [
            "filters               dataURL              \n",
            "------- -----------------------------------\n",
            "  F621M mast:HST/product/ic30a2010_drz.fits\n",
            " FQ508N mast:HST/product/ic30a2020_drz.fits\n",
            "  F680N mast:HST/product/ic30a2030_drz.fits\n",
            "Downloading data for filter F621M into /content/UACJ/KISSR298_F621M_drz.fits\n",
            "Downloading data for filter FQ508N into /content/UACJ/KISSR298_FQ508N_drz.fits\n",
            "Downloading data for filter F680N into /content/UACJ/KISSR298_F680N_drz.fits\n"
          ],
          "name": "stdout"
        }
      ]
    },
    {
      "cell_type": "code",
      "metadata": {
        "colab": {
          "base_uri": "https://localhost:8080/"
        },
        "id": "GvDfD9KEs_jm",
        "outputId": "e684fff0-f376-4e05-aa44-7bf4cc1431a7"
      },
      "source": [
        "%ls UACJ/"
      ],
      "execution_count": 55,
      "outputs": [
        {
          "output_type": "stream",
          "text": [
            "KISSR298_F621M_drz.fits  KISSR298_F680N_drz.fits  KISSR298_FQ508N_drz.fits\n"
          ],
          "name": "stdout"
        }
      ]
    },
    {
      "cell_type": "markdown",
      "metadata": {
        "id": "j70JxCtK2IKu"
      },
      "source": [
        "#**Construct RGB composite from images**\n",
        "##Code to construct the composite"
      ]
    },
    {
      "cell_type": "code",
      "metadata": {
        "id": "r7xHjz1Nv1d0"
      },
      "source": [
        "from astropy.table import Table\n",
        "t = Table.read('/content/UACJ/KISSR298_F621M_drz.fits', format = 'fits')"
      ],
      "execution_count": 56,
      "outputs": []
    },
    {
      "cell_type": "markdown",
      "metadata": {
        "id": "Rp12l9Kl2oGu"
      },
      "source": [
        "#**Wrapping up**\n",
        "##When all the analysis is done, the following command will delete the temporary folder."
      ]
    },
    {
      "cell_type": "code",
      "metadata": {
        "id": "yFVW5pMb2j9j"
      },
      "source": [
        "%rm -r /content/UACJ/"
      ],
      "execution_count": 57,
      "outputs": []
    },
    {
      "cell_type": "code",
      "metadata": {
        "id": "ZXqNbGgi2yBj"
      },
      "source": [
        ""
      ],
      "execution_count": null,
      "outputs": []
    }
  ]
}