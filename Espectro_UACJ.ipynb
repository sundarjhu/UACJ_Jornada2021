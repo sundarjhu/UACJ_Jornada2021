{
  "nbformat": 4,
  "nbformat_minor": 0,
  "metadata": {
    "kernelspec": {
      "display_name": "Python 3",
      "language": "python",
      "name": "python3"
    },
    "language_info": {
      "codemirror_mode": {
        "name": "ipython",
        "version": 3
      },
      "file_extension": ".py",
      "mimetype": "text/x-python",
      "name": "python",
      "nbconvert_exporter": "python",
      "pygments_lexer": "ipython3",
      "version": "3.8.3"
    },
    "colab": {
      "name": "Espectro_UACJ.ipynb",
      "provenance": [],
      "include_colab_link": true
    }
  },
  "cells": [
    {
      "cell_type": "markdown",
      "metadata": {
        "id": "view-in-github",
        "colab_type": "text"
      },
      "source": [
        "<a href=\"https://colab.research.google.com/github/sundarjhu/UACJ_Jornada2021/blob/main/Espectro_UACJ.ipynb\" target=\"_parent\"><img src=\"https://colab.research.google.com/assets/colab-badge.svg\" alt=\"Open In Colab\"/></a>"
      ]
    },
    {
      "cell_type": "code",
      "metadata": {
        "id": "pYViL32bIbop"
      },
      "source": [
        "__author__ = 'Aida Wofford <awofford@astro.unam.mx>, Sundar Srinivasan <s.srinivasan@irya.unam.mx>'\n",
        "__version__ = '20210421'\n",
        "__datasets__ = ['SDSS']  # datasets used in this notebook\n",
        "__keywords__ = ['UACJ Workshop 2021', 'SDSS', 'spectrum'], # keywords relevant to this notebook"
      ],
      "execution_count": 1,
      "outputs": []
    },
    {
      "cell_type": "code",
      "metadata": {
        "id": "aRnrk2EJKAT3"
      },
      "source": [
        "import warnings, numpy as np\n",
        "warnings.filterwarnings(\"ignore\", category = np.VisibleDeprecationWarning)\n",
        "try:\n",
        "  from astroquery.sdss import SDSS\n",
        "except:\n",
        "  !pip install astroquery\n",
        "  from astroquery.sdss import SDSS"
      ],
      "execution_count": 2,
      "outputs": []
    },
    {
      "cell_type": "markdown",
      "metadata": {
        "id": "RfUPXxXfzLgi"
      },
      "source": [
        "# Análisis del espectro óptico de KISSR 298"
      ]
    },
    {
      "cell_type": "markdown",
      "metadata": {
        "id": "pv48E0PpzLgp"
      },
      "source": [
        "## Bajar el espectro de la base de datos del Sloan Digital Sky Survey (SDSS)"
      ]
    },
    {
      "cell_type": "markdown",
      "metadata": {
        "id": "53L9l7TmzLgq"
      },
      "source": [
        "INSTRUCCIÓN. Nuestra galaxia se llama KISSR 298. Necesitamos las coordenadas (RA, Dec) o (longitude, latitude) del objeto en el sistema de referencia Equatorial (J2000.0). Encuentra las coordenadas buscando por al objeto por su nombre aquí:\n",
        "https://ned.ipac.caltech.edu/.\n",
        "Verifica que las coordenadas del objecto dadas abajo están correctas y de no ser así, modifícalas con los valores que encontraste."
      ]
    },
    {
      "cell_type": "code",
      "metadata": {
        "id": "kHMIAzpqzLgr"
      },
      "source": [
        "# RA=202.457480 #longitude in Equatorial J2000\n",
        "# Dec=29.579716 #latitude in Equatorial J2000\n",
        "from astropy import coordinates as coords\n",
        "#We can search by coordinates (in degrees)\n",
        "pos = coords.SkyCoord('202.45748d 29.579716d', frame = 'icrs')\n",
        "#Or we can have the `coords` module automatically look up the coordinates from the name of the source \n",
        "pos = coords.SkyCoord.from_name(\"KISSR 298\")\n",
        "#Once the coordinates are known, we search the SDSS archive for spectra of objects around this position.\n",
        "xid = SDSS.query_region(pos, spectro = True)\n",
        "sp = SDSS.get_spectra(matches = xid, plate = 1978, mjd = 53473, fiberID = 371)\n",
        "#El espectro está en el segundo encabezado del archivo (f[1])\n",
        "specdata = sp[0][1].data"
      ],
      "execution_count": 13,
      "outputs": []
    },
    {
      "cell_type": "markdown",
      "metadata": {
        "id": "6cctV-0QzLgs"
      },
      "source": [
        "INSTRUCCIÓN. Para bajar el espectro de la base de datos, necesitamos los IDs de la placa, la fecha y la fibra con que se usaron para obtener los datos. Busca el objecto usando las coordenadas en: https://skyserver.sdss.org/dr14/en/tools/chart/chartinfo.aspx. Dále a \"Get Image\" para ver la imagen del objeto. Puedes cambiar el tamaño de la imagen con los botones de \"+\" y \"-\"."
      ]
    },
    {
      "cell_type": "markdown",
      "metadata": {
        "id": "qp-eu_OWzLgt"
      },
      "source": [
        "INSTRUCCIÓN. Haz click en \"Explore\" para ir a donde se encuentra el espectro. Abajo a la derecha, en donde dice \"Interactive Spectrum\", hay una tabla con información sobre las observaciones del objeto. Verifica que la siguiente información es correcta y de no ser así, modifícala."
      ]
    },
    {
      "cell_type": "code",
      "metadata": {
        "id": "An2dPH5czLgu"
      },
      "source": [
        "# plate=1978\n",
        "# mjd=53473 #Modified Julian Date\n",
        "# fiberid=371"
      ],
      "execution_count": 4,
      "outputs": []
    },
    {
      "cell_type": "code",
      "metadata": {
        "id": "zNFLkJLBzLgv"
      },
      "source": [
        "# canonical = 'https://dr14.sdss.org/optical/spectrum/view/data/format=fits/spec=lite?plateid='+str(plate)+'&mjd='+str(mjd)+'&fiberid='+str(fiberid)"
      ],
      "execution_count": 5,
      "outputs": []
    },
    {
      "cell_type": "markdown",
      "metadata": {
        "id": "OPBgfsZKzLgv"
      },
      "source": [
        "Importamos los paquetes necesarios."
      ]
    },
    {
      "cell_type": "code",
      "metadata": {
        "colab": {
          "base_uri": "https://localhost:8080/"
        },
        "id": "fB_G7t6EzLgw",
        "outputId": "f8bf2fbe-19b4-4628-ba3f-f070b77eafef"
      },
      "source": [
        "from astropy.io import fits\n",
        "from astropy import units as u\n",
        "import numpy as np\n",
        "from matplotlib import pyplot as plt\n",
        "%matplotlib inline\n",
        "from astropy.visualization import quantity_support\n",
        "quantity_support()  # for getting units on the axes below"
      ],
      "execution_count": 14,
      "outputs": [
        {
          "output_type": "execute_result",
          "data": {
            "text/plain": [
              "<astropy.visualization.units.quantity_support.<locals>.MplQuantityConverter at 0x7f1e959cad90>"
            ]
          },
          "metadata": {
            "tags": []
          },
          "execution_count": 14
        }
      ]
    },
    {
      "cell_type": "markdown",
      "metadata": {
        "id": "ZJwkQEQHzLgy"
      },
      "source": [
        "Los espectros están en archivos formato fits.\n",
        "\n",
        "Cargamos los datos y contruimos los vectores de longitudes de onda (wave) , de flujos (flux), y de errores en los flujos (err)."
      ]
    },
    {
      "cell_type": "code",
      "metadata": {
        "colab": {
          "base_uri": "https://localhost:8080/"
        },
        "id": "_LEnUBdMzLg1",
        "outputId": "57fe7742-4298-404d-9835-5b958089c9a6"
      },
      "source": [
        "# f = fits.open(canonical) \n",
        "#El espectro está en el segundo encabezado del archivo (f[1])\n",
        "# specdata = f[1].data \n",
        "# f.close()\n",
        "\n",
        "wave = 10**specdata['loglam'] * u.AA # longitud de onda\n",
        "flux = specdata['flux'] * 10**-17 * u.Unit('erg cm-2 s-1 AA-1') # flujo\n",
        "ivar = specdata['ivar']# inverso de la varianza\n",
        "err = 1 / np.sqrt(ivar) # error * u.Unit('erg cm-2 s-1 AA-1') # error en el flujo"
      ],
      "execution_count": 15,
      "outputs": [
        {
          "output_type": "stream",
          "text": [
            "/usr/local/lib/python3.7/dist-packages/ipykernel_launcher.py:9: RuntimeWarning: divide by zero encountered in true_divide\n",
            "  if __name__ == '__main__':\n"
          ],
          "name": "stderr"
        }
      ]
    },
    {
      "cell_type": "markdown",
      "metadata": {
        "id": "Mbc27u2oz7xB"
      },
      "source": [
        "Instalamos el paquete specutils."
      ]
    },
    {
      "cell_type": "code",
      "metadata": {
        "id": "izIH2ooX0CUf"
      },
      "source": [
        "# Install a pip package in the current Jupyter kernel if it isn't already installed\n",
        "import sys\n",
        "try:\n",
        "  from specutils import Spectrum1D\n",
        "except:\n",
        "  !{sys.executable} -m pip install specutils\n",
        "  from specutils import Spectrum1D"
      ],
      "execution_count": 17,
      "outputs": []
    },
    {
      "cell_type": "markdown",
      "metadata": {
        "id": "aWruZgfRzLg2"
      },
      "source": [
        "Vamos a poner los datos en el formato apropiado para \"astropy\" y crear un objeto llamado \"Spectrum1D\" que vamos a graficar."
      ]
    },
    {
      "cell_type": "code",
      "metadata": {
        "id": "YSlkwkZSzLg2"
      },
      "source": [
        "spec = Spectrum1D(spectral_axis=wave, flux=flux)"
      ],
      "execution_count": 9,
      "outputs": []
    },
    {
      "cell_type": "markdown",
      "metadata": {
        "id": "HdpkbUu2zLg2"
      },
      "source": [
        "Graficamos el espectro."
      ]
    },
    {
      "cell_type": "code",
      "metadata": {
        "colab": {
          "base_uri": "https://localhost:8080/",
          "height": 308
        },
        "id": "FV7tE6VczLg3",
        "outputId": "64623e6e-1645-4a92-d333-3a40598a35ed"
      },
      "source": [
        "f, ax = plt.subplots()  \n",
        "\n",
        "#ax.step(spec.spectral_axis, spec.flux)\n",
        "#plt.xlabel('Rest Wavelength ({})'.format(spec.spectral_axis.unit)) \n",
        "#plt.ylabel('Flux ({})'.format(spec.flux.unit))\n",
        "ax.plot(wave, flux)\n",
        "plt.xlabel('Rest Wavelength (A)') \n",
        "plt.ylabel('Flux (cm/s/cm2/A)')"
      ],
      "execution_count": 18,
      "outputs": [
        {
          "output_type": "execute_result",
          "data": {
            "text/plain": [
              "Text(0, 0.5, 'Flux (cm/s/cm2/A)')"
            ]
          },
          "metadata": {
            "tags": []
          },
          "execution_count": 18
        },
        {
          "output_type": "display_data",
          "data": {
            "image/png": "[encoded data removed]",
            "text/plain": [
              "<Figure size 432x288 with 1 Axes>"
            ]
          },
          "metadata": {
            "tags": [],
            "needs_background": "light"
          }
        }
      ]
    },
    {
      "cell_type": "markdown",
      "metadata": {
        "id": "aeaOO9CRzLg5"
      },
      "source": [
        "# Corrección por polvo en la Vía Láctea"
      ]
    },
    {
      "cell_type": "markdown",
      "metadata": {
        "id": "iE6Er76CzLg5"
      },
      "source": [
        "INSTRUCCIÓN. Vamos a corregir la luz de las estrellas que se encuentran en la galaxia KISSR 298 por extinción debida al polvo en nuestra Galaxia.\n",
        "\n",
        "Para esto, necesitamos el exceso de color debido al polvo en nuestra Galaxia, en la dirección de KISSR 298. \n",
        "\n",
        "Para calcular el exceso de color, E(B-V), primero encuentra la extinción Galáctica en las bandas Landolt B y V, yendo a la liga de abajo, introduciendo el nombre del objeto, luego yendo a la pestaña de Galactic Extinction, y finalmente yendo a la columna \"Galactic Extinctions\".\n",
        "https://ned.ipac.caltech.edu/\n"
      ]
    },
    {
      "cell_type": "code",
      "metadata": {
        "id": "Z99mPddnzLg6"
      },
      "source": [
        "B=0.062 # extinción Galáctica en la banda B\n",
        "V=0.047 # extinción Galáctica en la banda V\n",
        "ebvmw=B-V # exceso de color E(B-V) de la Vía Láctea (Milky Way)"
      ],
      "execution_count": null,
      "outputs": []
    },
    {
      "cell_type": "markdown",
      "metadata": {
        "id": "ERQKjW_S0wZ9"
      },
      "source": [
        "Importamos un paquete necesario."
      ]
    },
    {
      "cell_type": "code",
      "metadata": {
        "colab": {
          "base_uri": "https://localhost:8080/"
        },
        "id": "2Ezo6mkw0w6f",
        "outputId": "96a1e518-1e1f-44f0-e307-95b18d325eed"
      },
      "source": [
        "import sys\n",
        "# Install a pip package in the current Jupyter kernel if it isn't already installed\n",
        "try:\n",
        "  from dust_extinction.parameter_averages import CCM89\n",
        "except:\n",
        "  !{sys.executable} -m pip install dust_extinction\n",
        "  from dust_extinction.parameter_averages import CCM89"
      ],
      "execution_count": 21,
      "outputs": [
        {
          "output_type": "stream",
          "text": [
            "Collecting dust_extinction\n",
            "\u001b[?25l  Downloading https://files.pythonhosted.org/packages/17/69/75d55a7fdfafd3c2fd7ca520b4a348e744597cb7fcfd17dcb27cce418367/dust_extinction-1.0.tar.gz (439kB)\n",
            "\u001b[K     |████████████████████████████████| 440kB 5.6MB/s \n",
            "\u001b[?25h  Installing build dependencies ... \u001b[?25l\u001b[?25hdone\n",
            "  Getting requirements to build wheel ... \u001b[?25l\u001b[?25hdone\n",
            "    Preparing wheel metadata ... \u001b[?25l\u001b[?25hdone\n",
            "Requirement already satisfied: scipy in /usr/local/lib/python3.7/dist-packages (from dust_extinction) (1.4.1)\n",
            "Requirement already satisfied: astropy in /usr/local/lib/python3.7/dist-packages (from dust_extinction) (4.2.1)\n",
            "Requirement already satisfied: numpy>=1.13.3 in /usr/local/lib/python3.7/dist-packages (from scipy->dust_extinction) (1.19.5)\n",
            "Requirement already satisfied: pyerfa in /usr/local/lib/python3.7/dist-packages (from astropy->dust_extinction) (1.7.2)\n",
            "Building wheels for collected packages: dust-extinction\n",
            "  Building wheel for dust-extinction (PEP 517) ... \u001b[?25l\u001b[?25hdone\n",
            "  Created wheel for dust-extinction: filename=dust_extinction-1.0-cp37-none-any.whl size=424649 sha256=ef4dc91d89aff3f77e0566a9a692ec97f5206927227886f82ecc0b46d5a423d6\n",
            "  Stored in directory: /root/.cache/pip/wheels/8f/b4/78/74e5b35146ac5211356853e2b7bcb9074973941a40372f03d5\n",
            "Successfully built dust-extinction\n",
            "Installing collected packages: dust-extinction\n",
            "Successfully installed dust-extinction-1.0\n"
          ],
          "name": "stdout"
        }
      ]
    },
    {
      "cell_type": "code",
      "metadata": {
        "id": "hl4MG42rzLg6"
      },
      "source": [
        "# Import this model: Cardelli, Clayton & Mathis (1989) with A_V = 1 and R_V = 3.1\n",
        "from dust_extinction.parameter_averages import CCM89\n",
        "from scipy.optimize import curve_fit\n",
        "\n",
        "# Define the reddening model\n",
        "\n",
        "ext = CCM89(Rv=3.1)\n",
        "\n",
        "# Flujo corregido (unextinguished flux )\n",
        "\n",
        "uflux = flux / ext.extinguish(1/wave.to(u.micron), Ebv=0.1)\n"
      ],
      "execution_count": 22,
      "outputs": []
    },
    {
      "cell_type": "markdown",
      "metadata": {
        "id": "by4rrPejzLg6"
      },
      "source": [
        "Graficamos el espectro antes y después de la corrección por enrojecimiento en la Vía Láctea."
      ]
    },
    {
      "cell_type": "code",
      "metadata": {
        "id": "F3Xe1pIIzLg7",
        "outputId": "5e7290da-7c52-43b4-d3c8-9e2211052fee",
        "colab": {
          "base_uri": "https://localhost:8080/",
          "height": 308
        }
      },
      "source": [
        "f, ax = plt.subplots()  \n",
        "\n",
        "ax.step(spec.spectral_axis, spec.flux)\n",
        "ax.plot(wave,uflux)\n",
        "plt.xlabel('Observed Wavelength ({})'.format(spec.spectral_axis.unit)) \n",
        "plt.ylabel('Flux ({})'.format(spec.flux.unit))\n",
        "plt.ylim(0,5e-16)"
      ],
      "execution_count": 23,
      "outputs": [
        {
          "output_type": "execute_result",
          "data": {
            "text/plain": [
              "(0.0, 5e-16)"
            ]
          },
          "metadata": {
            "tags": []
          },
          "execution_count": 23
        },
        {
          "output_type": "display_data",
          "data": {
            "image/png": "[encoded data removed]",
            "text/plain": [
              "<Figure size 432x288 with 1 Axes>"
            ]
          },
          "metadata": {
            "tags": [],
            "needs_background": "light"
          }
        }
      ]
    },
    {
      "cell_type": "markdown",
      "metadata": {
        "id": "wvFhBuTnzLg7"
      },
      "source": [
        "# Corrección por corrimiento al rojo"
      ]
    },
    {
      "cell_type": "markdown",
      "metadata": {
        "id": "jVpQTEyczLg7"
      },
      "source": [
        "INSTRUCCIÓN. Determina el corrimiento al rojo, z, de la galaxia.\n",
        "Para esto, identifica las líneas espectrales de H-alfa y H-beta del hidrógeno. Si la galaxia no se estuviera ni alejando de ni acercando a nostros, las longitudes de onda en Agstroms de estas líneas fuertes del espectro estarían en 6563 y 4861, respectivamente. "
      ]
    },
    {
      "cell_type": "code",
      "metadata": {
        "id": "YXkm6pb6zLg7"
      },
      "source": [
        "z=0.04899 # Corrimiento al rojo encontrado"
      ],
      "execution_count": 24,
      "outputs": []
    },
    {
      "cell_type": "code",
      "metadata": {
        "id": "22zWUsYGzLg9"
      },
      "source": [
        "wave_rest = wave / (1 + z)"
      ],
      "execution_count": 25,
      "outputs": []
    },
    {
      "cell_type": "markdown",
      "metadata": {
        "id": "h0MJUQiszLg9"
      },
      "source": [
        "Lo graficamos antes y después de la corrección por corrimiento al rojo."
      ]
    },
    {
      "cell_type": "code",
      "metadata": {
        "id": "_6mgjfAMzLg9",
        "outputId": "f753a047-9280-4b64-da26-8c8e3ae2aa92",
        "colab": {
          "base_uri": "https://localhost:8080/",
          "height": 308
        }
      },
      "source": [
        "f, ax = plt.subplots()  \n",
        "\n",
        "ax.plot(wave, uflux)\n",
        "ax.plot(wave_rest, uflux)\n",
        "plt.xlabel('Rest Wavelength ({})'.format(spec.spectral_axis.unit)) \n",
        "plt.ylabel('Flux ({})'.format(spec.flux.unit))"
      ],
      "execution_count": 26,
      "outputs": [
        {
          "output_type": "execute_result",
          "data": {
            "text/plain": [
              "Text(0, 0.5, 'Flux (erg / (Angstrom cm2 s))')"
            ]
          },
          "metadata": {
            "tags": []
          },
          "execution_count": 26
        },
        {
          "output_type": "display_data",
          "data": {
            "image/png": "[encoded data removed]",
            "text/plain": [
              "<Figure size 432x288 with 1 Axes>"
            ]
          },
          "metadata": {
            "tags": [],
            "needs_background": "light"
          }
        }
      ]
    }
  ]
}