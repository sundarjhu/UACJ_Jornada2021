{
  "nbformat": 4,
  "nbformat_minor": 0,
  "metadata": {
    "kernelspec": {
      "display_name": "Python 3",
      "language": "python",
      "name": "python3"
    },
    "language_info": {
      "codemirror_mode": {
        "name": "ipython",
        "version": 3
      },
      "file_extension": ".py",
      "mimetype": "text/x-python",
      "name": "python",
      "nbconvert_exporter": "python",
      "pygments_lexer": "ipython3",
      "version": "3.8.3"
    },
    "colab": {
      "name": "Espectro_UACJ.ipynb",
      "provenance": [],
      "include_colab_link": true
    }
  },
  "cells": [
    {
      "cell_type": "markdown",
      "metadata": {
        "id": "view-in-github",
        "colab_type": "text"
      },
      "source": [
        "<a href=\"https://colab.research.google.com/github/sundarjhu/UACJ_Jornada2021/blob/main/Espectro_UACJ.ipynb\" target=\"_parent\"><img src=\"https://colab.research.google.com/assets/colab-badge.svg\" alt=\"Open In Colab\"/></a>"
      ]
    },
    {
      "cell_type": "code",
      "metadata": {
        "id": "pYViL32bIbop"
      },
      "source": [
        "__author__ = 'Aida Wofford <awofford@astro.unam.mx>, Sundar Srinivasan <s.srinivasan@irya.unam.mx>'\n",
        "__version__ = '20210421'\n",
        "__datasets__ = ['SDSS']  # datasets used in this notebook\n",
        "__keywords__ = ['UACJ Workshop 2021', 'SDSS', 'spectrum'], # keywords relevant to this notebook"
      ],
      "execution_count": 16,
      "outputs": []
    },
    {
      "cell_type": "code",
      "metadata": {
        "id": "aRnrk2EJKAT3",
        "colab": {
          "base_uri": "https://localhost:8080/"
        },
        "outputId": "6c7dc82d-9ae7-41f0-ea3a-bbcd8e8f25ea"
      },
      "source": [
        "import warnings, numpy as np\n",
        "warnings.filterwarnings(\"ignore\", category = np.VisibleDeprecationWarning)\n",
        "warnings.filterwarnings(\"ignore\", category = RuntimeWarning)\n",
        "try:\n",
        "  from astroquery.sdss import SDSS\n",
        "except:\n",
        "  !pip install astroquery\n",
        "  from astroquery.sdss import SDSS"
      ],
      "execution_count": 10,
      "outputs": [
        {
          "output_type": "stream",
          "text": [
            "Collecting astroquery\n",
            "\u001b[?25l  Downloading https://files.pythonhosted.org/packages/1b/f8/4690523783691ed816b3469c3ec611af3798594d37ade510dd918d59f57e/astroquery-0.4.1.tar.gz (6.5MB)\n",
            "\u001b[K     |████████████████████████████████| 6.5MB 6.8MB/s \n",
            "\u001b[?25hRequirement already satisfied: numpy in /usr/local/lib/python3.7/dist-packages (from astroquery) (1.19.5)\n",
            "Requirement already satisfied: astropy>=3.1 in /usr/local/lib/python3.7/dist-packages (from astroquery) (4.2.1)\n",
            "Requirement already satisfied: requests>=2.4.3 in /usr/local/lib/python3.7/dist-packages (from astroquery) (2.23.0)\n",
            "Collecting keyring>=4.0\n",
            "  Downloading https://files.pythonhosted.org/packages/26/f9/41230ac47f738f1ba66676dc8d3b30ca5b1f9eb0230fc204bcd9836c4ae9/keyring-23.0.1-py3-none-any.whl\n",
            "Requirement already satisfied: beautifulsoup4>=4.3.2 in /usr/local/lib/python3.7/dist-packages (from astroquery) (4.6.3)\n",
            "Requirement already satisfied: html5lib>=0.999 in /usr/local/lib/python3.7/dist-packages (from astroquery) (1.0.1)\n",
            "Requirement already satisfied: six in /usr/local/lib/python3.7/dist-packages (from astroquery) (1.15.0)\n",
            "Requirement already satisfied: pyerfa in /usr/local/lib/python3.7/dist-packages (from astropy>=3.1->astroquery) (1.7.2)\n",
            "Requirement already satisfied: certifi>=2017.4.17 in /usr/local/lib/python3.7/dist-packages (from requests>=2.4.3->astroquery) (2020.12.5)\n",
            "Requirement already satisfied: chardet<4,>=3.0.2 in /usr/local/lib/python3.7/dist-packages (from requests>=2.4.3->astroquery) (3.0.4)\n",
            "Requirement already satisfied: urllib3!=1.25.0,!=1.25.1,<1.26,>=1.21.1 in /usr/local/lib/python3.7/dist-packages (from requests>=2.4.3->astroquery) (1.24.3)\n",
            "Requirement already satisfied: idna<3,>=2.5 in /usr/local/lib/python3.7/dist-packages (from requests>=2.4.3->astroquery) (2.10)\n",
            "Requirement already satisfied: importlib-metadata>=3.6 in /usr/local/lib/python3.7/dist-packages (from keyring>=4.0->astroquery) (3.10.1)\n",
            "Collecting SecretStorage>=3.2; sys_platform == \"linux\"\n",
            "  Downloading https://files.pythonhosted.org/packages/d9/1e/29cd69fdac7391aa51510dfd42aa70b4e6a826c8cd019ee2a8ab9ec0777f/SecretStorage-3.3.1-py3-none-any.whl\n",
            "Collecting jeepney>=0.4.2; sys_platform == \"linux\"\n",
            "\u001b[?25l  Downloading https://files.pythonhosted.org/packages/51/b0/a6ea72741aaac3f37fb96d195e4ee576a103c4c04e279bc6b446a70960e1/jeepney-0.6.0-py3-none-any.whl (45kB)\n",
            "\u001b[K     |████████████████████████████████| 51kB 5.2MB/s \n",
            "\u001b[?25hRequirement already satisfied: webencodings in /usr/local/lib/python3.7/dist-packages (from html5lib>=0.999->astroquery) (0.5.1)\n",
            "Requirement already satisfied: zipp>=0.5 in /usr/local/lib/python3.7/dist-packages (from importlib-metadata>=3.6->keyring>=4.0->astroquery) (3.4.1)\n",
            "Requirement already satisfied: typing-extensions>=3.6.4; python_version < \"3.8\" in /usr/local/lib/python3.7/dist-packages (from importlib-metadata>=3.6->keyring>=4.0->astroquery) (3.7.4.3)\n",
            "Collecting cryptography>=2.0\n",
            "\u001b[?25l  Downloading https://files.pythonhosted.org/packages/b2/26/7af637e6a7e87258b963f1731c5982fb31cd507f0d90d91836e446955d02/cryptography-3.4.7-cp36-abi3-manylinux2014_x86_64.whl (3.2MB)\n",
            "\u001b[K     |████████████████████████████████| 3.2MB 50.7MB/s \n",
            "\u001b[?25hRequirement already satisfied: cffi>=1.12 in /usr/local/lib/python3.7/dist-packages (from cryptography>=2.0->SecretStorage>=3.2; sys_platform == \"linux\"->keyring>=4.0->astroquery) (1.14.5)\n",
            "Requirement already satisfied: pycparser in /usr/local/lib/python3.7/dist-packages (from cffi>=1.12->cryptography>=2.0->SecretStorage>=3.2; sys_platform == \"linux\"->keyring>=4.0->astroquery) (2.20)\n",
            "Building wheels for collected packages: astroquery\n",
            "  Building wheel for astroquery (setup.py) ... \u001b[?25l\u001b[?25hdone\n",
            "  Created wheel for astroquery: filename=astroquery-0.4.1-cp37-none-any.whl size=3831874 sha256=2042933a9c8634e1fd741064f20de2395773ce73186783f95b98d40de9219e28\n",
            "  Stored in directory: /root/.cache/pip/wheels/88/f8/b7/a254cd96e808f708bc0b7d755a8e095c56fbbe94099d7b464f\n",
            "Successfully built astroquery\n",
            "Installing collected packages: jeepney, cryptography, SecretStorage, keyring, astroquery\n",
            "Successfully installed SecretStorage-3.3.1 astroquery-0.4.1 cryptography-3.4.7 jeepney-0.6.0 keyring-23.0.1\n"
          ],
          "name": "stdout"
        }
      ]
    },
    {
      "cell_type": "markdown",
      "metadata": {
        "id": "RfUPXxXfzLgi"
      },
      "source": [
        "# Análisis del espectro óptico de KISSR 298"
      ]
    },
    {
      "cell_type": "markdown",
      "metadata": {
        "id": "pv48E0PpzLgp"
      },
      "source": [
        "## Bajar el espectro de la base de datos del Sloan Digital Sky Survey (SDSS)"
      ]
    },
    {
      "cell_type": "markdown",
      "metadata": {
        "id": "53L9l7TmzLgq"
      },
      "source": [
        "INSTRUCCIÓN. Nuestra galaxia se llama KISSR 298. Necesitamos las coordenadas (RA, Dec) o (longitude, latitude) del objeto en el sistema de referencia Equatorial (J2000.0). Encuentra las coordenadas buscando por al objeto por su nombre aquí:\n",
        "https://ned.ipac.caltech.edu/.\n",
        "Verifica que las coordenadas del objecto dadas abajo están correctas y de no ser así, modifícalas con los valores que encontraste."
      ]
    },
    {
      "cell_type": "code",
      "metadata": {
        "id": "kHMIAzpqzLgr"
      },
      "source": [
        "from astropy import coordinates as coords\n",
        "\n",
        "#We can search by coordinates (in degrees)\n",
        "RA = 202.457480 #longitude in Equatorial J2000\n",
        "DEC = 29.579716 #latitude in Equatorial J2000\n",
        "pos = coords.SkyCoord(str(RA) + 'd ' + str(DEC) + 'd', frame = 'icrs') #units of degrees\n",
        "\n",
        "#Or we can have the `coords` module automatically look up the coordinates from the name of the source\n",
        "# Astronomical databases have a \"name resolution\" service which automatically does this.\n",
        "# SkyCoord queries the CDS database (http://cdsweb.u-strasbg.fr/) for this.\n",
        "pos = coords.SkyCoord.from_name(\"KISSR 298\")\n",
        "\n",
        "#Once the coordinates are known, we search the SDSS archive for spectra of objects around this position.\n",
        "xid = SDSS.query_region(pos, spectro = True)\n",
        "plate = xid[0][list(xid.columns).index('plate')]\n",
        "mjd = xid[0][list(xid.columns).index('mjd')]\n",
        "fiberID = xid[0][list(xid.columns).index('fiberID')]\n",
        "\n",
        "# plate = tabla_sdss[0][8] # plate\n",
        "# mjd = tabla_sdss[0][9] # modified Julian date\n",
        "# fiberid = tabla_sdss[0][10] # fiberid\n",
        "\n",
        "# sp = SDSS.get_spectra(matches = xid, plate = 1978, mjd = 53473, fiberID = 371)[0]\n",
        "sp = SDSS.get_spectra(matches = xid, plate = plate, mjd = mjd, fiberID = fiberID)[0]\n",
        "#El espectro está en el segundo encabezado del archivo (sp[1])\n",
        "specdata = sp[1].data"
      ],
      "execution_count": 11,
      "outputs": []
    },
    {
      "cell_type": "markdown",
      "metadata": {
        "id": "6cctV-0QzLgs"
      },
      "source": [
        "INSTRUCCIÓN. Para bajar el espectro de la base de datos, necesitamos los IDs de la placa, la fecha y la fibra con que se usaron para obtener los datos. Busca el objecto usando las coordenadas en: https://skyserver.sdss.org/dr14/en/tools/chart/chartinfo.aspx. Dále a \"Get Image\" para ver la imagen del objeto. Puedes cambiar el tamaño de la imagen con los botones de \"+\" y \"-\"."
      ]
    },
    {
      "cell_type": "markdown",
      "metadata": {
        "id": "qp-eu_OWzLgt"
      },
      "source": [
        "INSTRUCCIÓN. Haz click en \"Explore\" para ir a donde se encuentra el espectro. Abajo a la derecha, en donde dice \"Interactive Spectrum\", hay una tabla con información sobre las observaciones del objeto. Verifica que la siguiente información es correcta y de no ser así, modifícala."
      ]
    },
    {
      "cell_type": "markdown",
      "metadata": {
        "id": "OPBgfsZKzLgv"
      },
      "source": [
        "Importamos los paquetes necesarios."
      ]
    },
    {
      "cell_type": "code",
      "metadata": {
        "id": "fB_G7t6EzLgw"
      },
      "source": [
        "from astropy.io import fits\n",
        "from astropy import units as u\n",
        "import numpy as np\n",
        "from matplotlib import pyplot as plt\n",
        "%matplotlib inline\n",
        "from astropy.visualization import quantity_support\n",
        "quantity_support();  # for getting units on the axes below"
      ],
      "execution_count": 12,
      "outputs": []
    },
    {
      "cell_type": "markdown",
      "metadata": {
        "id": "ZJwkQEQHzLgy"
      },
      "source": [
        "Los espectros están en archivos formato fits.\n",
        "\n",
        "Cargamos los datos y contruimos los vectores de longitudes de onda (wave) , de flujos (flux), y de errores en los flujos (err)."
      ]
    },
    {
      "cell_type": "code",
      "metadata": {
        "id": "_LEnUBdMzLg1"
      },
      "source": [
        "wave = 10**specdata['loglam'] * u.AA # longitud de onda\n",
        "flux = specdata['flux'] * 10**-17 * u.Unit('erg cm-2 s-1 AA-1') # flujo\n",
        "ivar = specdata['ivar']# inverso de la varianza\n",
        "err = 1 / np.sqrt(ivar) # error * u.Unit('erg cm-2 s-1 AA-1') # error en el flujo"
      ],
      "execution_count": 13,
      "outputs": []
    },
    {
      "cell_type": "markdown",
      "metadata": {
        "id": "Mbc27u2oz7xB"
      },
      "source": [
        "Instalamos el paquete specutils."
      ]
    },
    {
      "cell_type": "code",
      "metadata": {
        "id": "izIH2ooX0CUf",
        "colab": {
          "base_uri": "https://localhost:8080/"
        },
        "outputId": "ba9b94b6-d0c5-475c-8299-c4743c34ee79"
      },
      "source": [
        "# Install a pip package in the current Jupyter kernel if it isn't already installed\n",
        "!pip install specutils"
      ],
      "execution_count": 6,
      "outputs": [
        {
          "output_type": "stream",
          "text": [
            "Requirement already satisfied: specutils in /usr/local/lib/python3.7/dist-packages (1.2)\n",
            "Requirement already satisfied: asdf>=2.5 in /usr/local/lib/python3.7/dist-packages (from specutils) (2.7.3)\n",
            "Requirement already satisfied: astropy>=4.1 in /usr/local/lib/python3.7/dist-packages (from specutils) (4.2.1)\n",
            "Requirement already satisfied: gwcs!=0.16.0 in /usr/local/lib/python3.7/dist-packages (from specutils) (0.16.1)\n",
            "Requirement already satisfied: scipy in /usr/local/lib/python3.7/dist-packages (from specutils) (1.4.1)\n",
            "Requirement already satisfied: jsonschema<4,>=3.0.2 in /usr/local/lib/python3.7/dist-packages (from asdf>=2.5->specutils) (3.2.0)\n",
            "Requirement already satisfied: semantic-version>=2.8 in /usr/local/lib/python3.7/dist-packages (from asdf>=2.5->specutils) (2.8.5)\n",
            "Requirement already satisfied: pyyaml>=3.10 in /usr/local/lib/python3.7/dist-packages (from asdf>=2.5->specutils) (3.13)\n",
            "Requirement already satisfied: numpy>=1.10 in /usr/local/lib/python3.7/dist-packages (from asdf>=2.5->specutils) (1.19.5)\n",
            "Requirement already satisfied: pyerfa in /usr/local/lib/python3.7/dist-packages (from astropy>=4.1->specutils) (1.7.2)\n",
            "Requirement already satisfied: pyrsistent>=0.14.0 in /usr/local/lib/python3.7/dist-packages (from jsonschema<4,>=3.0.2->asdf>=2.5->specutils) (0.17.3)\n",
            "Requirement already satisfied: setuptools in /usr/local/lib/python3.7/dist-packages (from jsonschema<4,>=3.0.2->asdf>=2.5->specutils) (54.2.0)\n",
            "Requirement already satisfied: six>=1.11.0 in /usr/local/lib/python3.7/dist-packages (from jsonschema<4,>=3.0.2->asdf>=2.5->specutils) (1.15.0)\n",
            "Requirement already satisfied: attrs>=17.4.0 in /usr/local/lib/python3.7/dist-packages (from jsonschema<4,>=3.0.2->asdf>=2.5->specutils) (20.3.0)\n",
            "Requirement already satisfied: importlib-metadata; python_version < \"3.8\" in /usr/local/lib/python3.7/dist-packages (from jsonschema<4,>=3.0.2->asdf>=2.5->specutils) (3.10.1)\n",
            "Requirement already satisfied: typing-extensions>=3.6.4; python_version < \"3.8\" in /usr/local/lib/python3.7/dist-packages (from importlib-metadata; python_version < \"3.8\"->jsonschema<4,>=3.0.2->asdf>=2.5->specutils) (3.7.4.3)\n",
            "Requirement already satisfied: zipp>=0.5 in /usr/local/lib/python3.7/dist-packages (from importlib-metadata; python_version < \"3.8\"->jsonschema<4,>=3.0.2->asdf>=2.5->specutils) (3.4.1)\n"
          ],
          "name": "stdout"
        }
      ]
    },
    {
      "cell_type": "markdown",
      "metadata": {
        "id": "aWruZgfRzLg2"
      },
      "source": [
        "Vamos a poner los datos en el formato apropiado para \"astropy\" y crear un objeto llamado \"Spectrum1D\" que vamos a graficar."
      ]
    },
    {
      "cell_type": "code",
      "metadata": {
        "id": "YSlkwkZSzLg2",
        "colab": {
          "base_uri": "https://localhost:8080/",
          "height": 344
        },
        "outputId": "30ae877b-54ee-4973-a32f-9027bd46136c"
      },
      "source": [
        "from specutils import Spectrum1D\n",
        "spec = Spectrum1D(spectral_axis=wave, flux=flux)"
      ],
      "execution_count": 7,
      "outputs": [
        {
          "output_type": "error",
          "ename": "ContextualVersionConflict",
          "evalue": "ignored",
          "traceback": [
            "\u001b[0;31m---------------------------------------------------------------------------\u001b[0m",
            "\u001b[0;31mContextualVersionConflict\u001b[0m                 Traceback (most recent call last)",
            "\u001b[0;32m<ipython-input-7-d1cbcff5ec2f>\u001b[0m in \u001b[0;36m<module>\u001b[0;34m()\u001b[0m\n\u001b[0;32m----> 1\u001b[0;31m \u001b[0;32mfrom\u001b[0m \u001b[0mspecutils\u001b[0m \u001b[0;32mimport\u001b[0m \u001b[0mSpectrum1D\u001b[0m\u001b[0;34m\u001b[0m\u001b[0;34m\u001b[0m\u001b[0m\n\u001b[0m\u001b[1;32m      2\u001b[0m \u001b[0mspec\u001b[0m \u001b[0;34m=\u001b[0m \u001b[0mSpectrum1D\u001b[0m\u001b[0;34m(\u001b[0m\u001b[0mspectral_axis\u001b[0m\u001b[0;34m=\u001b[0m\u001b[0mwave\u001b[0m\u001b[0;34m,\u001b[0m \u001b[0mflux\u001b[0m\u001b[0;34m=\u001b[0m\u001b[0mflux\u001b[0m\u001b[0;34m)\u001b[0m\u001b[0;34m\u001b[0m\u001b[0;34m\u001b[0m\u001b[0m\n",
            "\u001b[0;32m/usr/local/lib/python3.7/dist-packages/specutils/__init__.py\u001b[0m in \u001b[0;36m<module>\u001b[0;34m()\u001b[0m\n\u001b[1;32m     29\u001b[0m \u001b[0;34m\u001b[0m\u001b[0m\n\u001b[1;32m     30\u001b[0m     \u001b[0;31m# Allow loading spectrum object from top level module\u001b[0m\u001b[0;34m\u001b[0m\u001b[0;34m\u001b[0m\u001b[0;34m\u001b[0m\u001b[0m\n\u001b[0;32m---> 31\u001b[0;31m     \u001b[0;32mfrom\u001b[0m \u001b[0;34m.\u001b[0m\u001b[0mspectra\u001b[0m \u001b[0;32mimport\u001b[0m \u001b[0;34m*\u001b[0m\u001b[0;34m\u001b[0m\u001b[0;34m\u001b[0m\u001b[0m\n\u001b[0m\u001b[1;32m     32\u001b[0m \u001b[0;34m\u001b[0m\u001b[0m\n\u001b[1;32m     33\u001b[0m     \u001b[0;31m# Load the IO functions\u001b[0m\u001b[0;34m\u001b[0m\u001b[0;34m\u001b[0m\u001b[0;34m\u001b[0m\u001b[0m\n",
            "\u001b[0;32m/usr/local/lib/python3.7/dist-packages/specutils/spectra/__init__.py\u001b[0m in \u001b[0;36m<module>\u001b[0;34m()\u001b[0m\n\u001b[1;32m      3\u001b[0m \u001b[0;31m`\u001b[0m\u001b[0;34m~\u001b[0m\u001b[0mastropy\u001b[0m\u001b[0;34m.\u001b[0m\u001b[0mnddata\u001b[0m\u001b[0;34m.\u001b[0m\u001b[0mNDData\u001b[0m\u001b[0;31m`\u001b[0m\u001b[0;34m-\u001b[0m\u001b[0minherited\u001b[0m \u001b[0mclasses\u001b[0m \u001b[0mused\u001b[0m \u001b[0;32mfor\u001b[0m \u001b[0mstoring\u001b[0m \u001b[0mthe\u001b[0m \u001b[0mspectrum\u001b[0m \u001b[0mdata\u001b[0m\u001b[0;34m.\u001b[0m\u001b[0;34m\u001b[0m\u001b[0;34m\u001b[0m\u001b[0m\n\u001b[1;32m      4\u001b[0m \"\"\"\n\u001b[0;32m----> 5\u001b[0;31m \u001b[0;32mfrom\u001b[0m \u001b[0;34m.\u001b[0m\u001b[0mspectrum1d\u001b[0m \u001b[0;32mimport\u001b[0m \u001b[0;34m*\u001b[0m  \u001b[0;31m# noqa\u001b[0m\u001b[0;34m\u001b[0m\u001b[0;34m\u001b[0m\u001b[0m\n\u001b[0m\u001b[1;32m      6\u001b[0m \u001b[0;32mfrom\u001b[0m \u001b[0;34m.\u001b[0m\u001b[0mspectral_region\u001b[0m \u001b[0;32mimport\u001b[0m \u001b[0;34m*\u001b[0m  \u001b[0;31m# noqa\u001b[0m\u001b[0;34m\u001b[0m\u001b[0;34m\u001b[0m\u001b[0m\n\u001b[1;32m      7\u001b[0m \u001b[0;32mfrom\u001b[0m \u001b[0;34m.\u001b[0m\u001b[0mspectrum_collection\u001b[0m \u001b[0;32mimport\u001b[0m \u001b[0;34m*\u001b[0m  \u001b[0;31m# noqa\u001b[0m\u001b[0;34m\u001b[0m\u001b[0;34m\u001b[0m\u001b[0m\n",
            "\u001b[0;32m/usr/local/lib/python3.7/dist-packages/specutils/spectra/spectrum1d.py\u001b[0m in \u001b[0;36m<module>\u001b[0;34m()\u001b[0m\n\u001b[1;32m      9\u001b[0m \u001b[0;34m\u001b[0m\u001b[0m\n\u001b[1;32m     10\u001b[0m \u001b[0;32mfrom\u001b[0m \u001b[0;34m.\u001b[0m\u001b[0mspectral_axis\u001b[0m \u001b[0;32mimport\u001b[0m \u001b[0mSpectralAxis\u001b[0m\u001b[0;34m\u001b[0m\u001b[0;34m\u001b[0m\u001b[0m\n\u001b[0;32m---> 11\u001b[0;31m \u001b[0;32mfrom\u001b[0m \u001b[0;34m.\u001b[0m\u001b[0mspectrum_mixin\u001b[0m \u001b[0;32mimport\u001b[0m \u001b[0mOneDSpectrumMixin\u001b[0m\u001b[0;34m\u001b[0m\u001b[0;34m\u001b[0m\u001b[0m\n\u001b[0m\u001b[1;32m     12\u001b[0m \u001b[0;32mfrom\u001b[0m \u001b[0;34m.\u001b[0m\u001b[0;34m.\u001b[0m\u001b[0mutils\u001b[0m\u001b[0;34m.\u001b[0m\u001b[0mwcs_utils\u001b[0m \u001b[0;32mimport\u001b[0m \u001b[0mgwcs_from_array\u001b[0m\u001b[0;34m\u001b[0m\u001b[0;34m\u001b[0m\u001b[0m\n\u001b[1;32m     13\u001b[0m \u001b[0;34m\u001b[0m\u001b[0m\n",
            "\u001b[0;32m/usr/local/lib/python3.7/dist-packages/specutils/spectra/spectrum_mixin.py\u001b[0m in \u001b[0;36m<module>\u001b[0;34m()\u001b[0m\n\u001b[1;32m      8\u001b[0m \u001b[0;32mfrom\u001b[0m \u001b[0mastropy\u001b[0m\u001b[0;34m.\u001b[0m\u001b[0mwcs\u001b[0m\u001b[0;34m.\u001b[0m\u001b[0mwcsapi\u001b[0m \u001b[0;32mimport\u001b[0m \u001b[0mHighLevelWCSWrapper\u001b[0m\u001b[0;34m\u001b[0m\u001b[0;34m\u001b[0m\u001b[0m\n\u001b[1;32m      9\u001b[0m \u001b[0;34m\u001b[0m\u001b[0m\n\u001b[0;32m---> 10\u001b[0;31m \u001b[0;32mfrom\u001b[0m \u001b[0mspecutils\u001b[0m\u001b[0;34m.\u001b[0m\u001b[0mutils\u001b[0m\u001b[0;34m.\u001b[0m\u001b[0mwcs_utils\u001b[0m \u001b[0;32mimport\u001b[0m \u001b[0mgwcs_from_array\u001b[0m\u001b[0;34m\u001b[0m\u001b[0;34m\u001b[0m\u001b[0m\n\u001b[0m\u001b[1;32m     11\u001b[0m \u001b[0;34m\u001b[0m\u001b[0m\n\u001b[1;32m     12\u001b[0m \u001b[0mDOPPLER_CONVENTIONS\u001b[0m \u001b[0;34m=\u001b[0m \u001b[0;34m{\u001b[0m\u001b[0;34m}\u001b[0m\u001b[0;34m\u001b[0m\u001b[0;34m\u001b[0m\u001b[0m\n",
            "\u001b[0;32m/usr/local/lib/python3.7/dist-packages/specutils/utils/wcs_utils.py\u001b[0m in \u001b[0;36m<module>\u001b[0;34m()\u001b[0m\n\u001b[1;32m      5\u001b[0m \u001b[0;32mfrom\u001b[0m \u001b[0mastropy\u001b[0m\u001b[0;34m.\u001b[0m\u001b[0mmodeling\u001b[0m\u001b[0;34m.\u001b[0m\u001b[0mmodels\u001b[0m \u001b[0;32mimport\u001b[0m \u001b[0mShift\u001b[0m\u001b[0;34m\u001b[0m\u001b[0;34m\u001b[0m\u001b[0m\n\u001b[1;32m      6\u001b[0m \u001b[0;32mfrom\u001b[0m \u001b[0mastropy\u001b[0m\u001b[0;34m.\u001b[0m\u001b[0mmodeling\u001b[0m\u001b[0;34m.\u001b[0m\u001b[0mtabular\u001b[0m \u001b[0;32mimport\u001b[0m \u001b[0mTabular1D\u001b[0m\u001b[0;34m\u001b[0m\u001b[0;34m\u001b[0m\u001b[0m\n\u001b[0;32m----> 7\u001b[0;31m \u001b[0;32mfrom\u001b[0m \u001b[0mgwcs\u001b[0m \u001b[0;32mimport\u001b[0m \u001b[0mWCS\u001b[0m \u001b[0;32mas\u001b[0m \u001b[0mGWCS\u001b[0m\u001b[0;34m\u001b[0m\u001b[0;34m\u001b[0m\u001b[0m\n\u001b[0m\u001b[1;32m      8\u001b[0m \u001b[0;32mfrom\u001b[0m \u001b[0mgwcs\u001b[0m \u001b[0;32mimport\u001b[0m \u001b[0mcoordinate_frames\u001b[0m \u001b[0;32mas\u001b[0m \u001b[0mcf\u001b[0m\u001b[0;34m\u001b[0m\u001b[0;34m\u001b[0m\u001b[0m\n\u001b[1;32m      9\u001b[0m \u001b[0;34m\u001b[0m\u001b[0m\n",
            "\u001b[0;32m/usr/local/lib/python3.7/dist-packages/gwcs/__init__.py\u001b[0m in \u001b[0;36m<module>\u001b[0;34m()\u001b[0m\n\u001b[1;32m     64\u001b[0m \u001b[0;34m\u001b[0m\u001b[0m\n\u001b[1;32m     65\u001b[0m \u001b[0;32mtry\u001b[0m\u001b[0;34m:\u001b[0m\u001b[0;34m\u001b[0m\u001b[0;34m\u001b[0m\u001b[0m\n\u001b[0;32m---> 66\u001b[0;31m     \u001b[0m__version__\u001b[0m \u001b[0;34m=\u001b[0m \u001b[0mget_distribution\u001b[0m\u001b[0;34m(\u001b[0m\u001b[0m__name__\u001b[0m\u001b[0;34m)\u001b[0m\u001b[0;34m.\u001b[0m\u001b[0mversion\u001b[0m\u001b[0;34m\u001b[0m\u001b[0;34m\u001b[0m\u001b[0m\n\u001b[0m\u001b[1;32m     67\u001b[0m \u001b[0;32mexcept\u001b[0m \u001b[0mDistributionNotFound\u001b[0m\u001b[0;34m:\u001b[0m  \u001b[0;31m# pragma: no cover\u001b[0m\u001b[0;34m\u001b[0m\u001b[0;34m\u001b[0m\u001b[0m\n\u001b[1;32m     68\u001b[0m     \u001b[0;31m# package is not installed\u001b[0m\u001b[0;34m\u001b[0m\u001b[0;34m\u001b[0m\u001b[0;34m\u001b[0m\u001b[0m\n",
            "\u001b[0;32m/usr/local/lib/python3.7/dist-packages/pkg_resources/__init__.py\u001b[0m in \u001b[0;36mget_distribution\u001b[0;34m(dist)\u001b[0m\n\u001b[1;32m    464\u001b[0m         \u001b[0mdist\u001b[0m \u001b[0;34m=\u001b[0m \u001b[0mRequirement\u001b[0m\u001b[0;34m.\u001b[0m\u001b[0mparse\u001b[0m\u001b[0;34m(\u001b[0m\u001b[0mdist\u001b[0m\u001b[0;34m)\u001b[0m\u001b[0;34m\u001b[0m\u001b[0;34m\u001b[0m\u001b[0m\n\u001b[1;32m    465\u001b[0m     \u001b[0;32mif\u001b[0m \u001b[0misinstance\u001b[0m\u001b[0;34m(\u001b[0m\u001b[0mdist\u001b[0m\u001b[0;34m,\u001b[0m \u001b[0mRequirement\u001b[0m\u001b[0;34m)\u001b[0m\u001b[0;34m:\u001b[0m\u001b[0;34m\u001b[0m\u001b[0;34m\u001b[0m\u001b[0m\n\u001b[0;32m--> 466\u001b[0;31m         \u001b[0mdist\u001b[0m \u001b[0;34m=\u001b[0m \u001b[0mget_provider\u001b[0m\u001b[0;34m(\u001b[0m\u001b[0mdist\u001b[0m\u001b[0;34m)\u001b[0m\u001b[0;34m\u001b[0m\u001b[0;34m\u001b[0m\u001b[0m\n\u001b[0m\u001b[1;32m    467\u001b[0m     \u001b[0;32mif\u001b[0m \u001b[0;32mnot\u001b[0m \u001b[0misinstance\u001b[0m\u001b[0;34m(\u001b[0m\u001b[0mdist\u001b[0m\u001b[0;34m,\u001b[0m \u001b[0mDistribution\u001b[0m\u001b[0;34m)\u001b[0m\u001b[0;34m:\u001b[0m\u001b[0;34m\u001b[0m\u001b[0;34m\u001b[0m\u001b[0m\n\u001b[1;32m    468\u001b[0m         \u001b[0;32mraise\u001b[0m \u001b[0mTypeError\u001b[0m\u001b[0;34m(\u001b[0m\u001b[0;34m\"Expected string, Requirement, or Distribution\"\u001b[0m\u001b[0;34m,\u001b[0m \u001b[0mdist\u001b[0m\u001b[0;34m)\u001b[0m\u001b[0;34m\u001b[0m\u001b[0;34m\u001b[0m\u001b[0m\n",
            "\u001b[0;32m/usr/local/lib/python3.7/dist-packages/pkg_resources/__init__.py\u001b[0m in \u001b[0;36mget_provider\u001b[0;34m(moduleOrReq)\u001b[0m\n\u001b[1;32m    340\u001b[0m     \u001b[0;34m\"\"\"Return an IResourceProvider for the named module or requirement\"\"\"\u001b[0m\u001b[0;34m\u001b[0m\u001b[0;34m\u001b[0m\u001b[0m\n\u001b[1;32m    341\u001b[0m     \u001b[0;32mif\u001b[0m \u001b[0misinstance\u001b[0m\u001b[0;34m(\u001b[0m\u001b[0mmoduleOrReq\u001b[0m\u001b[0;34m,\u001b[0m \u001b[0mRequirement\u001b[0m\u001b[0;34m)\u001b[0m\u001b[0;34m:\u001b[0m\u001b[0;34m\u001b[0m\u001b[0;34m\u001b[0m\u001b[0m\n\u001b[0;32m--> 342\u001b[0;31m         \u001b[0;32mreturn\u001b[0m \u001b[0mworking_set\u001b[0m\u001b[0;34m.\u001b[0m\u001b[0mfind\u001b[0m\u001b[0;34m(\u001b[0m\u001b[0mmoduleOrReq\u001b[0m\u001b[0;34m)\u001b[0m \u001b[0;32mor\u001b[0m \u001b[0mrequire\u001b[0m\u001b[0;34m(\u001b[0m\u001b[0mstr\u001b[0m\u001b[0;34m(\u001b[0m\u001b[0mmoduleOrReq\u001b[0m\u001b[0;34m)\u001b[0m\u001b[0;34m)\u001b[0m\u001b[0;34m[\u001b[0m\u001b[0;36m0\u001b[0m\u001b[0;34m]\u001b[0m\u001b[0;34m\u001b[0m\u001b[0;34m\u001b[0m\u001b[0m\n\u001b[0m\u001b[1;32m    343\u001b[0m     \u001b[0;32mtry\u001b[0m\u001b[0;34m:\u001b[0m\u001b[0;34m\u001b[0m\u001b[0;34m\u001b[0m\u001b[0m\n\u001b[1;32m    344\u001b[0m         \u001b[0mmodule\u001b[0m \u001b[0;34m=\u001b[0m \u001b[0msys\u001b[0m\u001b[0;34m.\u001b[0m\u001b[0mmodules\u001b[0m\u001b[0;34m[\u001b[0m\u001b[0mmoduleOrReq\u001b[0m\u001b[0;34m]\u001b[0m\u001b[0;34m\u001b[0m\u001b[0;34m\u001b[0m\u001b[0m\n",
            "\u001b[0;32m/usr/local/lib/python3.7/dist-packages/pkg_resources/__init__.py\u001b[0m in \u001b[0;36mrequire\u001b[0;34m(self, *requirements)\u001b[0m\n\u001b[1;32m    884\u001b[0m         \u001b[0mincluded\u001b[0m\u001b[0;34m,\u001b[0m \u001b[0meven\u001b[0m \u001b[0;32mif\u001b[0m \u001b[0mthey\u001b[0m \u001b[0mwere\u001b[0m \u001b[0malready\u001b[0m \u001b[0mactivated\u001b[0m \u001b[0;32min\u001b[0m \u001b[0mthis\u001b[0m \u001b[0mworking\u001b[0m \u001b[0mset\u001b[0m\u001b[0;34m.\u001b[0m\u001b[0;34m\u001b[0m\u001b[0;34m\u001b[0m\u001b[0m\n\u001b[1;32m    885\u001b[0m         \"\"\"\n\u001b[0;32m--> 886\u001b[0;31m         \u001b[0mneeded\u001b[0m \u001b[0;34m=\u001b[0m \u001b[0mself\u001b[0m\u001b[0;34m.\u001b[0m\u001b[0mresolve\u001b[0m\u001b[0;34m(\u001b[0m\u001b[0mparse_requirements\u001b[0m\u001b[0;34m(\u001b[0m\u001b[0mrequirements\u001b[0m\u001b[0;34m)\u001b[0m\u001b[0;34m)\u001b[0m\u001b[0;34m\u001b[0m\u001b[0;34m\u001b[0m\u001b[0m\n\u001b[0m\u001b[1;32m    887\u001b[0m \u001b[0;34m\u001b[0m\u001b[0m\n\u001b[1;32m    888\u001b[0m         \u001b[0;32mfor\u001b[0m \u001b[0mdist\u001b[0m \u001b[0;32min\u001b[0m \u001b[0mneeded\u001b[0m\u001b[0;34m:\u001b[0m\u001b[0;34m\u001b[0m\u001b[0;34m\u001b[0m\u001b[0m\n",
            "\u001b[0;32m/usr/local/lib/python3.7/dist-packages/pkg_resources/__init__.py\u001b[0m in \u001b[0;36mresolve\u001b[0;34m(self, requirements, env, installer, replace_conflicting, extras)\u001b[0m\n\u001b[1;32m    775\u001b[0m                 \u001b[0;31m# Oops, the \"best\" so far conflicts with a dependency\u001b[0m\u001b[0;34m\u001b[0m\u001b[0;34m\u001b[0m\u001b[0;34m\u001b[0m\u001b[0m\n\u001b[1;32m    776\u001b[0m                 \u001b[0mdependent_req\u001b[0m \u001b[0;34m=\u001b[0m \u001b[0mrequired_by\u001b[0m\u001b[0;34m[\u001b[0m\u001b[0mreq\u001b[0m\u001b[0;34m]\u001b[0m\u001b[0;34m\u001b[0m\u001b[0;34m\u001b[0m\u001b[0m\n\u001b[0;32m--> 777\u001b[0;31m                 \u001b[0;32mraise\u001b[0m \u001b[0mVersionConflict\u001b[0m\u001b[0;34m(\u001b[0m\u001b[0mdist\u001b[0m\u001b[0;34m,\u001b[0m \u001b[0mreq\u001b[0m\u001b[0;34m)\u001b[0m\u001b[0;34m.\u001b[0m\u001b[0mwith_context\u001b[0m\u001b[0;34m(\u001b[0m\u001b[0mdependent_req\u001b[0m\u001b[0;34m)\u001b[0m\u001b[0;34m\u001b[0m\u001b[0;34m\u001b[0m\u001b[0m\n\u001b[0m\u001b[1;32m    778\u001b[0m \u001b[0;34m\u001b[0m\u001b[0m\n\u001b[1;32m    779\u001b[0m             \u001b[0;31m# push the new requirements onto the stack\u001b[0m\u001b[0;34m\u001b[0m\u001b[0;34m\u001b[0m\u001b[0;34m\u001b[0m\u001b[0m\n",
            "\u001b[0;31mContextualVersionConflict\u001b[0m: (jsonschema 2.6.0 (/usr/local/lib/python3.7/dist-packages), Requirement.parse('jsonschema<4,>=3.0.2'), {'asdf'})"
          ]
        }
      ]
    },
    {
      "cell_type": "markdown",
      "metadata": {
        "id": "HdpkbUu2zLg2"
      },
      "source": [
        "Graficamos el espectro."
      ]
    },
    {
      "cell_type": "code",
      "metadata": {
        "id": "FV7tE6VczLg3"
      },
      "source": [
        "f, ax = plt.subplots()  \n",
        "\n",
        "#ax.step(spec.spectral_axis, spec.flux)\n",
        "#plt.xlabel('Rest Wavelength ({})'.format(spec.spectral_axis.unit)) \n",
        "#plt.ylabel('Flux ({})'.format(spec.flux.unit))\n",
        "ax.plot(wave, flux)\n",
        "plt.xlabel('Rest Wavelength (A)') \n",
        "plt.ylabel('Flux (cm/s/cm2/A)');"
      ],
      "execution_count": null,
      "outputs": []
    },
    {
      "cell_type": "markdown",
      "metadata": {
        "id": "aeaOO9CRzLg5"
      },
      "source": [
        "# Corrección por polvo en la Vía Láctea"
      ]
    },
    {
      "cell_type": "markdown",
      "metadata": {
        "id": "iE6Er76CzLg5"
      },
      "source": [
        "INSTRUCCIÓN. Vamos a corregir la luz de las estrellas que se encuentran en la galaxia KISSR 298 por extinción debida al polvo en nuestra Galaxia.\n",
        "\n",
        "Para esto, necesitamos el exceso de color debido al polvo en nuestra Galaxia, en la dirección de KISSR 298. \n",
        "\n",
        "Para calcular el exceso de color, E(B-V), primero encuentra la extinción Galáctica en las bandas Landolt B y V, yendo a la liga de abajo, introduciendo el nombre del objeto, luego yendo a la pestaña de Galactic Extinction, y finalmente yendo a la columna \"Galactic Extinctions\".\n",
        "https://ned.ipac.caltech.edu/\n"
      ]
    },
    {
      "cell_type": "code",
      "metadata": {
        "id": "9KMXzk9obA4v",
        "colab": {
          "base_uri": "https://localhost:8080/"
        },
        "outputId": "4fe8b264-95ca-4f2d-fd3e-17ce7022b930"
      },
      "source": [
        "#Still being tested\n",
        "#Fetch extinction table from the InfraRed Science Archive's (IRSA) Galactic Dust Reddening and Extinction \n",
        "# URL: https://irsa.ipac.caltech.edu/applications/DUST/index.html\n",
        "from astroquery.irsa_dust import IrsaDust\n",
        "#Have the `coords` module automatically look up the coordinates from the name of the source \n",
        "pos = coords.SkyCoord.from_name(\"KISSR 298\")\n",
        "table = IrsaDust.get_extinction_table(pos)\n",
        "#Get the extinction values for the CTIO B and V filters\n",
        "# This grabs the A_lambda values computed according to the Schlafly & Finkbeiner (2011) prescription,\n",
        "#     which extends the Cardelli et al. (1989; CCM89) law to longer wavelengths.\n",
        "A_B = table['A_SandF'][table['Filter_name'] == 'CTIO B'] # extinción Galáctica en la banda B\n",
        "A_V = table['A_SandF'][table['Filter_name'] == 'CTIO V'] # extinción Galáctica en la banda V\n",
        "ebvmw = A_B - A_V # exceso de color E(B-V) de la Vía Láctea (Milky Way)\n",
        "print(ebvmw.quantity)"
      ],
      "execution_count": 18,
      "outputs": [
        {
          "output_type": "stream",
          "text": [
            "[0.017] mag\n"
          ],
          "name": "stdout"
        }
      ]
    },
    {
      "cell_type": "markdown",
      "metadata": {
        "id": "ERQKjW_S0wZ9"
      },
      "source": [
        "Importamos un paquete necesario."
      ]
    },
    {
      "cell_type": "code",
      "metadata": {
        "id": "2Ezo6mkw0w6f",
        "colab": {
          "base_uri": "https://localhost:8080/"
        },
        "outputId": "8b6463ae-eb9d-407b-b597-3c9fa3a03465"
      },
      "source": [
        "import sys\n",
        "# Install a pip package in the current Jupyter kernel if it isn't already installed\n",
        "try:\n",
        "  # Import this model: Cardelli, Clayton & Mathis (1989) with A_V = 1 and R_V = 3.1\n",
        "  from dust_extinction.parameter_averages import CCM89\n",
        "except:\n",
        "  !{sys.executable} -m pip install dust_extinction\n",
        "  # Import this model: Cardelli, Clayton & Mathis (1989) with A_V = 1 and R_V = 3.1\n",
        "  from dust_extinction.parameter_averages import CCM89"
      ],
      "execution_count": 19,
      "outputs": [
        {
          "output_type": "stream",
          "text": [
            "Collecting dust_extinction\n",
            "\u001b[?25l  Downloading https://files.pythonhosted.org/packages/17/69/75d55a7fdfafd3c2fd7ca520b4a348e744597cb7fcfd17dcb27cce418367/dust_extinction-1.0.tar.gz (439kB)\n",
            "\r\u001b[K     |▊                               | 10kB 16.5MB/s eta 0:00:01\r\u001b[K     |█▌                              | 20kB 21.2MB/s eta 0:00:01\r\u001b[K     |██▎                             | 30kB 13.6MB/s eta 0:00:01\r\u001b[K     |███                             | 40kB 11.0MB/s eta 0:00:01\r\u001b[K     |███▊                            | 51kB 7.2MB/s eta 0:00:01\r\u001b[K     |████▌                           | 61kB 7.7MB/s eta 0:00:01\r\u001b[K     |█████▏                          | 71kB 8.2MB/s eta 0:00:01\r\u001b[K     |██████                          | 81kB 9.0MB/s eta 0:00:01\r\u001b[K     |██████▊                         | 92kB 8.0MB/s eta 0:00:01\r\u001b[K     |███████▌                        | 102kB 8.5MB/s eta 0:00:01\r\u001b[K     |████████▏                       | 112kB 8.5MB/s eta 0:00:01\r\u001b[K     |█████████                       | 122kB 8.5MB/s eta 0:00:01\r\u001b[K     |█████████▊                      | 133kB 8.5MB/s eta 0:00:01\r\u001b[K     |██████████▍                     | 143kB 8.5MB/s eta 0:00:01\r\u001b[K     |███████████▏                    | 153kB 8.5MB/s eta 0:00:01\r\u001b[K     |████████████                    | 163kB 8.5MB/s eta 0:00:01\r\u001b[K     |████████████▊                   | 174kB 8.5MB/s eta 0:00:01\r\u001b[K     |█████████████▍                  | 184kB 8.5MB/s eta 0:00:01\r\u001b[K     |██████████████▏                 | 194kB 8.5MB/s eta 0:00:01\r\u001b[K     |███████████████                 | 204kB 8.5MB/s eta 0:00:01\r\u001b[K     |███████████████▋                | 215kB 8.5MB/s eta 0:00:01\r\u001b[K     |████████████████▍               | 225kB 8.5MB/s eta 0:00:01\r\u001b[K     |█████████████████▏              | 235kB 8.5MB/s eta 0:00:01\r\u001b[K     |██████████████████              | 245kB 8.5MB/s eta 0:00:01\r\u001b[K     |██████████████████▋             | 256kB 8.5MB/s eta 0:00:01\r\u001b[K     |███████████████████▍            | 266kB 8.5MB/s eta 0:00:01\r\u001b[K     |████████████████████▏           | 276kB 8.5MB/s eta 0:00:01\r\u001b[K     |████████████████████▉           | 286kB 8.5MB/s eta 0:00:01\r\u001b[K     |█████████████████████▋          | 296kB 8.5MB/s eta 0:00:01\r\u001b[K     |██████████████████████▍         | 307kB 8.5MB/s eta 0:00:01\r\u001b[K     |███████████████████████         | 317kB 8.5MB/s eta 0:00:01\r\u001b[K     |███████████████████████▉        | 327kB 8.5MB/s eta 0:00:01\r\u001b[K     |████████████████████████▋       | 337kB 8.5MB/s eta 0:00:01\r\u001b[K     |█████████████████████████▍      | 348kB 8.5MB/s eta 0:00:01\r\u001b[K     |██████████████████████████      | 358kB 8.5MB/s eta 0:00:01\r\u001b[K     |██████████████████████████▉     | 368kB 8.5MB/s eta 0:00:01\r\u001b[K     |███████████████████████████▋    | 378kB 8.5MB/s eta 0:00:01\r\u001b[K     |████████████████████████████▎   | 389kB 8.5MB/s eta 0:00:01\r\u001b[K     |█████████████████████████████   | 399kB 8.5MB/s eta 0:00:01\r\u001b[K     |█████████████████████████████▉  | 409kB 8.5MB/s eta 0:00:01\r\u001b[K     |██████████████████████████████▋ | 419kB 8.5MB/s eta 0:00:01\r\u001b[K     |███████████████████████████████▎| 430kB 8.5MB/s eta 0:00:01\r\u001b[K     |████████████████████████████████| 440kB 8.5MB/s \n",
            "\u001b[?25h  Installing build dependencies ... \u001b[?25l\u001b[?25hdone\n",
            "  Getting requirements to build wheel ... \u001b[?25l\u001b[?25hdone\n",
            "    Preparing wheel metadata ... \u001b[?25l\u001b[?25hdone\n",
            "Requirement already satisfied: astropy in /usr/local/lib/python3.7/dist-packages (from dust_extinction) (4.2.1)\n",
            "Requirement already satisfied: scipy in /usr/local/lib/python3.7/dist-packages (from dust_extinction) (1.4.1)\n",
            "Requirement already satisfied: pyerfa in /usr/local/lib/python3.7/dist-packages (from astropy->dust_extinction) (1.7.2)\n",
            "Requirement already satisfied: numpy>=1.17 in /usr/local/lib/python3.7/dist-packages (from astropy->dust_extinction) (1.19.5)\n",
            "Building wheels for collected packages: dust-extinction\n",
            "  Building wheel for dust-extinction (PEP 517) ... \u001b[?25l\u001b[?25hdone\n",
            "  Created wheel for dust-extinction: filename=dust_extinction-1.0-cp37-none-any.whl size=424649 sha256=847ea2f2087de908773ad18f4e88e5519694eb7d1af843832c97d3dc712793d5\n",
            "  Stored in directory: /root/.cache/pip/wheels/8f/b4/78/74e5b35146ac5211356853e2b7bcb9074973941a40372f03d5\n",
            "Successfully built dust-extinction\n",
            "Installing collected packages: dust-extinction\n",
            "Successfully installed dust-extinction-1.0\n"
          ],
          "name": "stdout"
        }
      ]
    },
    {
      "cell_type": "code",
      "metadata": {
        "id": "hl4MG42rzLg6"
      },
      "source": [
        "#from scipy.optimize import curve_fit\n",
        "\n",
        "# Define the reddening model\n",
        "ext = CCM89(Rv=3.1)\n",
        "\n",
        "# Flujo corregido (unextinguished flux )\n",
        "# uflux = flux / ext.extinguish(1/wave.to(u.micron), Ebv=ebvmw) \n",
        "uflux = flux / ext.extinguish(1/wave.to(u.micron), Ebv=0.1) #This should really be Ebv=ebvmw, but has been exaggerated for effect."
      ],
      "execution_count": 20,
      "outputs": []
    },
    {
      "cell_type": "markdown",
      "metadata": {
        "id": "by4rrPejzLg6"
      },
      "source": [
        "Graficamos el espectro antes y después de la corrección por enrojecimiento en la Vía Láctea."
      ]
    },
    {
      "cell_type": "code",
      "metadata": {
        "id": "F3Xe1pIIzLg7",
        "colab": {
          "base_uri": "https://localhost:8080/",
          "height": 499
        },
        "outputId": "d424052f-c8ac-44ae-8552-1d4181262082"
      },
      "source": [
        "f, ax = plt.subplots()  \n",
        "\n",
        "ax.step(spec.spectral_axis, spec.flux)\n",
        "ax.plot(wave,uflux)\n",
        "plt.xlabel('Observed Wavelength ({})'.format(spec.spectral_axis.unit)) \n",
        "plt.ylabel('Flux ({})'.format(spec.flux.unit))\n",
        "_ = plt.ylim(0,5e-16)"
      ],
      "execution_count": 21,
      "outputs": [
        {
          "output_type": "error",
          "ename": "NameError",
          "evalue": "ignored",
          "traceback": [
            "\u001b[0;31m---------------------------------------------------------------------------\u001b[0m",
            "\u001b[0;31mNameError\u001b[0m                                 Traceback (most recent call last)",
            "\u001b[0;32m<ipython-input-21-849896818349>\u001b[0m in \u001b[0;36m<module>\u001b[0;34m()\u001b[0m\n\u001b[1;32m      1\u001b[0m \u001b[0mf\u001b[0m\u001b[0;34m,\u001b[0m \u001b[0max\u001b[0m \u001b[0;34m=\u001b[0m \u001b[0mplt\u001b[0m\u001b[0;34m.\u001b[0m\u001b[0msubplots\u001b[0m\u001b[0;34m(\u001b[0m\u001b[0;34m)\u001b[0m\u001b[0;34m\u001b[0m\u001b[0;34m\u001b[0m\u001b[0m\n\u001b[1;32m      2\u001b[0m \u001b[0;34m\u001b[0m\u001b[0m\n\u001b[0;32m----> 3\u001b[0;31m \u001b[0max\u001b[0m\u001b[0;34m.\u001b[0m\u001b[0mstep\u001b[0m\u001b[0;34m(\u001b[0m\u001b[0mspec\u001b[0m\u001b[0;34m.\u001b[0m\u001b[0mspectral_axis\u001b[0m\u001b[0;34m,\u001b[0m \u001b[0mspec\u001b[0m\u001b[0;34m.\u001b[0m\u001b[0mflux\u001b[0m\u001b[0;34m)\u001b[0m\u001b[0;34m\u001b[0m\u001b[0;34m\u001b[0m\u001b[0m\n\u001b[0m\u001b[1;32m      4\u001b[0m \u001b[0max\u001b[0m\u001b[0;34m.\u001b[0m\u001b[0mplot\u001b[0m\u001b[0;34m(\u001b[0m\u001b[0mwave\u001b[0m\u001b[0;34m,\u001b[0m\u001b[0muflux\u001b[0m\u001b[0;34m)\u001b[0m\u001b[0;34m\u001b[0m\u001b[0;34m\u001b[0m\u001b[0m\n\u001b[1;32m      5\u001b[0m \u001b[0mplt\u001b[0m\u001b[0;34m.\u001b[0m\u001b[0mxlabel\u001b[0m\u001b[0;34m(\u001b[0m\u001b[0;34m'Observed Wavelength ({})'\u001b[0m\u001b[0;34m.\u001b[0m\u001b[0mformat\u001b[0m\u001b[0;34m(\u001b[0m\u001b[0mspec\u001b[0m\u001b[0;34m.\u001b[0m\u001b[0mspectral_axis\u001b[0m\u001b[0;34m.\u001b[0m\u001b[0munit\u001b[0m\u001b[0;34m)\u001b[0m\u001b[0;34m)\u001b[0m\u001b[0;34m\u001b[0m\u001b[0;34m\u001b[0m\u001b[0m\n",
            "\u001b[0;31mNameError\u001b[0m: name 'spec' is not defined"
          ]
        },
        {
          "output_type": "display_data",
          "data": {
            "image/png": "[encoded data removed]",
            "text/plain": [
              "<Figure size 432x288 with 1 Axes>"
            ]
          },
          "metadata": {
            "tags": [],
            "needs_background": "light"
          }
        }
      ]
    },
    {
      "cell_type": "markdown",
      "metadata": {
        "id": "wvFhBuTnzLg7"
      },
      "source": [
        "# Corrección por corrimiento al rojo"
      ]
    },
    {
      "cell_type": "markdown",
      "metadata": {
        "id": "jVpQTEyczLg7"
      },
      "source": [
        "INSTRUCCIÓN. Determina el corrimiento al rojo, z, de la galaxia.\n",
        "Para esto, identifica las líneas espectrales de H-alfa y H-beta del hidrógeno. Si la galaxia no se estuviera ni alejando de ni acercando a nostros, las longitudes de onda en Agstroms de estas líneas fuertes del espectro estarían en 6563 y 4861, respectivamente. "
      ]
    },
    {
      "cell_type": "code",
      "metadata": {
        "id": "YXkm6pb6zLg7"
      },
      "source": [
        "z=0.04899 # Corrimiento al rojo encontrado\n",
        "\n",
        "#Automatic retrieval using astroquery's ned module\n",
        "from astroquery.ned import Ned\n",
        "result_table = Ned.query_object(\"KISSR 298\")\n",
        "z = result_table['Redshift']"
      ],
      "execution_count": 24,
      "outputs": []
    },
    {
      "cell_type": "code",
      "metadata": {
        "id": "22zWUsYGzLg9"
      },
      "source": [
        "wave_rest = wave / (1 + z)"
      ],
      "execution_count": null,
      "outputs": []
    },
    {
      "cell_type": "markdown",
      "metadata": {
        "id": "h0MJUQiszLg9"
      },
      "source": [
        "Lo graficamos antes y después de la corrección por corrimiento al rojo."
      ]
    },
    {
      "cell_type": "code",
      "metadata": {
        "id": "_6mgjfAMzLg9"
      },
      "source": [
        "f, ax = plt.subplots()  \n",
        "\n",
        "ax.plot(wave, uflux)\n",
        "ax.plot(wave_rest, uflux)\n",
        "plt.xlabel('Rest Wavelength ({})'.format(spec.spectral_axis.unit)) \n",
        "plt.ylabel('Flux ({})'.format(spec.flux.unit));"
      ],
      "execution_count": null,
      "outputs": []
    },
    {
      "cell_type": "code",
      "metadata": {
        "id": "EAeFCZepvgOw"
      },
      "source": [
        ""
      ],
      "execution_count": 22,
      "outputs": []
    }
  ]
}