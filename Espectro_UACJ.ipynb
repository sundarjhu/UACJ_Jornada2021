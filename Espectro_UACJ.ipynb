{
  "nbformat": 4,
  "nbformat_minor": 0,
  "metadata": {
    "kernelspec": {
      "display_name": "Python 3",
      "language": "python",
      "name": "python3"
    },
    "language_info": {
      "codemirror_mode": {
        "name": "ipython",
        "version": 3
      },
      "file_extension": ".py",
      "mimetype": "text/x-python",
      "name": "python",
      "nbconvert_exporter": "python",
      "pygments_lexer": "ipython3",
      "version": "3.8.3"
    },
    "colab": {
      "name": "Espectro_UACJ.ipynb",
      "provenance": [],
      "include_colab_link": true
    }
  },
  "cells": [
    {
      "cell_type": "markdown",
      "metadata": {
        "id": "view-in-github",
        "colab_type": "text"
      },
      "source": [
        "<a href=\"https://colab.research.google.com/github/sundarjhu/UACJ_Jornada2021/blob/main/Espectro_UACJ.ipynb\" target=\"_parent\"><img src=\"https://colab.research.google.com/assets/colab-badge.svg\" alt=\"Open In Colab\"/></a>"
      ]
    },
    {
      "cell_type": "code",
      "metadata": {
        "id": "pYViL32bIbop"
      },
      "source": [
        "__author__ = 'Aida Wofford <awofford@astro.unam.mx>, Sundar Srinivasan <s.srinivasan@irya.unam.mx>'\n",
        "__version__ = '20210421'\n",
        "__datasets__ = ['SDSS']  # datasets used in this notebook\n",
        "__keywords__ = ['UACJ Workshop 2021', 'SDSS', 'spectrum'], # keywords relevant to this notebook"
      ],
      "execution_count": 1,
      "outputs": []
    },
    {
      "cell_type": "code",
      "metadata": {
        "id": "aRnrk2EJKAT3",
        "outputId": "4af427ad-5081-45bf-ed2d-185c0a7d1a63",
        "colab": {
          "base_uri": "https://localhost:8080/"
        }
      },
      "source": [
        "import warnings, numpy as np\n",
        "warnings.filterwarnings(\"ignore\", category = np.VisibleDeprecationWarning)\n",
        "warnings.filterwarnings(\"ignore\", category = RuntimeWarning)\n",
        "try:\n",
        "  from astroquery.sdss import SDSS\n",
        "except:\n",
        "  !pip install astroquery\n",
        "  from astroquery.sdss import SDSS"
      ],
      "execution_count": 2,
      "outputs": [
        {
          "output_type": "stream",
          "text": [
            "Collecting astroquery\n",
            "\u001b[?25l  Downloading https://files.pythonhosted.org/packages/1b/f8/4690523783691ed816b3469c3ec611af3798594d37ade510dd918d59f57e/astroquery-0.4.1.tar.gz (6.5MB)\n",
            "\u001b[K     |████████████████████████████████| 6.5MB 18.2MB/s \n",
            "\u001b[?25hRequirement already satisfied: numpy in /usr/local/lib/python3.7/dist-packages (from astroquery) (1.19.5)\n",
            "Requirement already satisfied: astropy>=3.1 in /usr/local/lib/python3.7/dist-packages (from astroquery) (4.2.1)\n",
            "Requirement already satisfied: requests>=2.4.3 in /usr/local/lib/python3.7/dist-packages (from astroquery) (2.23.0)\n",
            "Collecting keyring>=4.0\n",
            "  Downloading https://files.pythonhosted.org/packages/26/f9/41230ac47f738f1ba66676dc8d3b30ca5b1f9eb0230fc204bcd9836c4ae9/keyring-23.0.1-py3-none-any.whl\n",
            "Requirement already satisfied: beautifulsoup4>=4.3.2 in /usr/local/lib/python3.7/dist-packages (from astroquery) (4.6.3)\n",
            "Requirement already satisfied: html5lib>=0.999 in /usr/local/lib/python3.7/dist-packages (from astroquery) (1.0.1)\n",
            "Requirement already satisfied: six in /usr/local/lib/python3.7/dist-packages (from astroquery) (1.15.0)\n",
            "Requirement already satisfied: pyerfa in /usr/local/lib/python3.7/dist-packages (from astropy>=3.1->astroquery) (1.7.2)\n",
            "Requirement already satisfied: urllib3!=1.25.0,!=1.25.1,<1.26,>=1.21.1 in /usr/local/lib/python3.7/dist-packages (from requests>=2.4.3->astroquery) (1.24.3)\n",
            "Requirement already satisfied: certifi>=2017.4.17 in /usr/local/lib/python3.7/dist-packages (from requests>=2.4.3->astroquery) (2020.12.5)\n",
            "Requirement already satisfied: idna<3,>=2.5 in /usr/local/lib/python3.7/dist-packages (from requests>=2.4.3->astroquery) (2.10)\n",
            "Requirement already satisfied: chardet<4,>=3.0.2 in /usr/local/lib/python3.7/dist-packages (from requests>=2.4.3->astroquery) (3.0.4)\n",
            "Collecting SecretStorage>=3.2; sys_platform == \"linux\"\n",
            "  Downloading https://files.pythonhosted.org/packages/d9/1e/29cd69fdac7391aa51510dfd42aa70b4e6a826c8cd019ee2a8ab9ec0777f/SecretStorage-3.3.1-py3-none-any.whl\n",
            "Requirement already satisfied: importlib-metadata>=3.6 in /usr/local/lib/python3.7/dist-packages (from keyring>=4.0->astroquery) (3.10.1)\n",
            "Collecting jeepney>=0.4.2; sys_platform == \"linux\"\n",
            "\u001b[?25l  Downloading https://files.pythonhosted.org/packages/51/b0/a6ea72741aaac3f37fb96d195e4ee576a103c4c04e279bc6b446a70960e1/jeepney-0.6.0-py3-none-any.whl (45kB)\n",
            "\u001b[K     |████████████████████████████████| 51kB 5.9MB/s \n",
            "\u001b[?25hRequirement already satisfied: webencodings in /usr/local/lib/python3.7/dist-packages (from html5lib>=0.999->astroquery) (0.5.1)\n",
            "Collecting cryptography>=2.0\n",
            "\u001b[?25l  Downloading https://files.pythonhosted.org/packages/b2/26/7af637e6a7e87258b963f1731c5982fb31cd507f0d90d91836e446955d02/cryptography-3.4.7-cp36-abi3-manylinux2014_x86_64.whl (3.2MB)\n",
            "\u001b[K     |████████████████████████████████| 3.2MB 41.4MB/s \n",
            "\u001b[?25hRequirement already satisfied: typing-extensions>=3.6.4; python_version < \"3.8\" in /usr/local/lib/python3.7/dist-packages (from importlib-metadata>=3.6->keyring>=4.0->astroquery) (3.7.4.3)\n",
            "Requirement already satisfied: zipp>=0.5 in /usr/local/lib/python3.7/dist-packages (from importlib-metadata>=3.6->keyring>=4.0->astroquery) (3.4.1)\n",
            "Requirement already satisfied: cffi>=1.12 in /usr/local/lib/python3.7/dist-packages (from cryptography>=2.0->SecretStorage>=3.2; sys_platform == \"linux\"->keyring>=4.0->astroquery) (1.14.5)\n",
            "Requirement already satisfied: pycparser in /usr/local/lib/python3.7/dist-packages (from cffi>=1.12->cryptography>=2.0->SecretStorage>=3.2; sys_platform == \"linux\"->keyring>=4.0->astroquery) (2.20)\n",
            "Building wheels for collected packages: astroquery\n",
            "  Building wheel for astroquery (setup.py) ... \u001b[?25l\u001b[?25hdone\n",
            "  Created wheel for astroquery: filename=astroquery-0.4.1-cp37-none-any.whl size=3831874 sha256=226ef672ec6485a0dee7e352707907e8765479a1b48bf9fd4342cb9627911b4b\n",
            "  Stored in directory: /root/.cache/pip/wheels/88/f8/b7/a254cd96e808f708bc0b7d755a8e095c56fbbe94099d7b464f\n",
            "Successfully built astroquery\n",
            "Installing collected packages: cryptography, jeepney, SecretStorage, keyring, astroquery\n",
            "Successfully installed SecretStorage-3.3.1 astroquery-0.4.1 cryptography-3.4.7 jeepney-0.6.0 keyring-23.0.1\n"
          ],
          "name": "stdout"
        }
      ]
    },
    {
      "cell_type": "markdown",
      "metadata": {
        "id": "RfUPXxXfzLgi"
      },
      "source": [
        "# Análisis del espectro óptico de KISSR 298"
      ]
    },
    {
      "cell_type": "markdown",
      "metadata": {
        "id": "pv48E0PpzLgp"
      },
      "source": [
        "## Bajar el espectro de la base de datos del Sloan Digital Sky Survey (SDSS)"
      ]
    },
    {
      "cell_type": "markdown",
      "metadata": {
        "id": "53L9l7TmzLgq"
      },
      "source": [
        "INSTRUCCIÓN. Nuestra galaxia se llama KISSR 298. Necesitamos las coordenadas (RA, Dec) o (longitude, latitude) del objeto en el sistema de referencia Equatorial (J2000.0). Encuentra las coordenadas buscando por al objeto por su nombre aquí:\n",
        "https://ned.ipac.caltech.edu/.\n",
        "Verifica que las coordenadas del objecto dadas abajo están correctas y de no ser así, modifícalas con los valores que encontraste."
      ]
    },
    {
      "cell_type": "code",
      "metadata": {
        "id": "kHMIAzpqzLgr"
      },
      "source": [
        "from astropy import coordinates as coords\n",
        "\n",
        "#We can search by coordinates (in degrees)\n",
        "RA = 202.457480 #longitude in Equatorial J2000\n",
        "DEC = 29.579716 #latitude in Equatorial J2000\n",
        "pos = coords.SkyCoord(str(RA) + 'd ' + str(DEC) + 'd', frame = 'icrs') #units of degrees\n",
        "\n",
        "#Or we can have the `coords` module automatically look up the coordinates from the name of the source \n",
        "pos = coords.SkyCoord.from_name(\"KISSR 298\")\n",
        "\n",
        "#Once the coordinates are known, we search the SDSS archive for spectra of objects around this position.\n",
        "xid = SDSS.query_region(pos, spectro = True)\n",
        "sp = SDSS.get_spectra(matches = xid, plate = 1978, mjd = 53473, fiberID = 371)[0]\n",
        "#El espectro está en el segundo encabezado del archivo (sp[1])\n",
        "specdata = sp[1].data"
      ],
      "execution_count": 3,
      "outputs": []
    },
    {
      "cell_type": "markdown",
      "metadata": {
        "id": "6cctV-0QzLgs"
      },
      "source": [
        "INSTRUCCIÓN. Para bajar el espectro de la base de datos, necesitamos los IDs de la placa, la fecha y la fibra con que se usaron para obtener los datos. Busca el objecto usando las coordenadas en: https://skyserver.sdss.org/dr14/en/tools/chart/chartinfo.aspx. Dále a \"Get Image\" para ver la imagen del objeto. Puedes cambiar el tamaño de la imagen con los botones de \"+\" y \"-\"."
      ]
    },
    {
      "cell_type": "markdown",
      "metadata": {
        "id": "qp-eu_OWzLgt"
      },
      "source": [
        "INSTRUCCIÓN. Haz click en \"Explore\" para ir a donde se encuentra el espectro. Abajo a la derecha, en donde dice \"Interactive Spectrum\", hay una tabla con información sobre las observaciones del objeto. Verifica que la siguiente información es correcta y de no ser así, modifícala."
      ]
    },
    {
      "cell_type": "code",
      "metadata": {
        "id": "An2dPH5czLgu"
      },
      "source": [
        "# plate=1978\n",
        "# mjd=53473 #Modified Julian Date\n",
        "# fiberid=371"
      ],
      "execution_count": 4,
      "outputs": []
    },
    {
      "cell_type": "code",
      "metadata": {
        "id": "zNFLkJLBzLgv"
      },
      "source": [
        "# canonical = 'https://dr14.sdss.org/optical/spectrum/view/data/format=fits/spec=lite?plateid='+str(plate)+'&mjd='+str(mjd)+'&fiberid='+str(fiberid)"
      ],
      "execution_count": 5,
      "outputs": []
    },
    {
      "cell_type": "markdown",
      "metadata": {
        "id": "OPBgfsZKzLgv"
      },
      "source": [
        "Importamos los paquetes necesarios."
      ]
    },
    {
      "cell_type": "code",
      "metadata": {
        "id": "fB_G7t6EzLgw"
      },
      "source": [
        "from astropy.io import fits\n",
        "from astropy import units as u\n",
        "import numpy as np\n",
        "from matplotlib import pyplot as plt\n",
        "%matplotlib inline\n",
        "from astropy.visualization import quantity_support\n",
        "quantity_support();  # for getting units on the axes below"
      ],
      "execution_count": 6,
      "outputs": []
    },
    {
      "cell_type": "markdown",
      "metadata": {
        "id": "ZJwkQEQHzLgy"
      },
      "source": [
        "Los espectros están en archivos formato fits.\n",
        "\n",
        "Cargamos los datos y contruimos los vectores de longitudes de onda (wave) , de flujos (flux), y de errores en los flujos (err)."
      ]
    },
    {
      "cell_type": "code",
      "metadata": {
        "id": "_LEnUBdMzLg1"
      },
      "source": [
        "# f = fits.open(canonical) \n",
        "#El espectro está en el segundo encabezado del archivo (f[1])\n",
        "# specdata = f[1].data \n",
        "# f.close()\n",
        "\n",
        "wave = 10**specdata['loglam'] * u.AA # longitud de onda\n",
        "flux = specdata['flux'] * 10**-17 * u.Unit('erg cm-2 s-1 AA-1') # flujo\n",
        "ivar = specdata['ivar']# inverso de la varianza\n",
        "err = 1 / np.sqrt(ivar) # error * u.Unit('erg cm-2 s-1 AA-1') # error en el flujo"
      ],
      "execution_count": 7,
      "outputs": []
    },
    {
      "cell_type": "markdown",
      "metadata": {
        "id": "Mbc27u2oz7xB"
      },
      "source": [
        "Instalamos el paquete specutils."
      ]
    },
    {
      "cell_type": "code",
      "metadata": {
        "id": "izIH2ooX0CUf",
        "outputId": "f94ea297-13c0-4f37-ff10-0a0544e5b241",
        "colab": {
          "base_uri": "https://localhost:8080/",
          "height": 1000
        }
      },
      "source": [
        "# Install a pip package in the current Jupyter kernel if it isn't already installed\n",
        "import sys\n",
        "try:\n",
        "  from specutils import Spectrum1D\n",
        "except:\n",
        "  #!{sys.executable} -m pip install specutils\n",
        "  !pip install specutils\n",
        "  from specutils import Spectrum1D"
      ],
      "execution_count": 8,
      "outputs": [
        {
          "output_type": "stream",
          "text": [
            "Collecting specutils\n",
            "\u001b[?25l  Downloading https://files.pythonhosted.org/packages/1c/bd/960191a08495061bcc58566e36844982c4d783f2e47084bfd5a77daf8fba/specutils-1.2.tar.gz (643kB)\n",
            "\r\u001b[K     |▌                               | 10kB 15.7MB/s eta 0:00:01\r\u001b[K     |█                               | 20kB 21.1MB/s eta 0:00:01\r\u001b[K     |█▌                              | 30kB 25.3MB/s eta 0:00:01\r\u001b[K     |██                              | 40kB 28.1MB/s eta 0:00:01\r\u001b[K     |██▌                             | 51kB 24.5MB/s eta 0:00:01\r\u001b[K     |███                             | 61kB 16.5MB/s eta 0:00:01\r\u001b[K     |███▋                            | 71kB 17.7MB/s eta 0:00:01\r\u001b[K     |████                            | 81kB 16.1MB/s eta 0:00:01\r\u001b[K     |████▋                           | 92kB 15.3MB/s eta 0:00:01\r\u001b[K     |█████                           | 102kB 16.0MB/s eta 0:00:01\r\u001b[K     |█████▋                          | 112kB 16.0MB/s eta 0:00:01\r\u001b[K     |██████▏                         | 122kB 16.0MB/s eta 0:00:01\r\u001b[K     |██████▋                         | 133kB 16.0MB/s eta 0:00:01\r\u001b[K     |███████▏                        | 143kB 16.0MB/s eta 0:00:01\r\u001b[K     |███████▋                        | 153kB 16.0MB/s eta 0:00:01\r\u001b[K     |████████▏                       | 163kB 16.0MB/s eta 0:00:01\r\u001b[K     |████████▋                       | 174kB 16.0MB/s eta 0:00:01\r\u001b[K     |█████████▏                      | 184kB 16.0MB/s eta 0:00:01\r\u001b[K     |█████████▊                      | 194kB 16.0MB/s eta 0:00:01\r\u001b[K     |██████████▏                     | 204kB 16.0MB/s eta 0:00:01\r\u001b[K     |██████████▊                     | 215kB 16.0MB/s eta 0:00:01\r\u001b[K     |███████████▏                    | 225kB 16.0MB/s eta 0:00:01\r\u001b[K     |███████████▊                    | 235kB 16.0MB/s eta 0:00:01\r\u001b[K     |████████████▎                   | 245kB 16.0MB/s eta 0:00:01\r\u001b[K     |████████████▊                   | 256kB 16.0MB/s eta 0:00:01\r\u001b[K     |█████████████▎                  | 266kB 16.0MB/s eta 0:00:01\r\u001b[K     |█████████████▊                  | 276kB 16.0MB/s eta 0:00:01\r\u001b[K     |██████████████▎                 | 286kB 16.0MB/s eta 0:00:01\r\u001b[K     |██████████████▊                 | 296kB 16.0MB/s eta 0:00:01\r\u001b[K     |███████████████▎                | 307kB 16.0MB/s eta 0:00:01\r\u001b[K     |███████████████▉                | 317kB 16.0MB/s eta 0:00:01\r\u001b[K     |████████████████▎               | 327kB 16.0MB/s eta 0:00:01\r\u001b[K     |████████████████▉               | 337kB 16.0MB/s eta 0:00:01\r\u001b[K     |█████████████████▎              | 348kB 16.0MB/s eta 0:00:01\r\u001b[K     |█████████████████▉              | 358kB 16.0MB/s eta 0:00:01\r\u001b[K     |██████████████████▍             | 368kB 16.0MB/s eta 0:00:01\r\u001b[K     |██████████████████▉             | 378kB 16.0MB/s eta 0:00:01\r\u001b[K     |███████████████████▍            | 389kB 16.0MB/s eta 0:00:01\r\u001b[K     |███████████████████▉            | 399kB 16.0MB/s eta 0:00:01\r\u001b[K     |████████████████████▍           | 409kB 16.0MB/s eta 0:00:01\r\u001b[K     |████████████████████▉           | 419kB 16.0MB/s eta 0:00:01\r\u001b[K     |█████████████████████▍          | 430kB 16.0MB/s eta 0:00:01\r\u001b[K     |██████████████████████          | 440kB 16.0MB/s eta 0:00:01\r\u001b[K     |██████████████████████▍         | 450kB 16.0MB/s eta 0:00:01\r\u001b[K     |███████████████████████         | 460kB 16.0MB/s eta 0:00:01\r\u001b[K     |███████████████████████▍        | 471kB 16.0MB/s eta 0:00:01\r\u001b[K     |████████████████████████        | 481kB 16.0MB/s eta 0:00:01\r\u001b[K     |████████████████████████▌       | 491kB 16.0MB/s eta 0:00:01\r\u001b[K     |█████████████████████████       | 501kB 16.0MB/s eta 0:00:01\r\u001b[K     |█████████████████████████▌      | 512kB 16.0MB/s eta 0:00:01\r\u001b[K     |██████████████████████████      | 522kB 16.0MB/s eta 0:00:01\r\u001b[K     |██████████████████████████▌     | 532kB 16.0MB/s eta 0:00:01\r\u001b[K     |███████████████████████████     | 542kB 16.0MB/s eta 0:00:01\r\u001b[K     |███████████████████████████▌    | 552kB 16.0MB/s eta 0:00:01\r\u001b[K     |████████████████████████████    | 563kB 16.0MB/s eta 0:00:01\r\u001b[K     |████████████████████████████▌   | 573kB 16.0MB/s eta 0:00:01\r\u001b[K     |█████████████████████████████   | 583kB 16.0MB/s eta 0:00:01\r\u001b[K     |█████████████████████████████▌  | 593kB 16.0MB/s eta 0:00:01\r\u001b[K     |██████████████████████████████  | 604kB 16.0MB/s eta 0:00:01\r\u001b[K     |██████████████████████████████▋ | 614kB 16.0MB/s eta 0:00:01\r\u001b[K     |███████████████████████████████ | 624kB 16.0MB/s eta 0:00:01\r\u001b[K     |███████████████████████████████▋| 634kB 16.0MB/s eta 0:00:01\r\u001b[K     |████████████████████████████████| 645kB 16.0MB/s \n",
            "\u001b[?25h  Installing build dependencies ... \u001b[?25l\u001b[?25hdone\n",
            "  Getting requirements to build wheel ... \u001b[?25l\u001b[?25hdone\n",
            "    Preparing wheel metadata ... \u001b[?25l\u001b[?25hdone\n",
            "Requirement already satisfied: astropy>=4.1 in /usr/local/lib/python3.7/dist-packages (from specutils) (4.2.1)\n",
            "Requirement already satisfied: scipy in /usr/local/lib/python3.7/dist-packages (from specutils) (1.4.1)\n",
            "Collecting asdf>=2.5\n",
            "\u001b[?25l  Downloading https://files.pythonhosted.org/packages/c5/2d/8fb2e2ae3df4b9a319f860cfcbbb5743859f8a2c410ed32ee4ed5c953655/asdf-2.7.3.tar.gz (509kB)\n",
            "\u001b[K     |████████████████████████████████| 512kB 47.6MB/s \n",
            "\u001b[?25h  Installing build dependencies ... \u001b[?25l\u001b[?25hdone\n",
            "  Getting requirements to build wheel ... \u001b[?25l\u001b[?25hdone\n",
            "    Preparing wheel metadata ... \u001b[?25l\u001b[?25hdone\n",
            "Collecting gwcs!=0.16.0\n",
            "\u001b[?25l  Downloading https://files.pythonhosted.org/packages/fd/35/ce7b5fb8b640c2e4b65a901fdd7c701ed6b23e62b8135aa72f48056cfb91/gwcs-0.16.1.tar.gz (171kB)\n",
            "\u001b[K     |████████████████████████████████| 174kB 40.9MB/s \n",
            "\u001b[?25hRequirement already satisfied: numpy>=1.17 in /usr/local/lib/python3.7/dist-packages (from astropy>=4.1->specutils) (1.19.5)\n",
            "Requirement already satisfied: pyerfa in /usr/local/lib/python3.7/dist-packages (from astropy>=4.1->specutils) (1.7.2)\n",
            "Collecting jsonschema<4,>=3.0.2\n",
            "\u001b[?25l  Downloading https://files.pythonhosted.org/packages/c5/8f/51e89ce52a085483359217bc72cdbf6e75ee595d5b1d4b5ade40c7e018b8/jsonschema-3.2.0-py2.py3-none-any.whl (56kB)\n",
            "\u001b[K     |████████████████████████████████| 61kB 7.1MB/s \n",
            "\u001b[?25hCollecting semantic-version>=2.8\n",
            "  Downloading https://files.pythonhosted.org/packages/a5/15/00ef3b7888a10363b7c402350eda3acf395ff05bebae312d1296e528516a/semantic_version-2.8.5-py2.py3-none-any.whl\n",
            "Requirement already satisfied: pyyaml>=3.10 in /usr/local/lib/python3.7/dist-packages (from asdf>=2.5->specutils) (3.13)\n",
            "Requirement already satisfied: setuptools in /usr/local/lib/python3.7/dist-packages (from jsonschema<4,>=3.0.2->asdf>=2.5->specutils) (54.2.0)\n",
            "Requirement already satisfied: importlib-metadata; python_version < \"3.8\" in /usr/local/lib/python3.7/dist-packages (from jsonschema<4,>=3.0.2->asdf>=2.5->specutils) (3.10.1)\n",
            "Requirement already satisfied: attrs>=17.4.0 in /usr/local/lib/python3.7/dist-packages (from jsonschema<4,>=3.0.2->asdf>=2.5->specutils) (20.3.0)\n",
            "Requirement already satisfied: pyrsistent>=0.14.0 in /usr/local/lib/python3.7/dist-packages (from jsonschema<4,>=3.0.2->asdf>=2.5->specutils) (0.17.3)\n",
            "Requirement already satisfied: six>=1.11.0 in /usr/local/lib/python3.7/dist-packages (from jsonschema<4,>=3.0.2->asdf>=2.5->specutils) (1.15.0)\n",
            "Requirement already satisfied: zipp>=0.5 in /usr/local/lib/python3.7/dist-packages (from importlib-metadata; python_version < \"3.8\"->jsonschema<4,>=3.0.2->asdf>=2.5->specutils) (3.4.1)\n",
            "Requirement already satisfied: typing-extensions>=3.6.4; python_version < \"3.8\" in /usr/local/lib/python3.7/dist-packages (from importlib-metadata; python_version < \"3.8\"->jsonschema<4,>=3.0.2->asdf>=2.5->specutils) (3.7.4.3)\n",
            "Building wheels for collected packages: specutils, asdf\n",
            "  Building wheel for specutils (PEP 517) ... \u001b[?25l\u001b[?25hdone\n",
            "  Created wheel for specutils: filename=specutils-1.2-cp37-none-any.whl size=177575 sha256=893db437bc5468f1c59cf22a74b5ff8bd6dae50b0e99c8b70287663f3c207654\n",
            "  Stored in directory: /root/.cache/pip/wheels/af/88/32/7ccdd3bfdd9469747850b14674938ccc180caf58f69e006659\n",
            "  Building wheel for asdf (PEP 517) ... \u001b[?25l\u001b[?25hdone\n",
            "  Created wheel for asdf: filename=asdf-2.7.3-cp37-none-any.whl size=573206 sha256=4e3507c9056e0ea610c8c89663d61a9b00c3452c1d37ba1b75b55e54c1a0a4d7\n",
            "  Stored in directory: /root/.cache/pip/wheels/01/cc/ff/c29ad7c212112bbdd9f416c24915607bdf2b4d83641f876e2e\n",
            "Successfully built specutils asdf\n",
            "Building wheels for collected packages: gwcs\n",
            "  Building wheel for gwcs (setup.py) ... \u001b[?25l\u001b[?25hdone\n",
            "  Created wheel for gwcs: filename=gwcs-0.16.1-cp37-none-any.whl size=108765 sha256=ad9fa106f91a9845feb5e5fd315ab066564b15b2ca05ada9960ac6a4ab33fa18\n",
            "  Stored in directory: /root/.cache/pip/wheels/04/8b/18/46c2c837c352644e5f5b9fbad89ceaf5fa9e82062cd0a64bfe\n",
            "Successfully built gwcs\n",
            "\u001b[31mERROR: nbclient 0.5.3 has requirement jupyter-client>=6.1.5, but you'll have jupyter-client 5.3.5 which is incompatible.\u001b[0m\n",
            "Installing collected packages: jsonschema, semantic-version, asdf, gwcs, specutils\n",
            "  Found existing installation: jsonschema 2.6.0\n",
            "    Uninstalling jsonschema-2.6.0:\n",
            "      Successfully uninstalled jsonschema-2.6.0\n",
            "Successfully installed asdf-2.7.3 gwcs-0.16.1 jsonschema-3.2.0 semantic-version-2.8.5 specutils-1.2\n"
          ],
          "name": "stdout"
        },
        {
          "output_type": "error",
          "ename": "ContextualVersionConflict",
          "evalue": "ignored",
          "traceback": [
            "\u001b[0;31m---------------------------------------------------------------------------\u001b[0m",
            "\u001b[0;31mModuleNotFoundError\u001b[0m                       Traceback (most recent call last)",
            "\u001b[0;32m<ipython-input-8-166e8282976b>\u001b[0m in \u001b[0;36m<module>\u001b[0;34m()\u001b[0m\n\u001b[1;32m      3\u001b[0m \u001b[0;32mtry\u001b[0m\u001b[0;34m:\u001b[0m\u001b[0;34m\u001b[0m\u001b[0;34m\u001b[0m\u001b[0m\n\u001b[0;32m----> 4\u001b[0;31m   \u001b[0;32mfrom\u001b[0m \u001b[0mspecutils\u001b[0m \u001b[0;32mimport\u001b[0m \u001b[0mSpectrum1D\u001b[0m\u001b[0;34m\u001b[0m\u001b[0;34m\u001b[0m\u001b[0m\n\u001b[0m\u001b[1;32m      5\u001b[0m \u001b[0;32mexcept\u001b[0m\u001b[0;34m:\u001b[0m\u001b[0;34m\u001b[0m\u001b[0;34m\u001b[0m\u001b[0m\n",
            "\u001b[0;31mModuleNotFoundError\u001b[0m: No module named 'specutils'",
            "\nDuring handling of the above exception, another exception occurred:\n",
            "\u001b[0;31mContextualVersionConflict\u001b[0m                 Traceback (most recent call last)",
            "\u001b[0;32m<ipython-input-8-166e8282976b>\u001b[0m in \u001b[0;36m<module>\u001b[0;34m()\u001b[0m\n\u001b[1;32m      6\u001b[0m   \u001b[0;31m#!{sys.executable} -m pip install specutils\u001b[0m\u001b[0;34m\u001b[0m\u001b[0;34m\u001b[0m\u001b[0;34m\u001b[0m\u001b[0m\n\u001b[1;32m      7\u001b[0m   \u001b[0mget_ipython\u001b[0m\u001b[0;34m(\u001b[0m\u001b[0;34m)\u001b[0m\u001b[0;34m.\u001b[0m\u001b[0msystem\u001b[0m\u001b[0;34m(\u001b[0m\u001b[0;34m'pip install specutils'\u001b[0m\u001b[0;34m)\u001b[0m\u001b[0;34m\u001b[0m\u001b[0;34m\u001b[0m\u001b[0m\n\u001b[0;32m----> 8\u001b[0;31m   \u001b[0;32mfrom\u001b[0m \u001b[0mspecutils\u001b[0m \u001b[0;32mimport\u001b[0m \u001b[0mSpectrum1D\u001b[0m\u001b[0;34m\u001b[0m\u001b[0;34m\u001b[0m\u001b[0m\n\u001b[0m",
            "\u001b[0;32m/usr/local/lib/python3.7/dist-packages/specutils/__init__.py\u001b[0m in \u001b[0;36m<module>\u001b[0;34m()\u001b[0m\n\u001b[1;32m     29\u001b[0m \u001b[0;34m\u001b[0m\u001b[0m\n\u001b[1;32m     30\u001b[0m     \u001b[0;31m# Allow loading spectrum object from top level module\u001b[0m\u001b[0;34m\u001b[0m\u001b[0;34m\u001b[0m\u001b[0;34m\u001b[0m\u001b[0m\n\u001b[0;32m---> 31\u001b[0;31m     \u001b[0;32mfrom\u001b[0m \u001b[0;34m.\u001b[0m\u001b[0mspectra\u001b[0m \u001b[0;32mimport\u001b[0m \u001b[0;34m*\u001b[0m\u001b[0;34m\u001b[0m\u001b[0;34m\u001b[0m\u001b[0m\n\u001b[0m\u001b[1;32m     32\u001b[0m \u001b[0;34m\u001b[0m\u001b[0m\n\u001b[1;32m     33\u001b[0m     \u001b[0;31m# Load the IO functions\u001b[0m\u001b[0;34m\u001b[0m\u001b[0;34m\u001b[0m\u001b[0;34m\u001b[0m\u001b[0m\n",
            "\u001b[0;32m/usr/local/lib/python3.7/dist-packages/specutils/spectra/__init__.py\u001b[0m in \u001b[0;36m<module>\u001b[0;34m()\u001b[0m\n\u001b[1;32m      3\u001b[0m \u001b[0;31m`\u001b[0m\u001b[0;34m~\u001b[0m\u001b[0mastropy\u001b[0m\u001b[0;34m.\u001b[0m\u001b[0mnddata\u001b[0m\u001b[0;34m.\u001b[0m\u001b[0mNDData\u001b[0m\u001b[0;31m`\u001b[0m\u001b[0;34m-\u001b[0m\u001b[0minherited\u001b[0m \u001b[0mclasses\u001b[0m \u001b[0mused\u001b[0m \u001b[0;32mfor\u001b[0m \u001b[0mstoring\u001b[0m \u001b[0mthe\u001b[0m \u001b[0mspectrum\u001b[0m \u001b[0mdata\u001b[0m\u001b[0;34m.\u001b[0m\u001b[0;34m\u001b[0m\u001b[0;34m\u001b[0m\u001b[0m\n\u001b[1;32m      4\u001b[0m \"\"\"\n\u001b[0;32m----> 5\u001b[0;31m \u001b[0;32mfrom\u001b[0m \u001b[0;34m.\u001b[0m\u001b[0mspectrum1d\u001b[0m \u001b[0;32mimport\u001b[0m \u001b[0;34m*\u001b[0m  \u001b[0;31m# noqa\u001b[0m\u001b[0;34m\u001b[0m\u001b[0;34m\u001b[0m\u001b[0m\n\u001b[0m\u001b[1;32m      6\u001b[0m \u001b[0;32mfrom\u001b[0m \u001b[0;34m.\u001b[0m\u001b[0mspectral_region\u001b[0m \u001b[0;32mimport\u001b[0m \u001b[0;34m*\u001b[0m  \u001b[0;31m# noqa\u001b[0m\u001b[0;34m\u001b[0m\u001b[0;34m\u001b[0m\u001b[0m\n\u001b[1;32m      7\u001b[0m \u001b[0;32mfrom\u001b[0m \u001b[0;34m.\u001b[0m\u001b[0mspectrum_collection\u001b[0m \u001b[0;32mimport\u001b[0m \u001b[0;34m*\u001b[0m  \u001b[0;31m# noqa\u001b[0m\u001b[0;34m\u001b[0m\u001b[0;34m\u001b[0m\u001b[0m\n",
            "\u001b[0;32m/usr/local/lib/python3.7/dist-packages/specutils/spectra/spectrum1d.py\u001b[0m in \u001b[0;36m<module>\u001b[0;34m()\u001b[0m\n\u001b[1;32m      9\u001b[0m \u001b[0;34m\u001b[0m\u001b[0m\n\u001b[1;32m     10\u001b[0m \u001b[0;32mfrom\u001b[0m \u001b[0;34m.\u001b[0m\u001b[0mspectral_axis\u001b[0m \u001b[0;32mimport\u001b[0m \u001b[0mSpectralAxis\u001b[0m\u001b[0;34m\u001b[0m\u001b[0;34m\u001b[0m\u001b[0m\n\u001b[0;32m---> 11\u001b[0;31m \u001b[0;32mfrom\u001b[0m \u001b[0;34m.\u001b[0m\u001b[0mspectrum_mixin\u001b[0m \u001b[0;32mimport\u001b[0m \u001b[0mOneDSpectrumMixin\u001b[0m\u001b[0;34m\u001b[0m\u001b[0;34m\u001b[0m\u001b[0m\n\u001b[0m\u001b[1;32m     12\u001b[0m \u001b[0;32mfrom\u001b[0m \u001b[0;34m.\u001b[0m\u001b[0;34m.\u001b[0m\u001b[0mutils\u001b[0m\u001b[0;34m.\u001b[0m\u001b[0mwcs_utils\u001b[0m \u001b[0;32mimport\u001b[0m \u001b[0mgwcs_from_array\u001b[0m\u001b[0;34m\u001b[0m\u001b[0;34m\u001b[0m\u001b[0m\n\u001b[1;32m     13\u001b[0m \u001b[0;34m\u001b[0m\u001b[0m\n",
            "\u001b[0;32m/usr/local/lib/python3.7/dist-packages/specutils/spectra/spectrum_mixin.py\u001b[0m in \u001b[0;36m<module>\u001b[0;34m()\u001b[0m\n\u001b[1;32m      8\u001b[0m \u001b[0;32mfrom\u001b[0m \u001b[0mastropy\u001b[0m\u001b[0;34m.\u001b[0m\u001b[0mwcs\u001b[0m\u001b[0;34m.\u001b[0m\u001b[0mwcsapi\u001b[0m \u001b[0;32mimport\u001b[0m \u001b[0mHighLevelWCSWrapper\u001b[0m\u001b[0;34m\u001b[0m\u001b[0;34m\u001b[0m\u001b[0m\n\u001b[1;32m      9\u001b[0m \u001b[0;34m\u001b[0m\u001b[0m\n\u001b[0;32m---> 10\u001b[0;31m \u001b[0;32mfrom\u001b[0m \u001b[0mspecutils\u001b[0m\u001b[0;34m.\u001b[0m\u001b[0mutils\u001b[0m\u001b[0;34m.\u001b[0m\u001b[0mwcs_utils\u001b[0m \u001b[0;32mimport\u001b[0m \u001b[0mgwcs_from_array\u001b[0m\u001b[0;34m\u001b[0m\u001b[0;34m\u001b[0m\u001b[0m\n\u001b[0m\u001b[1;32m     11\u001b[0m \u001b[0;34m\u001b[0m\u001b[0m\n\u001b[1;32m     12\u001b[0m \u001b[0mDOPPLER_CONVENTIONS\u001b[0m \u001b[0;34m=\u001b[0m \u001b[0;34m{\u001b[0m\u001b[0;34m}\u001b[0m\u001b[0;34m\u001b[0m\u001b[0;34m\u001b[0m\u001b[0m\n",
            "\u001b[0;32m/usr/local/lib/python3.7/dist-packages/specutils/utils/wcs_utils.py\u001b[0m in \u001b[0;36m<module>\u001b[0;34m()\u001b[0m\n\u001b[1;32m      5\u001b[0m \u001b[0;32mfrom\u001b[0m \u001b[0mastropy\u001b[0m\u001b[0;34m.\u001b[0m\u001b[0mmodeling\u001b[0m\u001b[0;34m.\u001b[0m\u001b[0mmodels\u001b[0m \u001b[0;32mimport\u001b[0m \u001b[0mShift\u001b[0m\u001b[0;34m\u001b[0m\u001b[0;34m\u001b[0m\u001b[0m\n\u001b[1;32m      6\u001b[0m \u001b[0;32mfrom\u001b[0m \u001b[0mastropy\u001b[0m\u001b[0;34m.\u001b[0m\u001b[0mmodeling\u001b[0m\u001b[0;34m.\u001b[0m\u001b[0mtabular\u001b[0m \u001b[0;32mimport\u001b[0m \u001b[0mTabular1D\u001b[0m\u001b[0;34m\u001b[0m\u001b[0;34m\u001b[0m\u001b[0m\n\u001b[0;32m----> 7\u001b[0;31m \u001b[0;32mfrom\u001b[0m \u001b[0mgwcs\u001b[0m \u001b[0;32mimport\u001b[0m \u001b[0mWCS\u001b[0m \u001b[0;32mas\u001b[0m \u001b[0mGWCS\u001b[0m\u001b[0;34m\u001b[0m\u001b[0;34m\u001b[0m\u001b[0m\n\u001b[0m\u001b[1;32m      8\u001b[0m \u001b[0;32mfrom\u001b[0m \u001b[0mgwcs\u001b[0m \u001b[0;32mimport\u001b[0m \u001b[0mcoordinate_frames\u001b[0m \u001b[0;32mas\u001b[0m \u001b[0mcf\u001b[0m\u001b[0;34m\u001b[0m\u001b[0;34m\u001b[0m\u001b[0m\n\u001b[1;32m      9\u001b[0m \u001b[0;34m\u001b[0m\u001b[0m\n",
            "\u001b[0;32m/usr/local/lib/python3.7/dist-packages/gwcs/__init__.py\u001b[0m in \u001b[0;36m<module>\u001b[0;34m()\u001b[0m\n\u001b[1;32m     64\u001b[0m \u001b[0;34m\u001b[0m\u001b[0m\n\u001b[1;32m     65\u001b[0m \u001b[0;32mtry\u001b[0m\u001b[0;34m:\u001b[0m\u001b[0;34m\u001b[0m\u001b[0;34m\u001b[0m\u001b[0m\n\u001b[0;32m---> 66\u001b[0;31m     \u001b[0m__version__\u001b[0m \u001b[0;34m=\u001b[0m \u001b[0mget_distribution\u001b[0m\u001b[0;34m(\u001b[0m\u001b[0m__name__\u001b[0m\u001b[0;34m)\u001b[0m\u001b[0;34m.\u001b[0m\u001b[0mversion\u001b[0m\u001b[0;34m\u001b[0m\u001b[0;34m\u001b[0m\u001b[0m\n\u001b[0m\u001b[1;32m     67\u001b[0m \u001b[0;32mexcept\u001b[0m \u001b[0mDistributionNotFound\u001b[0m\u001b[0;34m:\u001b[0m  \u001b[0;31m# pragma: no cover\u001b[0m\u001b[0;34m\u001b[0m\u001b[0;34m\u001b[0m\u001b[0m\n\u001b[1;32m     68\u001b[0m     \u001b[0;31m# package is not installed\u001b[0m\u001b[0;34m\u001b[0m\u001b[0;34m\u001b[0m\u001b[0;34m\u001b[0m\u001b[0m\n",
            "\u001b[0;32m/usr/local/lib/python3.7/dist-packages/pkg_resources/__init__.py\u001b[0m in \u001b[0;36mget_distribution\u001b[0;34m(dist)\u001b[0m\n\u001b[1;32m    464\u001b[0m         \u001b[0mdist\u001b[0m \u001b[0;34m=\u001b[0m \u001b[0mRequirement\u001b[0m\u001b[0;34m.\u001b[0m\u001b[0mparse\u001b[0m\u001b[0;34m(\u001b[0m\u001b[0mdist\u001b[0m\u001b[0;34m)\u001b[0m\u001b[0;34m\u001b[0m\u001b[0;34m\u001b[0m\u001b[0m\n\u001b[1;32m    465\u001b[0m     \u001b[0;32mif\u001b[0m \u001b[0misinstance\u001b[0m\u001b[0;34m(\u001b[0m\u001b[0mdist\u001b[0m\u001b[0;34m,\u001b[0m \u001b[0mRequirement\u001b[0m\u001b[0;34m)\u001b[0m\u001b[0;34m:\u001b[0m\u001b[0;34m\u001b[0m\u001b[0;34m\u001b[0m\u001b[0m\n\u001b[0;32m--> 466\u001b[0;31m         \u001b[0mdist\u001b[0m \u001b[0;34m=\u001b[0m \u001b[0mget_provider\u001b[0m\u001b[0;34m(\u001b[0m\u001b[0mdist\u001b[0m\u001b[0;34m)\u001b[0m\u001b[0;34m\u001b[0m\u001b[0;34m\u001b[0m\u001b[0m\n\u001b[0m\u001b[1;32m    467\u001b[0m     \u001b[0;32mif\u001b[0m \u001b[0;32mnot\u001b[0m \u001b[0misinstance\u001b[0m\u001b[0;34m(\u001b[0m\u001b[0mdist\u001b[0m\u001b[0;34m,\u001b[0m \u001b[0mDistribution\u001b[0m\u001b[0;34m)\u001b[0m\u001b[0;34m:\u001b[0m\u001b[0;34m\u001b[0m\u001b[0;34m\u001b[0m\u001b[0m\n\u001b[1;32m    468\u001b[0m         \u001b[0;32mraise\u001b[0m \u001b[0mTypeError\u001b[0m\u001b[0;34m(\u001b[0m\u001b[0;34m\"Expected string, Requirement, or Distribution\"\u001b[0m\u001b[0;34m,\u001b[0m \u001b[0mdist\u001b[0m\u001b[0;34m)\u001b[0m\u001b[0;34m\u001b[0m\u001b[0;34m\u001b[0m\u001b[0m\n",
            "\u001b[0;32m/usr/local/lib/python3.7/dist-packages/pkg_resources/__init__.py\u001b[0m in \u001b[0;36mget_provider\u001b[0;34m(moduleOrReq)\u001b[0m\n\u001b[1;32m    340\u001b[0m     \u001b[0;34m\"\"\"Return an IResourceProvider for the named module or requirement\"\"\"\u001b[0m\u001b[0;34m\u001b[0m\u001b[0;34m\u001b[0m\u001b[0m\n\u001b[1;32m    341\u001b[0m     \u001b[0;32mif\u001b[0m \u001b[0misinstance\u001b[0m\u001b[0;34m(\u001b[0m\u001b[0mmoduleOrReq\u001b[0m\u001b[0;34m,\u001b[0m \u001b[0mRequirement\u001b[0m\u001b[0;34m)\u001b[0m\u001b[0;34m:\u001b[0m\u001b[0;34m\u001b[0m\u001b[0;34m\u001b[0m\u001b[0m\n\u001b[0;32m--> 342\u001b[0;31m         \u001b[0;32mreturn\u001b[0m \u001b[0mworking_set\u001b[0m\u001b[0;34m.\u001b[0m\u001b[0mfind\u001b[0m\u001b[0;34m(\u001b[0m\u001b[0mmoduleOrReq\u001b[0m\u001b[0;34m)\u001b[0m \u001b[0;32mor\u001b[0m \u001b[0mrequire\u001b[0m\u001b[0;34m(\u001b[0m\u001b[0mstr\u001b[0m\u001b[0;34m(\u001b[0m\u001b[0mmoduleOrReq\u001b[0m\u001b[0;34m)\u001b[0m\u001b[0;34m)\u001b[0m\u001b[0;34m[\u001b[0m\u001b[0;36m0\u001b[0m\u001b[0;34m]\u001b[0m\u001b[0;34m\u001b[0m\u001b[0;34m\u001b[0m\u001b[0m\n\u001b[0m\u001b[1;32m    343\u001b[0m     \u001b[0;32mtry\u001b[0m\u001b[0;34m:\u001b[0m\u001b[0;34m\u001b[0m\u001b[0;34m\u001b[0m\u001b[0m\n\u001b[1;32m    344\u001b[0m         \u001b[0mmodule\u001b[0m \u001b[0;34m=\u001b[0m \u001b[0msys\u001b[0m\u001b[0;34m.\u001b[0m\u001b[0mmodules\u001b[0m\u001b[0;34m[\u001b[0m\u001b[0mmoduleOrReq\u001b[0m\u001b[0;34m]\u001b[0m\u001b[0;34m\u001b[0m\u001b[0;34m\u001b[0m\u001b[0m\n",
            "\u001b[0;32m/usr/local/lib/python3.7/dist-packages/pkg_resources/__init__.py\u001b[0m in \u001b[0;36mrequire\u001b[0;34m(self, *requirements)\u001b[0m\n\u001b[1;32m    884\u001b[0m         \u001b[0mincluded\u001b[0m\u001b[0;34m,\u001b[0m \u001b[0meven\u001b[0m \u001b[0;32mif\u001b[0m \u001b[0mthey\u001b[0m \u001b[0mwere\u001b[0m \u001b[0malready\u001b[0m \u001b[0mactivated\u001b[0m \u001b[0;32min\u001b[0m \u001b[0mthis\u001b[0m \u001b[0mworking\u001b[0m \u001b[0mset\u001b[0m\u001b[0;34m.\u001b[0m\u001b[0;34m\u001b[0m\u001b[0;34m\u001b[0m\u001b[0m\n\u001b[1;32m    885\u001b[0m         \"\"\"\n\u001b[0;32m--> 886\u001b[0;31m         \u001b[0mneeded\u001b[0m \u001b[0;34m=\u001b[0m \u001b[0mself\u001b[0m\u001b[0;34m.\u001b[0m\u001b[0mresolve\u001b[0m\u001b[0;34m(\u001b[0m\u001b[0mparse_requirements\u001b[0m\u001b[0;34m(\u001b[0m\u001b[0mrequirements\u001b[0m\u001b[0;34m)\u001b[0m\u001b[0;34m)\u001b[0m\u001b[0;34m\u001b[0m\u001b[0;34m\u001b[0m\u001b[0m\n\u001b[0m\u001b[1;32m    887\u001b[0m \u001b[0;34m\u001b[0m\u001b[0m\n\u001b[1;32m    888\u001b[0m         \u001b[0;32mfor\u001b[0m \u001b[0mdist\u001b[0m \u001b[0;32min\u001b[0m \u001b[0mneeded\u001b[0m\u001b[0;34m:\u001b[0m\u001b[0;34m\u001b[0m\u001b[0;34m\u001b[0m\u001b[0m\n",
            "\u001b[0;32m/usr/local/lib/python3.7/dist-packages/pkg_resources/__init__.py\u001b[0m in \u001b[0;36mresolve\u001b[0;34m(self, requirements, env, installer, replace_conflicting, extras)\u001b[0m\n\u001b[1;32m    775\u001b[0m                 \u001b[0;31m# Oops, the \"best\" so far conflicts with a dependency\u001b[0m\u001b[0;34m\u001b[0m\u001b[0;34m\u001b[0m\u001b[0;34m\u001b[0m\u001b[0m\n\u001b[1;32m    776\u001b[0m                 \u001b[0mdependent_req\u001b[0m \u001b[0;34m=\u001b[0m \u001b[0mrequired_by\u001b[0m\u001b[0;34m[\u001b[0m\u001b[0mreq\u001b[0m\u001b[0;34m]\u001b[0m\u001b[0;34m\u001b[0m\u001b[0;34m\u001b[0m\u001b[0m\n\u001b[0;32m--> 777\u001b[0;31m                 \u001b[0;32mraise\u001b[0m \u001b[0mVersionConflict\u001b[0m\u001b[0;34m(\u001b[0m\u001b[0mdist\u001b[0m\u001b[0;34m,\u001b[0m \u001b[0mreq\u001b[0m\u001b[0;34m)\u001b[0m\u001b[0;34m.\u001b[0m\u001b[0mwith_context\u001b[0m\u001b[0;34m(\u001b[0m\u001b[0mdependent_req\u001b[0m\u001b[0;34m)\u001b[0m\u001b[0;34m\u001b[0m\u001b[0;34m\u001b[0m\u001b[0m\n\u001b[0m\u001b[1;32m    778\u001b[0m \u001b[0;34m\u001b[0m\u001b[0m\n\u001b[1;32m    779\u001b[0m             \u001b[0;31m# push the new requirements onto the stack\u001b[0m\u001b[0;34m\u001b[0m\u001b[0;34m\u001b[0m\u001b[0;34m\u001b[0m\u001b[0m\n",
            "\u001b[0;31mContextualVersionConflict\u001b[0m: (jsonschema 2.6.0 (/usr/local/lib/python3.7/dist-packages), Requirement.parse('jsonschema<4,>=3.0.2'), {'asdf'})"
          ]
        }
      ]
    },
    {
      "cell_type": "markdown",
      "metadata": {
        "id": "aWruZgfRzLg2"
      },
      "source": [
        "Vamos a poner los datos en el formato apropiado para \"astropy\" y crear un objeto llamado \"Spectrum1D\" que vamos a graficar."
      ]
    },
    {
      "cell_type": "code",
      "metadata": {
        "id": "YSlkwkZSzLg2"
      },
      "source": [
        "spec = Spectrum1D(spectral_axis=wave, flux=flux)"
      ],
      "execution_count": null,
      "outputs": []
    },
    {
      "cell_type": "markdown",
      "metadata": {
        "id": "HdpkbUu2zLg2"
      },
      "source": [
        "Graficamos el espectro."
      ]
    },
    {
      "cell_type": "code",
      "metadata": {
        "id": "FV7tE6VczLg3"
      },
      "source": [
        "f, ax = plt.subplots()  \n",
        "\n",
        "#ax.step(spec.spectral_axis, spec.flux)\n",
        "#plt.xlabel('Rest Wavelength ({})'.format(spec.spectral_axis.unit)) \n",
        "#plt.ylabel('Flux ({})'.format(spec.flux.unit))\n",
        "ax.plot(wave, flux)\n",
        "plt.xlabel('Rest Wavelength (A)') \n",
        "plt.ylabel('Flux (cm/s/cm2/A)');"
      ],
      "execution_count": null,
      "outputs": []
    },
    {
      "cell_type": "markdown",
      "metadata": {
        "id": "aeaOO9CRzLg5"
      },
      "source": [
        "# Corrección por polvo en la Vía Láctea"
      ]
    },
    {
      "cell_type": "markdown",
      "metadata": {
        "id": "iE6Er76CzLg5"
      },
      "source": [
        "INSTRUCCIÓN. Vamos a corregir la luz de las estrellas que se encuentran en la galaxia KISSR 298 por extinción debida al polvo en nuestra Galaxia.\n",
        "\n",
        "Para esto, necesitamos el exceso de color debido al polvo en nuestra Galaxia, en la dirección de KISSR 298. \n",
        "\n",
        "Para calcular el exceso de color, E(B-V), primero encuentra la extinción Galáctica en las bandas Landolt B y V, yendo a la liga de abajo, introduciendo el nombre del objeto, luego yendo a la pestaña de Galactic Extinction, y finalmente yendo a la columna \"Galactic Extinctions\".\n",
        "https://ned.ipac.caltech.edu/\n"
      ]
    },
    {
      "cell_type": "code",
      "metadata": {
        "id": "9KMXzk9obA4v"
      },
      "source": [
        "#Still being tested\n",
        "#Fetch extinction table from the InfraRed Science Archive's (IRSA) Galactic Dust Reddening and Extinction \n",
        "# URL: https://irsa.ipac.caltech.edu/applications/DUST/index.html\n",
        "from astroquery.irsa_dust import IrsaDust\n",
        "#Have the `coords` module automatically look up the coordinates from the name of the source \n",
        "pos = coords.SkyCoord.from_name(\"KISSR 298\")\n",
        "table = IrsaDust.get_extinction_table(pos)\n",
        "#Get the extinction values for the CTIO B and V filters\n",
        "# This grabs the A_lambda values computed according to the Schlafly & Finkbeiner (2011) prescription,\n",
        "#     which extends the Cardelli et al. (1989; CCM89) law to longer wavelengths.\n",
        "A_B = table['A_SandF'][table['Filter_name'] == 'CTIO B'] # extinción Galáctica en la banda B\n",
        "A_V = table['A_SandF'][table['Filter_name'] == 'CTIO V'] # extinción Galáctica en la banda V\n",
        "ebvmw = A_B - A_V # exceso de color E(B-V) de la Vía Láctea (Milky Way)\n",
        "print(ebvmw.unit, ebvmw.data[0])\n",
        "ebvmw.quantity"
      ],
      "execution_count": null,
      "outputs": []
    },
    {
      "cell_type": "code",
      "metadata": {
        "id": "Z99mPddnzLg6"
      },
      "source": [
        "# B=0.062 # extinción Galáctica en la banda B\n",
        "# V=0.047 # extinción Galáctica en la banda V\n",
        "# ebvmw=B-V # exceso de color E(B-V) de la Vía Láctea (Milky Way)"
      ],
      "execution_count": null,
      "outputs": []
    },
    {
      "cell_type": "markdown",
      "metadata": {
        "id": "ERQKjW_S0wZ9"
      },
      "source": [
        "Importamos un paquete necesario."
      ]
    },
    {
      "cell_type": "code",
      "metadata": {
        "id": "2Ezo6mkw0w6f"
      },
      "source": [
        "import sys\n",
        "# Install a pip package in the current Jupyter kernel if it isn't already installed\n",
        "try:\n",
        "  # Import this model: Cardelli, Clayton & Mathis (1989) with A_V = 1 and R_V = 3.1\n",
        "  from dust_extinction.parameter_averages import CCM89\n",
        "except:\n",
        "  !{sys.executable} -m pip install dust_extinction\n",
        "  # Import this model: Cardelli, Clayton & Mathis (1989) with A_V = 1 and R_V = 3.1\n",
        "  from dust_extinction.parameter_averages import CCM89"
      ],
      "execution_count": null,
      "outputs": []
    },
    {
      "cell_type": "code",
      "metadata": {
        "id": "hl4MG42rzLg6"
      },
      "source": [
        "#from scipy.optimize import curve_fit\n",
        "\n",
        "# Define the reddening model\n",
        "ext = CCM89(Rv=3.1)\n",
        "\n",
        "# Flujo corregido (unextinguished flux )\n",
        "# uflux = flux / ext.extinguish(1/wave.to(u.micron), Ebv=ebvmw) \n",
        "uflux = flux / ext.extinguish(1/wave.to(u.micron), Ebv=0.1) #This should really be Ebv=ebvmw, but has been exaggerated for effect."
      ],
      "execution_count": null,
      "outputs": []
    },
    {
      "cell_type": "markdown",
      "metadata": {
        "id": "by4rrPejzLg6"
      },
      "source": [
        "Graficamos el espectro antes y después de la corrección por enrojecimiento en la Vía Láctea."
      ]
    },
    {
      "cell_type": "code",
      "metadata": {
        "id": "F3Xe1pIIzLg7"
      },
      "source": [
        "f, ax = plt.subplots()  \n",
        "\n",
        "ax.step(spec.spectral_axis, spec.flux)\n",
        "ax.plot(wave,uflux)\n",
        "plt.xlabel('Observed Wavelength ({})'.format(spec.spectral_axis.unit)) \n",
        "plt.ylabel('Flux ({})'.format(spec.flux.unit))\n",
        "_ = plt.ylim(0,5e-16)"
      ],
      "execution_count": null,
      "outputs": []
    },
    {
      "cell_type": "markdown",
      "metadata": {
        "id": "wvFhBuTnzLg7"
      },
      "source": [
        "# Corrección por corrimiento al rojo"
      ]
    },
    {
      "cell_type": "markdown",
      "metadata": {
        "id": "jVpQTEyczLg7"
      },
      "source": [
        "INSTRUCCIÓN. Determina el corrimiento al rojo, z, de la galaxia.\n",
        "Para esto, identifica las líneas espectrales de H-alfa y H-beta del hidrógeno. Si la galaxia no se estuviera ni alejando de ni acercando a nostros, las longitudes de onda en Agstroms de estas líneas fuertes del espectro estarían en 6563 y 4861, respectivamente. "
      ]
    },
    {
      "cell_type": "code",
      "metadata": {
        "id": "YXkm6pb6zLg7"
      },
      "source": [
        "z=0.04899 # Corrimiento al rojo encontrado"
      ],
      "execution_count": null,
      "outputs": []
    },
    {
      "cell_type": "code",
      "metadata": {
        "id": "22zWUsYGzLg9"
      },
      "source": [
        "wave_rest = wave / (1 + z)"
      ],
      "execution_count": null,
      "outputs": []
    },
    {
      "cell_type": "markdown",
      "metadata": {
        "id": "h0MJUQiszLg9"
      },
      "source": [
        "Lo graficamos antes y después de la corrección por corrimiento al rojo."
      ]
    },
    {
      "cell_type": "code",
      "metadata": {
        "id": "_6mgjfAMzLg9"
      },
      "source": [
        "f, ax = plt.subplots()  \n",
        "\n",
        "ax.plot(wave, uflux)\n",
        "ax.plot(wave_rest, uflux)\n",
        "plt.xlabel('Rest Wavelength ({})'.format(spec.spectral_axis.unit)) \n",
        "plt.ylabel('Flux ({})'.format(spec.flux.unit));"
      ],
      "execution_count": null,
      "outputs": []
    }
  ]
}