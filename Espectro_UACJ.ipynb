{
  "nbformat": 4,
  "nbformat_minor": 0,
  "metadata": {
    "kernelspec": {
      "display_name": "Python 3",
      "language": "python",
      "name": "python3"
    },
    "language_info": {
      "codemirror_mode": {
        "name": "ipython",
        "version": 3
      },
      "file_extension": ".py",
      "mimetype": "text/x-python",
      "name": "python",
      "nbconvert_exporter": "python",
      "pygments_lexer": "ipython3",
      "version": "3.8.3"
    },
    "colab": {
      "name": "Espectro_UACJ.ipynb",
      "provenance": [],
      "include_colab_link": true
    }
  },
  "cells": [
    {
      "cell_type": "markdown",
      "metadata": {
        "id": "view-in-github",
        "colab_type": "text"
      },
      "source": [
        "<a href=\"https://colab.research.google.com/github/sundarjhu/UACJ_Jornada2021/blob/main/Espectro_UACJ.ipynb\" target=\"_parent\"><img src=\"https://colab.research.google.com/assets/colab-badge.svg\" alt=\"Open In Colab\"/></a>"
      ]
    },
    {
      "cell_type": "markdown",
      "metadata": {
        "id": "RfUPXxXfzLgi"
      },
      "source": [
        "# Análisis del espectro óptico de KISSR 298"
      ]
    },
    {
      "cell_type": "markdown",
      "metadata": {
        "id": "pv48E0PpzLgp"
      },
      "source": [
        "## Bajar el espectro de la base de datos del Sloan Digital Sky Survey (SDSS)"
      ]
    },
    {
      "cell_type": "markdown",
      "metadata": {
        "id": "53L9l7TmzLgq"
      },
      "source": [
        "INSTRUCCIÓN. Nuestra galaxia se llama KISSR 298. Necesitamos las coordenadas (RA, Dec) o (longitude, latitude) del objeto en el sistema de referencia Equatorial (J2000.0). Encuentra las coordenadas buscando por al objeto por su nombre aquí:\n",
        "https://ned.ipac.caltech.edu/.\n",
        "Verifica que las coordenadas del objecto dadas abajo están correctas y de no ser así, modifícalas con los valores que encontraste."
      ]
    },
    {
      "cell_type": "code",
      "metadata": {
        "id": "kHMIAzpqzLgr"
      },
      "source": [
        "RA=202.457480 #longitude in Equatorial J2000\n",
        "Dec=29.579716 #latitude in Equatorial J2000"
      ],
      "execution_count": 1,
      "outputs": []
    },
    {
      "cell_type": "markdown",
      "metadata": {
        "id": "6cctV-0QzLgs"
      },
      "source": [
        "INSTRUCCIÓN. Para bajar el espectro de la base de datos, necesitamos los IDs de la placa, la fecha y la fibra con que se usaron para obtener los datos. Busca el objecto usando las coordenadas en: https://skyserver.sdss.org/dr14/en/tools/chart/chartinfo.aspx. Dále a \"Get Image\" para ver la imagen del objeto. Puedes cambiar el tamaño de la imagen con los botones de \"+\" y \"-\"."
      ]
    },
    {
      "cell_type": "markdown",
      "metadata": {
        "id": "qp-eu_OWzLgt"
      },
      "source": [
        "INSTRUCCIÓN. Haz click en \"Explore\" para ir a donde se encuentra el espectro. Abajo a la derecha, en donde dice \"Interactive Spectrum\", hay una tabla con información sobre las observaciones del objeto. Verifica que la siguiente información es correcta y de no ser así, modifícala."
      ]
    },
    {
      "cell_type": "code",
      "metadata": {
        "id": "An2dPH5czLgu"
      },
      "source": [
        "plate=1978\n",
        "mjd=53473 #Modified Julian Date\n",
        "fiberid=371"
      ],
      "execution_count": 2,
      "outputs": []
    },
    {
      "cell_type": "code",
      "metadata": {
        "id": "zNFLkJLBzLgv"
      },
      "source": [
        "canonical = 'https://dr14.sdss.org/optical/spectrum/view/data/format=fits/spec=lite?plateid='+str(plate)+'&mjd='+str(mjd)+'&fiberid='+str(fiberid)"
      ],
      "execution_count": 3,
      "outputs": []
    },
    {
      "cell_type": "markdown",
      "metadata": {
        "id": "OPBgfsZKzLgv"
      },
      "source": [
        "Importamos los paquetes necesarios."
      ]
    },
    {
      "cell_type": "code",
      "metadata": {
        "colab": {
          "base_uri": "https://localhost:8080/"
        },
        "id": "fB_G7t6EzLgw",
        "outputId": "9d964f63-0242-4ac0-c872-a7adcb889d79"
      },
      "source": [
        "from astropy.io import fits\n",
        "\n",
        "from astropy import units as u\n",
        "\n",
        "import numpy as np\n",
        "\n",
        "from matplotlib import pyplot as plt\n",
        "\n",
        "%matplotlib inline\n",
        "\n",
        "from astropy.visualization import quantity_support\n",
        "\n",
        "quantity_support()  # for getting units on the axes below"
      ],
      "execution_count": 4,
      "outputs": [
        {
          "output_type": "execute_result",
          "data": {
            "text/plain": [
              "<astropy.visualization.units.quantity_support.<locals>.MplQuantityConverter at 0x7f4b30125a10>"
            ]
          },
          "metadata": {
            "tags": []
          },
          "execution_count": 4
        }
      ]
    },
    {
      "cell_type": "markdown",
      "metadata": {
        "id": "ZJwkQEQHzLgy"
      },
      "source": [
        "Los espectros están en archivos formato fits.\n",
        "\n",
        "Cargamos los datos y contruimos los vectores de longitudes de onda (wave) , de flujos (flux), y de errores en los flujos (err)."
      ]
    },
    {
      "cell_type": "code",
      "metadata": {
        "colab": {
          "base_uri": "https://localhost:8080/"
        },
        "id": "_LEnUBdMzLg1",
        "outputId": "e3177cc9-37f5-4f99-c29b-50a10e00139c"
      },
      "source": [
        "f = fits.open(canonical) \n",
        "\n",
        "#El espectro está en el segundo encabezado del archivo (f[1])\n",
        "specdata = f[1].data \n",
        "f.close()\n",
        "\n",
        "wave = 10**specdata['loglam'] * u.AA # longitud de onda\n",
        "flux = specdata['flux'] * 10**-17 * u.Unit('erg cm-2 s-1 AA-1') # flujo\n",
        "ivar = specdata['ivar']# inverso de la varianza\n",
        "err = 1 / np.sqrt(ivar) # error * u.Unit('erg cm-2 s-1 AA-1') # error en el flujo"
      ],
      "execution_count": 5,
      "outputs": [
        {
          "output_type": "stream",
          "text": [
            "/usr/local/lib/python3.7/dist-packages/ipykernel_launcher.py:10: RuntimeWarning: divide by zero encountered in true_divide\n",
            "  # Remove the CWD from sys.path while we load stuff.\n"
          ],
          "name": "stderr"
        }
      ]
    },
    {
      "cell_type": "markdown",
      "metadata": {
        "id": "Mbc27u2oz7xB"
      },
      "source": [
        "Instalamos el paquete specutils."
      ]
    },
    {
      "cell_type": "code",
      "metadata": {
        "colab": {
          "base_uri": "https://localhost:8080/"
        },
        "id": "izIH2ooX0CUf",
        "outputId": "a57c9d78-b40b-492c-c02d-379735f819dc"
      },
      "source": [
        "# Install a pip package in the current Jupyter kernel\n",
        "import sys\n",
        "!{sys.executable} -m pip install specutils"
      ],
      "execution_count": 9,
      "outputs": [
        {
          "output_type": "stream",
          "text": [
            "Collecting specutils\n",
            "\u001b[?25l  Downloading https://files.pythonhosted.org/packages/1c/bd/960191a08495061bcc58566e36844982c4d783f2e47084bfd5a77daf8fba/specutils-1.2.tar.gz (643kB)\n",
            "\r\u001b[K     |▌                               | 10kB 4.3MB/s eta 0:00:01\r\u001b[K     |█                               | 20kB 4.8MB/s eta 0:00:01\r\u001b[K     |█▌                              | 30kB 4.4MB/s eta 0:00:01\r\u001b[K     |██                              | 40kB 2.8MB/s eta 0:00:01\r\u001b[K     |██▌                             | 51kB 3.4MB/s eta 0:00:01\r\u001b[K     |███                             | 61kB 3.7MB/s eta 0:00:01\r\u001b[K     |███▋                            | 71kB 4.0MB/s eta 0:00:01\r\u001b[K     |████                            | 81kB 4.2MB/s eta 0:00:01\r\u001b[K     |████▋                           | 92kB 4.6MB/s eta 0:00:01\r\u001b[K     |█████                           | 102kB 4.9MB/s eta 0:00:01\r\u001b[K     |█████▋                          | 112kB 4.9MB/s eta 0:00:01\r\u001b[K     |██████▏                         | 122kB 4.9MB/s eta 0:00:01\r\u001b[K     |██████▋                         | 133kB 4.9MB/s eta 0:00:01\r\u001b[K     |███████▏                        | 143kB 4.9MB/s eta 0:00:01\r\u001b[K     |███████▋                        | 153kB 4.9MB/s eta 0:00:01\r\u001b[K     |████████▏                       | 163kB 4.9MB/s eta 0:00:01\r\u001b[K     |████████▋                       | 174kB 4.9MB/s eta 0:00:01\r\u001b[K     |█████████▏                      | 184kB 4.9MB/s eta 0:00:01\r\u001b[K     |█████████▊                      | 194kB 4.9MB/s eta 0:00:01\r\u001b[K     |██████████▏                     | 204kB 4.9MB/s eta 0:00:01\r\u001b[K     |██████████▊                     | 215kB 4.9MB/s eta 0:00:01\r\u001b[K     |███████████▏                    | 225kB 4.9MB/s eta 0:00:01\r\u001b[K     |███████████▊                    | 235kB 4.9MB/s eta 0:00:01\r\u001b[K     |████████████▎                   | 245kB 4.9MB/s eta 0:00:01\r\u001b[K     |████████████▊                   | 256kB 4.9MB/s eta 0:00:01\r\u001b[K     |█████████████▎                  | 266kB 4.9MB/s eta 0:00:01\r\u001b[K     |█████████████▊                  | 276kB 4.9MB/s eta 0:00:01\r\u001b[K     |██████████████▎                 | 286kB 4.9MB/s eta 0:00:01\r\u001b[K     |██████████████▊                 | 296kB 4.9MB/s eta 0:00:01\r\u001b[K     |███████████████▎                | 307kB 4.9MB/s eta 0:00:01\r\u001b[K     |███████████████▉                | 317kB 4.9MB/s eta 0:00:01\r\u001b[K     |████████████████▎               | 327kB 4.9MB/s eta 0:00:01\r\u001b[K     |████████████████▉               | 337kB 4.9MB/s eta 0:00:01\r\u001b[K     |█████████████████▎              | 348kB 4.9MB/s eta 0:00:01\r\u001b[K     |█████████████████▉              | 358kB 4.9MB/s eta 0:00:01\r\u001b[K     |██████████████████▍             | 368kB 4.9MB/s eta 0:00:01\r\u001b[K     |██████████████████▉             | 378kB 4.9MB/s eta 0:00:01\r\u001b[K     |███████████████████▍            | 389kB 4.9MB/s eta 0:00:01\r\u001b[K     |███████████████████▉            | 399kB 4.9MB/s eta 0:00:01\r\u001b[K     |████████████████████▍           | 409kB 4.9MB/s eta 0:00:01\r\u001b[K     |████████████████████▉           | 419kB 4.9MB/s eta 0:00:01\r\u001b[K     |█████████████████████▍          | 430kB 4.9MB/s eta 0:00:01\r\u001b[K     |██████████████████████          | 440kB 4.9MB/s eta 0:00:01\r\u001b[K     |██████████████████████▍         | 450kB 4.9MB/s eta 0:00:01\r\u001b[K     |███████████████████████         | 460kB 4.9MB/s eta 0:00:01\r\u001b[K     |███████████████████████▍        | 471kB 4.9MB/s eta 0:00:01\r\u001b[K     |████████████████████████        | 481kB 4.9MB/s eta 0:00:01\r\u001b[K     |████████████████████████▌       | 491kB 4.9MB/s eta 0:00:01\r\u001b[K     |█████████████████████████       | 501kB 4.9MB/s eta 0:00:01\r\u001b[K     |█████████████████████████▌      | 512kB 4.9MB/s eta 0:00:01\r\u001b[K     |██████████████████████████      | 522kB 4.9MB/s eta 0:00:01\r\u001b[K     |██████████████████████████▌     | 532kB 4.9MB/s eta 0:00:01\r\u001b[K     |███████████████████████████     | 542kB 4.9MB/s eta 0:00:01\r\u001b[K     |███████████████████████████▌    | 552kB 4.9MB/s eta 0:00:01\r\u001b[K     |████████████████████████████    | 563kB 4.9MB/s eta 0:00:01\r\u001b[K     |████████████████████████████▌   | 573kB 4.9MB/s eta 0:00:01\r\u001b[K     |█████████████████████████████   | 583kB 4.9MB/s eta 0:00:01\r\u001b[K     |█████████████████████████████▌  | 593kB 4.9MB/s eta 0:00:01\r\u001b[K     |██████████████████████████████  | 604kB 4.9MB/s eta 0:00:01\r\u001b[K     |██████████████████████████████▋ | 614kB 4.9MB/s eta 0:00:01\r\u001b[K     |███████████████████████████████ | 624kB 4.9MB/s eta 0:00:01\r\u001b[K     |███████████████████████████████▋| 634kB 4.9MB/s eta 0:00:01\r\u001b[K     |████████████████████████████████| 645kB 4.9MB/s \n",
            "\u001b[?25h  Installing build dependencies ... \u001b[?25l\u001b[?25hdone\n",
            "  Getting requirements to build wheel ... \u001b[?25l\u001b[?25hdone\n",
            "    Preparing wheel metadata ... \u001b[?25l\u001b[?25hdone\n",
            "Collecting gwcs!=0.16.0\n",
            "\u001b[?25l  Downloading https://files.pythonhosted.org/packages/fd/35/ce7b5fb8b640c2e4b65a901fdd7c701ed6b23e62b8135aa72f48056cfb91/gwcs-0.16.1.tar.gz (171kB)\n",
            "\u001b[K     |████████████████████████████████| 174kB 40.0MB/s \n",
            "\u001b[?25hRequirement already satisfied: astropy>=4.1 in /usr/local/lib/python3.7/dist-packages (from specutils) (4.2.1)\n",
            "Collecting asdf>=2.5\n",
            "\u001b[?25l  Downloading https://files.pythonhosted.org/packages/c5/2d/8fb2e2ae3df4b9a319f860cfcbbb5743859f8a2c410ed32ee4ed5c953655/asdf-2.7.3.tar.gz (509kB)\n",
            "\u001b[K     |████████████████████████████████| 512kB 37.9MB/s \n",
            "\u001b[?25h  Installing build dependencies ... \u001b[?25l\u001b[?25hdone\n",
            "  Getting requirements to build wheel ... \u001b[?25l\u001b[?25hdone\n",
            "    Preparing wheel metadata ... \u001b[?25l\u001b[?25hdone\n",
            "Requirement already satisfied: scipy in /usr/local/lib/python3.7/dist-packages (from specutils) (1.4.1)\n",
            "Requirement already satisfied: numpy in /usr/local/lib/python3.7/dist-packages (from gwcs!=0.16.0->specutils) (1.19.5)\n",
            "Requirement already satisfied: pyerfa in /usr/local/lib/python3.7/dist-packages (from astropy>=4.1->specutils) (1.7.2)\n",
            "Collecting semantic-version>=2.8\n",
            "  Downloading https://files.pythonhosted.org/packages/a5/15/00ef3b7888a10363b7c402350eda3acf395ff05bebae312d1296e528516a/semantic_version-2.8.5-py2.py3-none-any.whl\n",
            "Collecting jsonschema<4,>=3.0.2\n",
            "\u001b[?25l  Downloading https://files.pythonhosted.org/packages/c5/8f/51e89ce52a085483359217bc72cdbf6e75ee595d5b1d4b5ade40c7e018b8/jsonschema-3.2.0-py2.py3-none-any.whl (56kB)\n",
            "\u001b[K     |████████████████████████████████| 61kB 6.1MB/s \n",
            "\u001b[?25hRequirement already satisfied: pyyaml>=3.10 in /usr/local/lib/python3.7/dist-packages (from asdf>=2.5->specutils) (3.13)\n",
            "Requirement already satisfied: importlib-metadata; python_version < \"3.8\" in /usr/local/lib/python3.7/dist-packages (from jsonschema<4,>=3.0.2->asdf>=2.5->specutils) (3.10.0)\n",
            "Requirement already satisfied: setuptools in /usr/local/lib/python3.7/dist-packages (from jsonschema<4,>=3.0.2->asdf>=2.5->specutils) (54.2.0)\n",
            "Requirement already satisfied: attrs>=17.4.0 in /usr/local/lib/python3.7/dist-packages (from jsonschema<4,>=3.0.2->asdf>=2.5->specutils) (20.3.0)\n",
            "Requirement already satisfied: pyrsistent>=0.14.0 in /usr/local/lib/python3.7/dist-packages (from jsonschema<4,>=3.0.2->asdf>=2.5->specutils) (0.17.3)\n",
            "Requirement already satisfied: six>=1.11.0 in /usr/local/lib/python3.7/dist-packages (from jsonschema<4,>=3.0.2->asdf>=2.5->specutils) (1.15.0)\n",
            "Requirement already satisfied: typing-extensions>=3.6.4; python_version < \"3.8\" in /usr/local/lib/python3.7/dist-packages (from importlib-metadata; python_version < \"3.8\"->jsonschema<4,>=3.0.2->asdf>=2.5->specutils) (3.7.4.3)\n",
            "Requirement already satisfied: zipp>=0.5 in /usr/local/lib/python3.7/dist-packages (from importlib-metadata; python_version < \"3.8\"->jsonschema<4,>=3.0.2->asdf>=2.5->specutils) (3.4.1)\n",
            "Building wheels for collected packages: specutils, asdf\n",
            "  Building wheel for specutils (PEP 517) ... \u001b[?25l\u001b[?25hdone\n",
            "  Created wheel for specutils: filename=specutils-1.2-cp37-none-any.whl size=177575 sha256=8d742d17679e604bb71f8dfd92fd0340e064641ac0c8f5b0622465147b0f72e8\n",
            "  Stored in directory: /root/.cache/pip/wheels/af/88/32/7ccdd3bfdd9469747850b14674938ccc180caf58f69e006659\n",
            "  Building wheel for asdf (PEP 517) ... \u001b[?25l\u001b[?25hdone\n",
            "  Created wheel for asdf: filename=asdf-2.7.3-cp37-none-any.whl size=573206 sha256=ad2844e8868b7d1adc90378e686093c363905fc9cb5971e8bfd71cc1162f0404\n",
            "  Stored in directory: /root/.cache/pip/wheels/01/cc/ff/c29ad7c212112bbdd9f416c24915607bdf2b4d83641f876e2e\n",
            "Successfully built specutils asdf\n",
            "Building wheels for collected packages: gwcs\n",
            "  Building wheel for gwcs (setup.py) ... \u001b[?25l\u001b[?25hdone\n",
            "  Created wheel for gwcs: filename=gwcs-0.16.1-cp37-none-any.whl size=108765 sha256=89e9233eccbebc9706565153097e704c5523269274fc3af5c5b62d3dbc7c4710\n",
            "  Stored in directory: /root/.cache/pip/wheels/04/8b/18/46c2c837c352644e5f5b9fbad89ceaf5fa9e82062cd0a64bfe\n",
            "Successfully built gwcs\n",
            "\u001b[31mERROR: nbclient 0.5.3 has requirement jupyter-client>=6.1.5, but you'll have jupyter-client 5.3.5 which is incompatible.\u001b[0m\n",
            "Installing collected packages: semantic-version, jsonschema, asdf, gwcs, specutils\n",
            "  Found existing installation: jsonschema 2.6.0\n",
            "    Uninstalling jsonschema-2.6.0:\n",
            "      Successfully uninstalled jsonschema-2.6.0\n",
            "Successfully installed asdf-2.7.3 gwcs-0.16.1 jsonschema-3.2.0 semantic-version-2.8.5 specutils-1.2\n"
          ],
          "name": "stdout"
        }
      ]
    },
    {
      "cell_type": "markdown",
      "metadata": {
        "id": "aWruZgfRzLg2"
      },
      "source": [
        "Vamos a poner los datos en el formato apropiado para \"astropy\" y crear un objeto llamado \"Spectrum1D\" que vamos a graficar."
      ]
    },
    {
      "cell_type": "code",
      "metadata": {
        "colab": {
          "base_uri": "https://localhost:8080/",
          "height": 346
        },
        "id": "YSlkwkZSzLg2",
        "outputId": "72000abf-0dc8-4aff-aeed-8f8aa4b66bd3"
      },
      "source": [
        "from specutils import Spectrum1D\n",
        "\n",
        "spec = Spectrum1D(spectral_axis=wave, flux=flux)"
      ],
      "execution_count": 10,
      "outputs": [
        {
          "output_type": "error",
          "ename": "ContextualVersionConflict",
          "evalue": "ignored",
          "traceback": [
            "\u001b[0;31m---------------------------------------------------------------------------\u001b[0m",
            "\u001b[0;31mContextualVersionConflict\u001b[0m                 Traceback (most recent call last)",
            "\u001b[0;32m<ipython-input-10-824a6f19cd13>\u001b[0m in \u001b[0;36m<module>\u001b[0;34m()\u001b[0m\n\u001b[0;32m----> 1\u001b[0;31m \u001b[0;32mfrom\u001b[0m \u001b[0mspecutils\u001b[0m \u001b[0;32mimport\u001b[0m \u001b[0mSpectrum1D\u001b[0m\u001b[0;34m\u001b[0m\u001b[0;34m\u001b[0m\u001b[0m\n\u001b[0m\u001b[1;32m      2\u001b[0m \u001b[0;34m\u001b[0m\u001b[0m\n\u001b[1;32m      3\u001b[0m \u001b[0mspec\u001b[0m \u001b[0;34m=\u001b[0m \u001b[0mSpectrum1D\u001b[0m\u001b[0;34m(\u001b[0m\u001b[0mspectral_axis\u001b[0m\u001b[0;34m=\u001b[0m\u001b[0mwave\u001b[0m\u001b[0;34m,\u001b[0m \u001b[0mflux\u001b[0m\u001b[0;34m=\u001b[0m\u001b[0mflux\u001b[0m\u001b[0;34m)\u001b[0m\u001b[0;34m\u001b[0m\u001b[0;34m\u001b[0m\u001b[0m\n",
            "\u001b[0;32m/usr/local/lib/python3.7/dist-packages/specutils/__init__.py\u001b[0m in \u001b[0;36m<module>\u001b[0;34m()\u001b[0m\n\u001b[1;32m     29\u001b[0m \u001b[0;34m\u001b[0m\u001b[0m\n\u001b[1;32m     30\u001b[0m     \u001b[0;31m# Allow loading spectrum object from top level module\u001b[0m\u001b[0;34m\u001b[0m\u001b[0;34m\u001b[0m\u001b[0;34m\u001b[0m\u001b[0m\n\u001b[0;32m---> 31\u001b[0;31m     \u001b[0;32mfrom\u001b[0m \u001b[0;34m.\u001b[0m\u001b[0mspectra\u001b[0m \u001b[0;32mimport\u001b[0m \u001b[0;34m*\u001b[0m\u001b[0;34m\u001b[0m\u001b[0;34m\u001b[0m\u001b[0m\n\u001b[0m\u001b[1;32m     32\u001b[0m \u001b[0;34m\u001b[0m\u001b[0m\n\u001b[1;32m     33\u001b[0m     \u001b[0;31m# Load the IO functions\u001b[0m\u001b[0;34m\u001b[0m\u001b[0;34m\u001b[0m\u001b[0;34m\u001b[0m\u001b[0m\n",
            "\u001b[0;32m/usr/local/lib/python3.7/dist-packages/specutils/spectra/__init__.py\u001b[0m in \u001b[0;36m<module>\u001b[0;34m()\u001b[0m\n\u001b[1;32m      3\u001b[0m \u001b[0;31m`\u001b[0m\u001b[0;34m~\u001b[0m\u001b[0mastropy\u001b[0m\u001b[0;34m.\u001b[0m\u001b[0mnddata\u001b[0m\u001b[0;34m.\u001b[0m\u001b[0mNDData\u001b[0m\u001b[0;31m`\u001b[0m\u001b[0;34m-\u001b[0m\u001b[0minherited\u001b[0m \u001b[0mclasses\u001b[0m \u001b[0mused\u001b[0m \u001b[0;32mfor\u001b[0m \u001b[0mstoring\u001b[0m \u001b[0mthe\u001b[0m \u001b[0mspectrum\u001b[0m \u001b[0mdata\u001b[0m\u001b[0;34m.\u001b[0m\u001b[0;34m\u001b[0m\u001b[0;34m\u001b[0m\u001b[0m\n\u001b[1;32m      4\u001b[0m \"\"\"\n\u001b[0;32m----> 5\u001b[0;31m \u001b[0;32mfrom\u001b[0m \u001b[0;34m.\u001b[0m\u001b[0mspectrum1d\u001b[0m \u001b[0;32mimport\u001b[0m \u001b[0;34m*\u001b[0m  \u001b[0;31m# noqa\u001b[0m\u001b[0;34m\u001b[0m\u001b[0;34m\u001b[0m\u001b[0m\n\u001b[0m\u001b[1;32m      6\u001b[0m \u001b[0;32mfrom\u001b[0m \u001b[0;34m.\u001b[0m\u001b[0mspectral_region\u001b[0m \u001b[0;32mimport\u001b[0m \u001b[0;34m*\u001b[0m  \u001b[0;31m# noqa\u001b[0m\u001b[0;34m\u001b[0m\u001b[0;34m\u001b[0m\u001b[0m\n\u001b[1;32m      7\u001b[0m \u001b[0;32mfrom\u001b[0m \u001b[0;34m.\u001b[0m\u001b[0mspectrum_collection\u001b[0m \u001b[0;32mimport\u001b[0m \u001b[0;34m*\u001b[0m  \u001b[0;31m# noqa\u001b[0m\u001b[0;34m\u001b[0m\u001b[0;34m\u001b[0m\u001b[0m\n",
            "\u001b[0;32m/usr/local/lib/python3.7/dist-packages/specutils/spectra/spectrum1d.py\u001b[0m in \u001b[0;36m<module>\u001b[0;34m()\u001b[0m\n\u001b[1;32m      9\u001b[0m \u001b[0;34m\u001b[0m\u001b[0m\n\u001b[1;32m     10\u001b[0m \u001b[0;32mfrom\u001b[0m \u001b[0;34m.\u001b[0m\u001b[0mspectral_axis\u001b[0m \u001b[0;32mimport\u001b[0m \u001b[0mSpectralAxis\u001b[0m\u001b[0;34m\u001b[0m\u001b[0;34m\u001b[0m\u001b[0m\n\u001b[0;32m---> 11\u001b[0;31m \u001b[0;32mfrom\u001b[0m \u001b[0;34m.\u001b[0m\u001b[0mspectrum_mixin\u001b[0m \u001b[0;32mimport\u001b[0m \u001b[0mOneDSpectrumMixin\u001b[0m\u001b[0;34m\u001b[0m\u001b[0;34m\u001b[0m\u001b[0m\n\u001b[0m\u001b[1;32m     12\u001b[0m \u001b[0;32mfrom\u001b[0m \u001b[0;34m.\u001b[0m\u001b[0;34m.\u001b[0m\u001b[0mutils\u001b[0m\u001b[0;34m.\u001b[0m\u001b[0mwcs_utils\u001b[0m \u001b[0;32mimport\u001b[0m \u001b[0mgwcs_from_array\u001b[0m\u001b[0;34m\u001b[0m\u001b[0;34m\u001b[0m\u001b[0m\n\u001b[1;32m     13\u001b[0m \u001b[0;34m\u001b[0m\u001b[0m\n",
            "\u001b[0;32m/usr/local/lib/python3.7/dist-packages/specutils/spectra/spectrum_mixin.py\u001b[0m in \u001b[0;36m<module>\u001b[0;34m()\u001b[0m\n\u001b[1;32m      8\u001b[0m \u001b[0;32mfrom\u001b[0m \u001b[0mastropy\u001b[0m\u001b[0;34m.\u001b[0m\u001b[0mwcs\u001b[0m\u001b[0;34m.\u001b[0m\u001b[0mwcsapi\u001b[0m \u001b[0;32mimport\u001b[0m \u001b[0mHighLevelWCSWrapper\u001b[0m\u001b[0;34m\u001b[0m\u001b[0;34m\u001b[0m\u001b[0m\n\u001b[1;32m      9\u001b[0m \u001b[0;34m\u001b[0m\u001b[0m\n\u001b[0;32m---> 10\u001b[0;31m \u001b[0;32mfrom\u001b[0m \u001b[0mspecutils\u001b[0m\u001b[0;34m.\u001b[0m\u001b[0mutils\u001b[0m\u001b[0;34m.\u001b[0m\u001b[0mwcs_utils\u001b[0m \u001b[0;32mimport\u001b[0m \u001b[0mgwcs_from_array\u001b[0m\u001b[0;34m\u001b[0m\u001b[0;34m\u001b[0m\u001b[0m\n\u001b[0m\u001b[1;32m     11\u001b[0m \u001b[0;34m\u001b[0m\u001b[0m\n\u001b[1;32m     12\u001b[0m \u001b[0mDOPPLER_CONVENTIONS\u001b[0m \u001b[0;34m=\u001b[0m \u001b[0;34m{\u001b[0m\u001b[0;34m}\u001b[0m\u001b[0;34m\u001b[0m\u001b[0;34m\u001b[0m\u001b[0m\n",
            "\u001b[0;32m/usr/local/lib/python3.7/dist-packages/specutils/utils/wcs_utils.py\u001b[0m in \u001b[0;36m<module>\u001b[0;34m()\u001b[0m\n\u001b[1;32m      5\u001b[0m \u001b[0;32mfrom\u001b[0m \u001b[0mastropy\u001b[0m\u001b[0;34m.\u001b[0m\u001b[0mmodeling\u001b[0m\u001b[0;34m.\u001b[0m\u001b[0mmodels\u001b[0m \u001b[0;32mimport\u001b[0m \u001b[0mShift\u001b[0m\u001b[0;34m\u001b[0m\u001b[0;34m\u001b[0m\u001b[0m\n\u001b[1;32m      6\u001b[0m \u001b[0;32mfrom\u001b[0m \u001b[0mastropy\u001b[0m\u001b[0;34m.\u001b[0m\u001b[0mmodeling\u001b[0m\u001b[0;34m.\u001b[0m\u001b[0mtabular\u001b[0m \u001b[0;32mimport\u001b[0m \u001b[0mTabular1D\u001b[0m\u001b[0;34m\u001b[0m\u001b[0;34m\u001b[0m\u001b[0m\n\u001b[0;32m----> 7\u001b[0;31m \u001b[0;32mfrom\u001b[0m \u001b[0mgwcs\u001b[0m \u001b[0;32mimport\u001b[0m \u001b[0mWCS\u001b[0m \u001b[0;32mas\u001b[0m \u001b[0mGWCS\u001b[0m\u001b[0;34m\u001b[0m\u001b[0;34m\u001b[0m\u001b[0m\n\u001b[0m\u001b[1;32m      8\u001b[0m \u001b[0;32mfrom\u001b[0m \u001b[0mgwcs\u001b[0m \u001b[0;32mimport\u001b[0m \u001b[0mcoordinate_frames\u001b[0m \u001b[0;32mas\u001b[0m \u001b[0mcf\u001b[0m\u001b[0;34m\u001b[0m\u001b[0;34m\u001b[0m\u001b[0m\n\u001b[1;32m      9\u001b[0m \u001b[0;34m\u001b[0m\u001b[0m\n",
            "\u001b[0;32m/usr/local/lib/python3.7/dist-packages/gwcs/__init__.py\u001b[0m in \u001b[0;36m<module>\u001b[0;34m()\u001b[0m\n\u001b[1;32m     64\u001b[0m \u001b[0;34m\u001b[0m\u001b[0m\n\u001b[1;32m     65\u001b[0m \u001b[0;32mtry\u001b[0m\u001b[0;34m:\u001b[0m\u001b[0;34m\u001b[0m\u001b[0;34m\u001b[0m\u001b[0m\n\u001b[0;32m---> 66\u001b[0;31m     \u001b[0m__version__\u001b[0m \u001b[0;34m=\u001b[0m \u001b[0mget_distribution\u001b[0m\u001b[0;34m(\u001b[0m\u001b[0m__name__\u001b[0m\u001b[0;34m)\u001b[0m\u001b[0;34m.\u001b[0m\u001b[0mversion\u001b[0m\u001b[0;34m\u001b[0m\u001b[0;34m\u001b[0m\u001b[0m\n\u001b[0m\u001b[1;32m     67\u001b[0m \u001b[0;32mexcept\u001b[0m \u001b[0mDistributionNotFound\u001b[0m\u001b[0;34m:\u001b[0m  \u001b[0;31m# pragma: no cover\u001b[0m\u001b[0;34m\u001b[0m\u001b[0;34m\u001b[0m\u001b[0m\n\u001b[1;32m     68\u001b[0m     \u001b[0;31m# package is not installed\u001b[0m\u001b[0;34m\u001b[0m\u001b[0;34m\u001b[0m\u001b[0;34m\u001b[0m\u001b[0m\n",
            "\u001b[0;32m/usr/local/lib/python3.7/dist-packages/pkg_resources/__init__.py\u001b[0m in \u001b[0;36mget_distribution\u001b[0;34m(dist)\u001b[0m\n\u001b[1;32m    464\u001b[0m         \u001b[0mdist\u001b[0m \u001b[0;34m=\u001b[0m \u001b[0mRequirement\u001b[0m\u001b[0;34m.\u001b[0m\u001b[0mparse\u001b[0m\u001b[0;34m(\u001b[0m\u001b[0mdist\u001b[0m\u001b[0;34m)\u001b[0m\u001b[0;34m\u001b[0m\u001b[0;34m\u001b[0m\u001b[0m\n\u001b[1;32m    465\u001b[0m     \u001b[0;32mif\u001b[0m \u001b[0misinstance\u001b[0m\u001b[0;34m(\u001b[0m\u001b[0mdist\u001b[0m\u001b[0;34m,\u001b[0m \u001b[0mRequirement\u001b[0m\u001b[0;34m)\u001b[0m\u001b[0;34m:\u001b[0m\u001b[0;34m\u001b[0m\u001b[0;34m\u001b[0m\u001b[0m\n\u001b[0;32m--> 466\u001b[0;31m         \u001b[0mdist\u001b[0m \u001b[0;34m=\u001b[0m \u001b[0mget_provider\u001b[0m\u001b[0;34m(\u001b[0m\u001b[0mdist\u001b[0m\u001b[0;34m)\u001b[0m\u001b[0;34m\u001b[0m\u001b[0;34m\u001b[0m\u001b[0m\n\u001b[0m\u001b[1;32m    467\u001b[0m     \u001b[0;32mif\u001b[0m \u001b[0;32mnot\u001b[0m \u001b[0misinstance\u001b[0m\u001b[0;34m(\u001b[0m\u001b[0mdist\u001b[0m\u001b[0;34m,\u001b[0m \u001b[0mDistribution\u001b[0m\u001b[0;34m)\u001b[0m\u001b[0;34m:\u001b[0m\u001b[0;34m\u001b[0m\u001b[0;34m\u001b[0m\u001b[0m\n\u001b[1;32m    468\u001b[0m         \u001b[0;32mraise\u001b[0m \u001b[0mTypeError\u001b[0m\u001b[0;34m(\u001b[0m\u001b[0;34m\"Expected string, Requirement, or Distribution\"\u001b[0m\u001b[0;34m,\u001b[0m \u001b[0mdist\u001b[0m\u001b[0;34m)\u001b[0m\u001b[0;34m\u001b[0m\u001b[0;34m\u001b[0m\u001b[0m\n",
            "\u001b[0;32m/usr/local/lib/python3.7/dist-packages/pkg_resources/__init__.py\u001b[0m in \u001b[0;36mget_provider\u001b[0;34m(moduleOrReq)\u001b[0m\n\u001b[1;32m    340\u001b[0m     \u001b[0;34m\"\"\"Return an IResourceProvider for the named module or requirement\"\"\"\u001b[0m\u001b[0;34m\u001b[0m\u001b[0;34m\u001b[0m\u001b[0m\n\u001b[1;32m    341\u001b[0m     \u001b[0;32mif\u001b[0m \u001b[0misinstance\u001b[0m\u001b[0;34m(\u001b[0m\u001b[0mmoduleOrReq\u001b[0m\u001b[0;34m,\u001b[0m \u001b[0mRequirement\u001b[0m\u001b[0;34m)\u001b[0m\u001b[0;34m:\u001b[0m\u001b[0;34m\u001b[0m\u001b[0;34m\u001b[0m\u001b[0m\n\u001b[0;32m--> 342\u001b[0;31m         \u001b[0;32mreturn\u001b[0m \u001b[0mworking_set\u001b[0m\u001b[0;34m.\u001b[0m\u001b[0mfind\u001b[0m\u001b[0;34m(\u001b[0m\u001b[0mmoduleOrReq\u001b[0m\u001b[0;34m)\u001b[0m \u001b[0;32mor\u001b[0m \u001b[0mrequire\u001b[0m\u001b[0;34m(\u001b[0m\u001b[0mstr\u001b[0m\u001b[0;34m(\u001b[0m\u001b[0mmoduleOrReq\u001b[0m\u001b[0;34m)\u001b[0m\u001b[0;34m)\u001b[0m\u001b[0;34m[\u001b[0m\u001b[0;36m0\u001b[0m\u001b[0;34m]\u001b[0m\u001b[0;34m\u001b[0m\u001b[0;34m\u001b[0m\u001b[0m\n\u001b[0m\u001b[1;32m    343\u001b[0m     \u001b[0;32mtry\u001b[0m\u001b[0;34m:\u001b[0m\u001b[0;34m\u001b[0m\u001b[0;34m\u001b[0m\u001b[0m\n\u001b[1;32m    344\u001b[0m         \u001b[0mmodule\u001b[0m \u001b[0;34m=\u001b[0m \u001b[0msys\u001b[0m\u001b[0;34m.\u001b[0m\u001b[0mmodules\u001b[0m\u001b[0;34m[\u001b[0m\u001b[0mmoduleOrReq\u001b[0m\u001b[0;34m]\u001b[0m\u001b[0;34m\u001b[0m\u001b[0;34m\u001b[0m\u001b[0m\n",
            "\u001b[0;32m/usr/local/lib/python3.7/dist-packages/pkg_resources/__init__.py\u001b[0m in \u001b[0;36mrequire\u001b[0;34m(self, *requirements)\u001b[0m\n\u001b[1;32m    884\u001b[0m         \u001b[0mincluded\u001b[0m\u001b[0;34m,\u001b[0m \u001b[0meven\u001b[0m \u001b[0;32mif\u001b[0m \u001b[0mthey\u001b[0m \u001b[0mwere\u001b[0m \u001b[0malready\u001b[0m \u001b[0mactivated\u001b[0m \u001b[0;32min\u001b[0m \u001b[0mthis\u001b[0m \u001b[0mworking\u001b[0m \u001b[0mset\u001b[0m\u001b[0;34m.\u001b[0m\u001b[0;34m\u001b[0m\u001b[0;34m\u001b[0m\u001b[0m\n\u001b[1;32m    885\u001b[0m         \"\"\"\n\u001b[0;32m--> 886\u001b[0;31m         \u001b[0mneeded\u001b[0m \u001b[0;34m=\u001b[0m \u001b[0mself\u001b[0m\u001b[0;34m.\u001b[0m\u001b[0mresolve\u001b[0m\u001b[0;34m(\u001b[0m\u001b[0mparse_requirements\u001b[0m\u001b[0;34m(\u001b[0m\u001b[0mrequirements\u001b[0m\u001b[0;34m)\u001b[0m\u001b[0;34m)\u001b[0m\u001b[0;34m\u001b[0m\u001b[0;34m\u001b[0m\u001b[0m\n\u001b[0m\u001b[1;32m    887\u001b[0m \u001b[0;34m\u001b[0m\u001b[0m\n\u001b[1;32m    888\u001b[0m         \u001b[0;32mfor\u001b[0m \u001b[0mdist\u001b[0m \u001b[0;32min\u001b[0m \u001b[0mneeded\u001b[0m\u001b[0;34m:\u001b[0m\u001b[0;34m\u001b[0m\u001b[0;34m\u001b[0m\u001b[0m\n",
            "\u001b[0;32m/usr/local/lib/python3.7/dist-packages/pkg_resources/__init__.py\u001b[0m in \u001b[0;36mresolve\u001b[0;34m(self, requirements, env, installer, replace_conflicting, extras)\u001b[0m\n\u001b[1;32m    775\u001b[0m                 \u001b[0;31m# Oops, the \"best\" so far conflicts with a dependency\u001b[0m\u001b[0;34m\u001b[0m\u001b[0;34m\u001b[0m\u001b[0;34m\u001b[0m\u001b[0m\n\u001b[1;32m    776\u001b[0m                 \u001b[0mdependent_req\u001b[0m \u001b[0;34m=\u001b[0m \u001b[0mrequired_by\u001b[0m\u001b[0;34m[\u001b[0m\u001b[0mreq\u001b[0m\u001b[0;34m]\u001b[0m\u001b[0;34m\u001b[0m\u001b[0;34m\u001b[0m\u001b[0m\n\u001b[0;32m--> 777\u001b[0;31m                 \u001b[0;32mraise\u001b[0m \u001b[0mVersionConflict\u001b[0m\u001b[0;34m(\u001b[0m\u001b[0mdist\u001b[0m\u001b[0;34m,\u001b[0m \u001b[0mreq\u001b[0m\u001b[0;34m)\u001b[0m\u001b[0;34m.\u001b[0m\u001b[0mwith_context\u001b[0m\u001b[0;34m(\u001b[0m\u001b[0mdependent_req\u001b[0m\u001b[0;34m)\u001b[0m\u001b[0;34m\u001b[0m\u001b[0;34m\u001b[0m\u001b[0m\n\u001b[0m\u001b[1;32m    778\u001b[0m \u001b[0;34m\u001b[0m\u001b[0m\n\u001b[1;32m    779\u001b[0m             \u001b[0;31m# push the new requirements onto the stack\u001b[0m\u001b[0;34m\u001b[0m\u001b[0;34m\u001b[0m\u001b[0;34m\u001b[0m\u001b[0m\n",
            "\u001b[0;31mContextualVersionConflict\u001b[0m: (jsonschema 2.6.0 (/usr/local/lib/python3.7/dist-packages), Requirement.parse('jsonschema<4,>=3.0.2'), {'asdf'})"
          ]
        }
      ]
    },
    {
      "cell_type": "markdown",
      "metadata": {
        "id": "HdpkbUu2zLg2"
      },
      "source": [
        "Graficamos el espectro."
      ]
    },
    {
      "cell_type": "code",
      "metadata": {
        "colab": {
          "base_uri": "https://localhost:8080/",
          "height": 307
        },
        "id": "FV7tE6VczLg3",
        "outputId": "01fe66e6-2dac-4b2a-bb8f-e16b292a05df"
      },
      "source": [
        "f, ax = plt.subplots()  \n",
        "\n",
        "#ax.step(spec.spectral_axis, spec.flux)\n",
        "#plt.xlabel('Rest Wavelength ({})'.format(spec.spectral_axis.unit)) \n",
        "#plt.ylabel('Flux ({})'.format(spec.flux.unit))\n",
        "ax.plot(wave, flux)\n",
        "plt.xlabel('Rest Wavelength (A)') \n",
        "plt.ylabel('Flux (cm/s/cm2/A)')"
      ],
      "execution_count": 11,
      "outputs": [
        {
          "output_type": "execute_result",
          "data": {
            "text/plain": [
              "Text(0, 0.5, 'Flux (cm/s/cm2/A)')"
            ]
          },
          "metadata": {
            "tags": []
          },
          "execution_count": 11
        },
        {
          "output_type": "display_data",
          "data": {
            "image/png": "[encoded data removed]",
            "text/plain": [
              "<Figure size 432x288 with 1 Axes>"
            ]
          },
          "metadata": {
            "tags": [],
            "needs_background": "light"
          }
        }
      ]
    },
    {
      "cell_type": "markdown",
      "metadata": {
        "id": "aeaOO9CRzLg5"
      },
      "source": [
        "# Corrección por polvo en la Vía Láctea"
      ]
    },
    {
      "cell_type": "markdown",
      "metadata": {
        "id": "iE6Er76CzLg5"
      },
      "source": [
        "INSTRUCCIÓN. Vamos a corregir la luz de las estrellas que se encuentran en la galaxia KISSR 298 por extinción debida al polvo en nuestra Galaxia.\n",
        "\n",
        "Para esto, necesitamos el exceso de color debido al polvo en nuestra Galaxia, en la dirección de KISSR 298. \n",
        "\n",
        "Para calcular el exceso de color, E(B-V), primero encuentra la extinción Galáctica en las bandas Landolt B y V, yendo a la liga de abajo, introduciendo el nombre del objeto, luego yendo a la pestaña de Galactic Extinction, y finalmente yendo a la columna \"Galactic Extinctions\".\n",
        "https://ned.ipac.caltech.edu/\n"
      ]
    },
    {
      "cell_type": "code",
      "metadata": {
        "id": "Z99mPddnzLg6"
      },
      "source": [
        "B=0.062 # extinción Galáctica en la banda B\n",
        "V=0.047 # extinción Galáctica en la banda V\n",
        "ebvmw=B-V # exceso de color E(B-V) de la Vía Láctea (Milky Way)"
      ],
      "execution_count": 12,
      "outputs": []
    },
    {
      "cell_type": "markdown",
      "metadata": {
        "id": "ERQKjW_S0wZ9"
      },
      "source": [
        "Importamos un paquete necesario."
      ]
    },
    {
      "cell_type": "code",
      "metadata": {
        "colab": {
          "base_uri": "https://localhost:8080/"
        },
        "id": "2Ezo6mkw0w6f",
        "outputId": "3dd73091-aa9e-4be5-dd2b-b966cf735ad9"
      },
      "source": [
        "# Install a pip package in the current Jupyter kernel\n",
        "import sys\n",
        "!{sys.executable} -m pip install dust_extinction.parameter_averages"
      ],
      "execution_count": 14,
      "outputs": [
        {
          "output_type": "stream",
          "text": [
            "\u001b[31mERROR: Could not find a version that satisfies the requirement dust_extinction.parameter_averages (from versions: none)\u001b[0m\n",
            "\u001b[31mERROR: No matching distribution found for dust_extinction.parameter_averages\u001b[0m\n"
          ],
          "name": "stdout"
        }
      ]
    },
    {
      "cell_type": "code",
      "metadata": {
        "colab": {
          "base_uri": "https://localhost:8080/",
          "height": 374
        },
        "id": "hl4MG42rzLg6",
        "outputId": "e8c00f75-bc48-4020-99b2-0913c6f634a7"
      },
      "source": [
        "# Import this model: Cardelli, Clayton & Mathis (1989) with A_V = 1 and R_V = 3.1\n",
        "from dust_extinction.parameter_averages import CCM89\n",
        "from scipy.optimize import curve_fit\n",
        "\n",
        "# Define the reddening model\n",
        "\n",
        "ext = CCM89(Rv=3.1)\n",
        "\n",
        "# Flujo corregido (unextinguished flux )\n",
        "\n",
        "uflux = flux / ext.extinguish(1/wave.to(u.micron), Ebv=0.1)\n"
      ],
      "execution_count": 13,
      "outputs": [
        {
          "output_type": "error",
          "ename": "ModuleNotFoundError",
          "evalue": "ignored",
          "traceback": [
            "\u001b[0;31m---------------------------------------------------------------------------\u001b[0m",
            "\u001b[0;31mModuleNotFoundError\u001b[0m                       Traceback (most recent call last)",
            "\u001b[0;32m<ipython-input-13-d78529ad8e16>\u001b[0m in \u001b[0;36m<module>\u001b[0;34m()\u001b[0m\n\u001b[1;32m      1\u001b[0m \u001b[0;31m# Import this model: Cardelli, Clayton & Mathis (1989) with A_V = 1 and R_V = 3.1\u001b[0m\u001b[0;34m\u001b[0m\u001b[0;34m\u001b[0m\u001b[0;34m\u001b[0m\u001b[0m\n\u001b[0;32m----> 2\u001b[0;31m \u001b[0;32mfrom\u001b[0m \u001b[0mdust_extinction\u001b[0m\u001b[0;34m.\u001b[0m\u001b[0mparameter_averages\u001b[0m \u001b[0;32mimport\u001b[0m \u001b[0mCCM89\u001b[0m\u001b[0;34m\u001b[0m\u001b[0;34m\u001b[0m\u001b[0m\n\u001b[0m\u001b[1;32m      3\u001b[0m \u001b[0;32mfrom\u001b[0m \u001b[0mscipy\u001b[0m\u001b[0;34m.\u001b[0m\u001b[0moptimize\u001b[0m \u001b[0;32mimport\u001b[0m \u001b[0mcurve_fit\u001b[0m\u001b[0;34m\u001b[0m\u001b[0;34m\u001b[0m\u001b[0m\n\u001b[1;32m      4\u001b[0m \u001b[0;34m\u001b[0m\u001b[0m\n\u001b[1;32m      5\u001b[0m \u001b[0;31m# Define the reddening model\u001b[0m\u001b[0;34m\u001b[0m\u001b[0;34m\u001b[0m\u001b[0;34m\u001b[0m\u001b[0m\n",
            "\u001b[0;31mModuleNotFoundError\u001b[0m: No module named 'dust_extinction'",
            "",
            "\u001b[0;31m---------------------------------------------------------------------------\u001b[0;32m\nNOTE: If your import is failing due to a missing package, you can\nmanually install dependencies using either !pip or !apt.\n\nTo view examples of installing some common dependencies, click the\n\"Open Examples\" button below.\n\u001b[0;31m---------------------------------------------------------------------------\u001b[0m\n"
          ]
        }
      ]
    },
    {
      "cell_type": "markdown",
      "metadata": {
        "id": "by4rrPejzLg6"
      },
      "source": [
        "Graficamos el espectro antes y después de la corrección por enrojecimiento en la Vía Láctea."
      ]
    },
    {
      "cell_type": "code",
      "metadata": {
        "id": "F3Xe1pIIzLg7",
        "outputId": "1af6b2a7-9f66-47d7-f862-7c887aea1c4f"
      },
      "source": [
        "f, ax = plt.subplots()  \n",
        "\n",
        "ax.step(spec.spectral_axis, spec.flux)\n",
        "ax.plot(wave,uflux)\n",
        "plt.xlabel('Observed Wavelength ({})'.format(spec.spectral_axis.unit)) \n",
        "plt.ylabel('Flux ({})'.format(spec.flux.unit))\n",
        "plt.ylim(0,5e-16)"
      ],
      "execution_count": null,
      "outputs": [
        {
          "output_type": "execute_result",
          "data": {
            "text/plain": [
              "(0.0, 5e-16)"
            ]
          },
          "metadata": {
            "tags": []
          },
          "execution_count": 50
        },
        {
          "output_type": "display_data",
          "data": {
            "image/png": "[encoded data removed]",
            "text/plain": [
              "<Figure size 432x288 with 1 Axes>"
            ]
          },
          "metadata": {
            "tags": [],
            "needs_background": "light"
          }
        }
      ]
    },
    {
      "cell_type": "markdown",
      "metadata": {
        "id": "wvFhBuTnzLg7"
      },
      "source": [
        "# Corrección por corrimiento al rojo"
      ]
    },
    {
      "cell_type": "markdown",
      "metadata": {
        "id": "jVpQTEyczLg7"
      },
      "source": [
        "INSTRUCCIÓN. Determina el corrimiento al rojo, z, de la galaxia.\n",
        "Para esto, identifica las líneas espectrales de H-alfa y H-beta del hidrógeno. Si la galaxia no se estuviera ni alejando de ni acercando a nostros, las longitudes de onda en Agstroms de estas líneas fuertes del espectro estarían en 6563 y 4861, respectivamente. "
      ]
    },
    {
      "cell_type": "code",
      "metadata": {
        "id": "YXkm6pb6zLg7"
      },
      "source": [
        "z=0.04899 # Corrimiento al rojo encontrado"
      ],
      "execution_count": null,
      "outputs": []
    },
    {
      "cell_type": "code",
      "metadata": {
        "id": "22zWUsYGzLg9"
      },
      "source": [
        "wave_rest = wave / (1 + z)"
      ],
      "execution_count": null,
      "outputs": []
    },
    {
      "cell_type": "markdown",
      "metadata": {
        "id": "h0MJUQiszLg9"
      },
      "source": [
        "Lo graficamos antes y después de la corrección por corrimiento al rojo."
      ]
    },
    {
      "cell_type": "code",
      "metadata": {
        "id": "_6mgjfAMzLg9",
        "outputId": "587966d0-e9ef-43c2-b3f8-f276092fe0cc"
      },
      "source": [
        "f, ax = plt.subplots()  \n",
        "\n",
        "ax.plot(wave, uflux)\n",
        "ax.plot(wave_rest, uflux)\n",
        "plt.xlabel('Rest Wavelength ({})'.format(spec.spectral_axis.unit)) \n",
        "plt.ylabel('Flux ({})'.format(spec.flux.unit))"
      ],
      "execution_count": null,
      "outputs": [
        {
          "output_type": "execute_result",
          "data": {
            "text/plain": [
              "Text(0, 0.5, 'Flux (erg / (Angstrom cm2 s))')"
            ]
          },
          "metadata": {
            "tags": []
          },
          "execution_count": 33
        },
        {
          "output_type": "display_data",
          "data": {
            "image/png": "[encoded data removed]",
            "text/plain": [
              "<Figure size 432x288 with 1 Axes>"
            ]
          },
          "metadata": {
            "tags": [],
            "needs_background": "light"
          }
        }
      ]
    },
    {
      "cell_type": "code",
      "metadata": {
        "id": "hyjj9ZPIzLg9"
      },
      "source": [
        ""
      ],
      "execution_count": null,
      "outputs": []
    }
  ]
}