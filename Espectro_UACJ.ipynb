{
  "nbformat": 4,
  "nbformat_minor": 0,
  "metadata": {
    "kernelspec": {
      "display_name": "Python 3",
      "language": "python",
      "name": "python3"
    },
    "language_info": {
      "codemirror_mode": {
        "name": "ipython",
        "version": 3
      },
      "file_extension": ".py",
      "mimetype": "text/x-python",
      "name": "python",
      "nbconvert_exporter": "python",
      "pygments_lexer": "ipython3",
      "version": "3.8.3"
    },
    "colab": {
      "name": "Espectro_UACJ.ipynb",
      "provenance": [],
      "include_colab_link": true
    }
  },
  "cells": [
    {
      "cell_type": "markdown",
      "metadata": {
        "id": "view-in-github",
        "colab_type": "text"
      },
      "source": [
        "<a href=\"https://colab.research.google.com/github/sundarjhu/UACJ_Jornada2021/blob/main/Espectro_UACJ.ipynb\" target=\"_parent\"><img src=\"https://colab.research.google.com/assets/colab-badge.svg\" alt=\"Open In Colab\"/></a>"
      ]
    },
    {
      "cell_type": "markdown",
      "metadata": {
        "id": "fjSAgr487MYO"
      },
      "source": [
        "# Detalles sobre este notebook de python."
      ]
    },
    {
      "cell_type": "code",
      "metadata": {
        "id": "RRkvakk_5Vov"
      },
      "source": [
        "__author__ = 'Aida Nava de Wofford <awofford@astro.unam.mx>, Sundar Srinivasan <s.srinivasan@irya.unam.mx>'\n",
        "__version__ = '20210421'\n",
        "__datasets__ = ['SDSS']  # datos usados en este notebook\n",
        "__keywords__ = ['Taller UACJ 2021', 'SDSS', 'espectro'], # palabras clave relevantes a este notebook"
      ],
      "execution_count": 1,
      "outputs": []
    },
    {
      "cell_type": "markdown",
      "metadata": {
        "id": "7qTkYkpQMZqL"
      },
      "source": [
        "# Instalación de versiones necesarias de dependencias."
      ]
    },
    {
      "cell_type": "code",
      "metadata": {
        "id": "GcHwwe7vLwyA",
        "colab": {
          "base_uri": "https://localhost:8080/",
          "height": 0
        },
        "outputId": "f6d439d8-acd1-4bcb-aae3-d2da697fb401"
      },
      "source": [
        "!pip install --force-reinstall jsonschema==3.2.0"
      ],
      "execution_count": 49,
      "outputs": [
        {
          "output_type": "stream",
          "text": [
            "Collecting jsonschema==3.2.0\n",
            "  Using cached https://files.pythonhosted.org/packages/c5/8f/51e89ce52a085483359217bc72cdbf6e75ee595d5b1d4b5ade40c7e018b8/jsonschema-3.2.0-py2.py3-none-any.whl\n",
            "Processing /root/.cache/pip/wheels/f0/b8/de/b593ad311be4eb458499d100db081e453576032272398b7ddc/pyrsistent-0.17.3-cp37-cp37m-linux_x86_64.whl\n",
            "Collecting six>=1.11.0\n",
            "  Using cached https://files.pythonhosted.org/packages/ee/ff/48bde5c0f013094d729fe4b0316ba2a24774b3ff1c52d924a8a4cb04078a/six-1.15.0-py2.py3-none-any.whl\n",
            "Collecting attrs>=17.4.0\n",
            "  Using cached https://files.pythonhosted.org/packages/c3/aa/cb45262569fcc047bf070b5de61813724d6726db83259222cd7b4c79821a/attrs-20.3.0-py2.py3-none-any.whl\n",
            "Collecting setuptools\n",
            "  Using cached https://files.pythonhosted.org/packages/ae/42/2876a3a136f8bfa9bd703518441c8db78ff1eeaddf174baa85c083c1fd15/setuptools-56.0.0-py3-none-any.whl\n",
            "Collecting importlib-metadata; python_version < \"3.8\"\n",
            "  Using cached https://files.pythonhosted.org/packages/8e/e2/49966924c93909d47612bb47d911448140a2f6c1390aec2f4c1afbe3748f/importlib_metadata-4.0.1-py3-none-any.whl\n",
            "Collecting typing-extensions>=3.6.4; python_version < \"3.8\"\n",
            "  Using cached https://files.pythonhosted.org/packages/60/7a/e881b5abb54db0e6e671ab088d079c57ce54e8a01a3ca443f561ccadb37e/typing_extensions-3.7.4.3-py3-none-any.whl\n",
            "Collecting zipp>=0.5\n",
            "  Using cached https://files.pythonhosted.org/packages/0f/8c/715c54e9e34c0c4820f616a913a7de3337d0cd79074dd1bed4dd840f16ae/zipp-3.4.1-py3-none-any.whl\n",
            "\u001b[31mERROR: nbclient 0.5.3 has requirement jupyter-client>=6.1.5, but you'll have jupyter-client 5.3.5 which is incompatible.\u001b[0m\n",
            "\u001b[31mERROR: datascience 0.10.6 has requirement folium==0.2.1, but you'll have folium 0.8.3 which is incompatible.\u001b[0m\n",
            "\u001b[31mERROR: albumentations 0.1.12 has requirement imgaug<0.2.7,>=0.2.5, but you'll have imgaug 0.2.9 which is incompatible.\u001b[0m\n",
            "Installing collected packages: pyrsistent, six, attrs, setuptools, typing-extensions, zipp, importlib-metadata, jsonschema\n",
            "  Found existing installation: pyrsistent 0.17.3\n",
            "    Uninstalling pyrsistent-0.17.3:\n",
            "      Successfully uninstalled pyrsistent-0.17.3\n",
            "  Found existing installation: six 1.15.0\n",
            "    Uninstalling six-1.15.0:\n",
            "      Successfully uninstalled six-1.15.0\n",
            "  Found existing installation: attrs 20.3.0\n",
            "    Uninstalling attrs-20.3.0:\n",
            "      Successfully uninstalled attrs-20.3.0\n",
            "  Found existing installation: setuptools 56.0.0\n",
            "    Uninstalling setuptools-56.0.0:\n",
            "      Successfully uninstalled setuptools-56.0.0\n",
            "  Found existing installation: typing-extensions 3.7.4.3\n",
            "    Uninstalling typing-extensions-3.7.4.3:\n",
            "      Successfully uninstalled typing-extensions-3.7.4.3\n",
            "  Found existing installation: zipp 3.4.1\n",
            "    Uninstalling zipp-3.4.1:\n",
            "      Successfully uninstalled zipp-3.4.1\n",
            "  Found existing installation: importlib-metadata 4.0.1\n",
            "    Uninstalling importlib-metadata-4.0.1:\n",
            "      Successfully uninstalled importlib-metadata-4.0.1\n",
            "  Found existing installation: jsonschema 3.2.0\n",
            "    Uninstalling jsonschema-3.2.0:\n",
            "      Successfully uninstalled jsonschema-3.2.0\n",
            "Successfully installed attrs-20.3.0 importlib-metadata-4.0.1 jsonschema-3.2.0 pyrsistent-0.17.3 setuptools-56.0.0 six-1.15.0 typing-extensions-3.7.4.3 zipp-3.4.1\n"
          ],
          "name": "stdout"
        },
        {
          "output_type": "display_data",
          "data": {
            "application/vnd.colab-display-data+json": {
              "pip_warning": {
                "packages": [
                  "attr",
                  "importlib_metadata",
                  "jsonschema",
                  "pkg_resources",
                  "pvectorc",
                  "pyrsistent",
                  "six",
                  "typing_extensions",
                  "zipp"
                ]
              }
            }
          },
          "metadata": {
            "tags": []
          }
        }
      ]
    },
    {
      "cell_type": "markdown",
      "metadata": {
        "id": "mr-3_ne4MjRR"
      },
      "source": [
        "# Dar click \"RESTART RUNTIME\" arriba y proseguir con la práctica."
      ]
    },
    {
      "cell_type": "markdown",
      "metadata": {
        "id": "pv48E0PpzLgp"
      },
      "source": [
        "# Objetivos de la práctica \"Análisis del Espectro Óptico de la Galaxia KISSR 298.\"\n",
        "\n",
        "\n",
        "* Exploraremos métodos manuales y automatizados de obtener los parámetros necesarios para bajar el espectro de una galaxia de una base de datos.  \n",
        "* Bajaremos el espectro.\n",
        "* Haremos un par de correcciones al espectro. "
      ]
    },
    {
      "cell_type": "markdown",
      "metadata": {
        "id": "WrSBpbptFDWP"
      },
      "source": [
        "# Análisis del Espectro Óptico de la Galaxia KISSR 298."
      ]
    },
    {
      "cell_type": "markdown",
      "metadata": {
        "id": "Y9r0KZ_c7Ok1"
      },
      "source": [
        "Importamos algunos de los módulos de python necesarios, en este caso numpy y \"SDSS\" de la biblioteca de astroquery."
      ]
    },
    {
      "cell_type": "markdown",
      "metadata": {
        "id": "GByFTyy57SN2"
      },
      "source": [
        "* \"numpy\" es un módulo de Python que se utiliza para trabajar con matrices.También tiene funciones para trabajar en el dominio del álgebra lineal, la transformada de Fourier y las matrices.\n",
        "* \"astroquery\" es un conjunto de herramientas para consultar bases de datos y formularios web astronómicos.\n"
      ]
    },
    {
      "cell_type": "code",
      "metadata": {
        "id": "EFawGX0h5wna"
      },
      "source": [
        "import warnings, numpy as np\n",
        "warnings.filterwarnings(\"ignore\", category = np.VisibleDeprecationWarning)\n",
        "warnings.filterwarnings(\"ignore\", category = RuntimeWarning)\n",
        "try:\n",
        "  from astroquery.sdss import SDSS\n",
        "except:\n",
        "  !pip install astroquery\n",
        "  from astroquery.sdss import SDSS"
      ],
      "execution_count": 45,
      "outputs": []
    },
    {
      "cell_type": "markdown",
      "metadata": {
        "id": "DvozVa_-rzTc"
      },
      "source": [
        "## Método Manual de obtención de las coordenadas del objeto."
      ]
    },
    {
      "cell_type": "markdown",
      "metadata": {
        "id": "53L9l7TmzLgq"
      },
      "source": [
        "Para poder bajar el espectro de KISSR 298 de la base de datos, necesitamos sus coordenadas (RA, Dec) o (longitude, latitude) en el sistema de referencia Equatorial (J2000.0). "
      ]
    },
    {
      "cell_type": "markdown",
      "metadata": {
        "id": "vRWYCoKzr97b"
      },
      "source": [
        "INSTRUCCIONES. \n",
        "\n",
        "* Encuentra las coordenadas buscando al objeto por su nombre en la  base de datos de NED:\n",
        "https://ned.ipac.caltech.edu/.\n",
        "\n",
        "* Asigna a las variables de abajo las coordenadas del objecto que encontraste.\n",
        "\n"
      ]
    },
    {
      "cell_type": "code",
      "metadata": {
        "id": "kHMIAzpqzLgr"
      },
      "source": [
        "RA_manual=0 # longitude in Equatorial J2000\n",
        "Dec_manual=0 # latitude in Equatorial J2000"
      ],
      "execution_count": 46,
      "outputs": []
    },
    {
      "cell_type": "markdown",
      "metadata": {
        "id": "lq2cWcXp_szm"
      },
      "source": [
        "Los métodos manuales tienen la desventaja de que uno comete errores al teclear. Aprendamos entonces a usar el método automático."
      ]
    },
    {
      "cell_type": "markdown",
      "metadata": {
        "id": "qnhlcxdrtZQ2"
      },
      "source": [
        "## Método manual de obtención de los IDs de la placa, fecha de observación y fibra."
      ]
    },
    {
      "cell_type": "markdown",
      "metadata": {
        "id": "6cctV-0QzLgs"
      },
      "source": [
        "Para bajar el espectro de KISSR 298 la base de datos, necesitamos los IDs de la placa, la fecha y la fibra con que se usaron para obtener los datos. "
      ]
    },
    {
      "cell_type": "markdown",
      "metadata": {
        "id": "jRQ4ULMBt58X"
      },
      "source": [
        "INSTRUCCIONES. \n",
        "\n",
        "*   Busca el objecto usando las coordenadas en: https://skyserver.sdss.org/dr14/en/tools/chart/chartinfo.aspx. \n",
        "*   Dále a \"Get Image\" para ver la imagen del objeto. Puedes cambiar el tamaño de la imagen con los botones de \"+\" y \"-\".\n",
        "* Haz click en \"Explore\" para ir a donde se encuentra el espectro. \n",
        "* Abajo a la derecha, en donde dice \"Interactive Spectrum\", hay una tabla con información sobre las observaciones del objeto. \n",
        "* Asigna a las variables de abajo las coordenadas del objecto que encontraste.\n",
        "\n",
        "\n",
        "\n"
      ]
    },
    {
      "cell_type": "code",
      "metadata": {
        "id": "An2dPH5czLgu"
      },
      "source": [
        "plate_manual=-1 # plate\n",
        "mjd_manual=-1 # modified Julian date\n",
        "fiberid_manual=-1 # fiberid"
      ],
      "execution_count": 47,
      "outputs": []
    },
    {
      "cell_type": "markdown",
      "metadata": {
        "id": "JVtVpw6gEAth"
      },
      "source": [
        "Armamos el nombre del camino que lleva al espectro."
      ]
    },
    {
      "cell_type": "code",
      "metadata": {
        "id": "IzhKqwDhEH3h",
        "colab": {
          "base_uri": "https://localhost:8080/"
        },
        "outputId": "36016369-a1df-48d3-acab-c48b965d410f"
      },
      "source": [
        "archivo_con_espectro_man = 'https://dr14.sdss.org/optical/spectrum/view/data/format=fits/spec=lite?plateid='+str(plate_manual)+'&mjd='+str(mjd_manual)+'&fiberid='+str(fiberid_manual)\n",
        "print(archivo_con_espectro_man)"
      ],
      "execution_count": 48,
      "outputs": [
        {
          "output_type": "stream",
          "text": [
            "https://dr14.sdss.org/optical/spectrum/view/data/format=fits/spec=lite?plateid=-1&mjd=-1&fiberid=-1\n"
          ],
          "name": "stdout"
        }
      ]
    },
    {
      "cell_type": "markdown",
      "metadata": {
        "id": "G6GK2GhNa4Vs"
      },
      "source": [
        "## Método automático de obtención de las coordenadas del objeto."
      ]
    },
    {
      "cell_type": "markdown",
      "metadata": {
        "id": "DBeGYhM2wwci"
      },
      "source": [
        "Importamos el módulo necesario para bajar las coordenadas."
      ]
    },
    {
      "cell_type": "code",
      "metadata": {
        "id": "IpRpUZLgwvHp"
      },
      "source": [
        "from astropy import coordinates as coords"
      ],
      "execution_count": 5,
      "outputs": []
    },
    {
      "cell_type": "markdown",
      "metadata": {
        "id": "g3WEFDQCAzh6"
      },
      "source": [
        "* Las bases de datos astronómicas tienen un servicio de \"busqueda por nombre\".\n",
        "\n",
        "* Utilizaremos el módulo `coords` para buscar de manera automática las coordenadas a partir del nombre del objeto.\n",
        "\n",
        "* SkyCoord consulta la base de datos CDS (http://cdsweb.u-strasbg.fr/) para encontrar las coordenadas del objeto."
      ]
    },
    {
      "cell_type": "code",
      "metadata": {
        "colab": {
          "base_uri": "https://localhost:8080/"
        },
        "id": "wYUzsRN4AqZY",
        "outputId": "3f92eae4-3135-4717-fb9b-c7589baf1b14"
      },
      "source": [
        "pos = coords.SkyCoord.from_name(\"KISSR 298\") #pos variable para la posición del objeto.\n",
        "print(\"position: \", pos)"
      ],
      "execution_count": 7,
      "outputs": [
        {
          "output_type": "stream",
          "text": [
            "position:  <SkyCoord (ICRS): (ra, dec) in deg\n",
            "    (202.457448, 29.579719)>\n"
          ],
          "name": "stdout"
        }
      ]
    },
    {
      "cell_type": "markdown",
      "metadata": {
        "id": "F4XlVHcTGDz5"
      },
      "source": [
        "## Método automático de obtención de los IDs de la placa, fecha y fibra."
      ]
    },
    {
      "cell_type": "markdown",
      "metadata": {
        "id": "ielmwafUCEk8"
      },
      "source": [
        "Una vez que tenemos las coordenadas del objeto, buscamos en la base de datos de SDSS (Sloan Digital Sky Survey) los IDs que indican la placa con que se tomó el espectro, la fecha de observación y la fibra correspondiente a la posición del objeto."
      ]
    },
    {
      "cell_type": "code",
      "metadata": {
        "id": "lmq8ejkZCD_c"
      },
      "source": [
        "tabla_sdss = SDSS.query_region(pos, spectro = True)\n",
        "plate = tabla_sdss[0][list(tabla_sdss.columns).index('plate')]\n",
        "mjd = tabla_sdss[0][list(tabla_sdss.columns).index('mjd')]\n",
        "fiberID = tabla_sdss[0][list(tabla_sdss.columns).index('fiberID')]"
      ],
      "execution_count": 8,
      "outputs": []
    },
    {
      "cell_type": "markdown",
      "metadata": {
        "id": "oCvkvXifDLOg"
      },
      "source": [
        "Con estos parámetros podemos buscar el espectro."
      ]
    },
    {
      "cell_type": "code",
      "metadata": {
        "id": "RWzJNA-lDLee"
      },
      "source": [
        "sp = SDSS.get_spectra(matches = tabla_sdss, plate = plate, mjd = mjd, fiberID = fiberID)[0]"
      ],
      "execution_count": 9,
      "outputs": []
    },
    {
      "cell_type": "markdown",
      "metadata": {
        "id": "RDHfWuM2DbMg"
      },
      "source": [
        "## El espectro está en el segundo encabezado del archivo (sp[1])\n"
      ]
    },
    {
      "cell_type": "code",
      "metadata": {
        "id": "7Sa2qTjHDcn2",
        "colab": {
          "base_uri": "https://localhost:8080/"
        },
        "outputId": "1ef4d17f-b6c7-46d8-b7d9-2add30e8eecc"
      },
      "source": [
        "specdata = sp[1].data\n",
        "print(specdata)"
      ],
      "execution_count": 10,
      "outputs": [
        {
          "output_type": "stream",
          "text": [
            "[(13.479021, 3.5816, 0.06797916, 0, 0, 1.1088611 , 9.002381, 13.217207)\n",
            " (19.215475, 3.5817, 0.06977836, 0, 0, 1.108475  , 9.212716, 13.737914)\n",
            " (14.267138, 3.5818, 0.07592517, 0, 0, 1.108091  , 9.300478, 13.168895)\n",
            " ...\n",
            " ( 8.162261, 3.9645, 0.35342726, 0, 0, 0.7729795 , 4.512267, 12.689797)\n",
            " (11.752623, 3.9646, 0.        , 0, 0, 0.77300555, 4.811207, 12.891481)\n",
            " (15.343176, 3.9647, 0.28280747, 0, 0, 0.77303153, 4.932665, 12.677738)]\n"
          ],
          "name": "stdout"
        }
      ]
    },
    {
      "cell_type": "markdown",
      "metadata": {
        "id": "ZJwkQEQHzLgy"
      },
      "source": [
        "Abrimos el archivo y construimos los vectores de longitudes de onda (wave),  flujos (flux), y de errores en los flujos (err)."
      ]
    },
    {
      "cell_type": "markdown",
      "metadata": {
        "id": "OPBgfsZKzLgv"
      },
      "source": [
        "Importamos el módulo necesario para guardar las unidades de longitud de onda y flujo."
      ]
    },
    {
      "cell_type": "code",
      "metadata": {
        "id": "fB_G7t6EzLgw"
      },
      "source": [
        "from astropy import units as u\n"
      ],
      "execution_count": 11,
      "outputs": []
    },
    {
      "cell_type": "code",
      "metadata": {
        "id": "_LEnUBdMzLg1"
      },
      "source": [
        "wave = 10**specdata['loglam'] * u.AA # longitud de onda\n",
        "flux = specdata['flux'] * 10**-17 * u.Unit('erg cm-2 s-1 AA-1') # flujo\n",
        "#ivar = specdata['ivar']# inverso de la varianza\n",
        "#err = 1 / np.sqrt(ivar) # error * u.Unit('erg cm-2 s-1 AA-1') # error en el flujo"
      ],
      "execution_count": 12,
      "outputs": []
    },
    {
      "cell_type": "markdown",
      "metadata": {
        "id": "6vkMW1dBJite"
      },
      "source": [
        "Importamos el módulo para graficar (matplotlib)."
      ]
    },
    {
      "cell_type": "code",
      "metadata": {
        "id": "g0XFHIiLJnKc"
      },
      "source": [
        "from matplotlib import pyplot as plt\n",
        "%matplotlib inline"
      ],
      "execution_count": 13,
      "outputs": []
    },
    {
      "cell_type": "markdown",
      "metadata": {
        "id": "JNOVPEkEGaAz"
      },
      "source": [
        "# Método manual de poner unidades en los ejes de las gráficas."
      ]
    },
    {
      "cell_type": "markdown",
      "metadata": {
        "id": "KUHaBNVTod7d"
      },
      "source": [
        "Poner las unidades de los ejes de manera manual en las gráficas puede llevar a errores. ¿Qué errores notas en las unidades de los ejes de la gráfica de abajo (compara con la gráfica del método automático de más abajo)?"
      ]
    },
    {
      "cell_type": "code",
      "metadata": {
        "colab": {
          "base_uri": "https://localhost:8080/",
          "height": 544
        },
        "id": "FV7tE6VczLg3",
        "outputId": "8ab7257a-1f07-41cd-cd5c-5d8ba7cc1534"
      },
      "source": [
        "f, ax = plt.subplots(figsize = (8, 8))\n",
        "ax.plot(wave, flux)\n",
        "plt.xlabel('Rest Wavelength (Anstrom)', fontsize = 16)\n",
        "plt.ylabel('Flux (Anstron/cm/s)', fontsize = 16)\n",
        "plt.xticks(fontsize = 16)\n",
        "plt.yticks(fontsize = 16)\n",
        "plt.title('SDSS spectrum of KISSR 298', fontsize = 16)\n",
        ";"
      ],
      "execution_count": 14,
      "outputs": [
        {
          "output_type": "execute_result",
          "data": {
            "application/vnd.google.colaboratory.intrinsic+json": {
              "type": "string"
            },
            "text/plain": [
              "''"
            ]
          },
          "metadata": {
            "tags": []
          },
          "execution_count": 14
        },
        {
          "output_type": "display_data",
          "data": {
            "image/png": "[encoded data removed]",
            "text/plain": [
              "<Figure size 576x576 with 1 Axes>"
            ]
          },
          "metadata": {
            "tags": [],
            "needs_background": "light"
          }
        }
      ]
    },
    {
      "cell_type": "markdown",
      "metadata": {
        "id": "vSadwUsuHZ4S"
      },
      "source": [
        "## Método automático de poner las unidades en la gráfica."
      ]
    },
    {
      "cell_type": "markdown",
      "metadata": {
        "id": "Mbc27u2oz7xB"
      },
      "source": [
        "Instalamos el paquete specutils que permite poner las unidades correctas en los ejes de la gráfica del espectro (specutils) y las dependencias necesarias."
      ]
    },
    {
      "cell_type": "code",
      "metadata": {
        "colab": {
          "base_uri": "https://localhost:8080/"
        },
        "id": "izIH2ooX0CUf",
        "outputId": "832952e0-91e5-4c99-9d98-a8464adeb585"
      },
      "source": [
        "!pip install specutils"
      ],
      "execution_count": 15,
      "outputs": [
        {
          "output_type": "stream",
          "text": [
            "Collecting specutils\n",
            "\u001b[?25l  Downloading https://files.pythonhosted.org/packages/1c/bd/960191a08495061bcc58566e36844982c4d783f2e47084bfd5a77daf8fba/specutils-1.2.tar.gz (643kB)\n",
            "\r\u001b[K     |▌                               | 10kB 13.3MB/s eta 0:00:01\r\u001b[K     |█                               | 20kB 19.2MB/s eta 0:00:01\r\u001b[K     |█▌                              | 30kB 23.2MB/s eta 0:00:01\r\u001b[K     |██                              | 40kB 26.3MB/s eta 0:00:01\r\u001b[K     |██▌                             | 51kB 25.3MB/s eta 0:00:01\r\u001b[K     |███                             | 61kB 23.7MB/s eta 0:00:01\r\u001b[K     |███▋                            | 71kB 25.4MB/s eta 0:00:01\r\u001b[K     |████                            | 81kB 24.5MB/s eta 0:00:01\r\u001b[K     |████▋                           | 92kB 21.4MB/s eta 0:00:01\r\u001b[K     |█████                           | 102kB 22.7MB/s eta 0:00:01\r\u001b[K     |█████▋                          | 112kB 22.7MB/s eta 0:00:01\r\u001b[K     |██████▏                         | 122kB 22.7MB/s eta 0:00:01\r\u001b[K     |██████▋                         | 133kB 22.7MB/s eta 0:00:01\r\u001b[K     |███████▏                        | 143kB 22.7MB/s eta 0:00:01\r\u001b[K     |███████▋                        | 153kB 22.7MB/s eta 0:00:01\r\u001b[K     |████████▏                       | 163kB 22.7MB/s eta 0:00:01\r\u001b[K     |████████▋                       | 174kB 22.7MB/s eta 0:00:01\r\u001b[K     |█████████▏                      | 184kB 22.7MB/s eta 0:00:01\r\u001b[K     |█████████▊                      | 194kB 22.7MB/s eta 0:00:01\r\u001b[K     |██████████▏                     | 204kB 22.7MB/s eta 0:00:01\r\u001b[K     |██████████▊                     | 215kB 22.7MB/s eta 0:00:01\r\u001b[K     |███████████▏                    | 225kB 22.7MB/s eta 0:00:01\r\u001b[K     |███████████▊                    | 235kB 22.7MB/s eta 0:00:01\r\u001b[K     |████████████▎                   | 245kB 22.7MB/s eta 0:00:01\r\u001b[K     |████████████▊                   | 256kB 22.7MB/s eta 0:00:01\r\u001b[K     |█████████████▎                  | 266kB 22.7MB/s eta 0:00:01\r\u001b[K     |█████████████▊                  | 276kB 22.7MB/s eta 0:00:01\r\u001b[K     |██████████████▎                 | 286kB 22.7MB/s eta 0:00:01\r\u001b[K     |██████████████▊                 | 296kB 22.7MB/s eta 0:00:01\r\u001b[K     |███████████████▎                | 307kB 22.7MB/s eta 0:00:01\r\u001b[K     |███████████████▉                | 317kB 22.7MB/s eta 0:00:01\r\u001b[K     |████████████████▎               | 327kB 22.7MB/s eta 0:00:01\r\u001b[K     |████████████████▉               | 337kB 22.7MB/s eta 0:00:01\r\u001b[K     |█████████████████▎              | 348kB 22.7MB/s eta 0:00:01\r\u001b[K     |█████████████████▉              | 358kB 22.7MB/s eta 0:00:01\r\u001b[K     |██████████████████▍             | 368kB 22.7MB/s eta 0:00:01\r\u001b[K     |██████████████████▉             | 378kB 22.7MB/s eta 0:00:01\r\u001b[K     |███████████████████▍            | 389kB 22.7MB/s eta 0:00:01\r\u001b[K     |███████████████████▉            | 399kB 22.7MB/s eta 0:00:01\r\u001b[K     |████████████████████▍           | 409kB 22.7MB/s eta 0:00:01\r\u001b[K     |████████████████████▉           | 419kB 22.7MB/s eta 0:00:01\r\u001b[K     |█████████████████████▍          | 430kB 22.7MB/s eta 0:00:01\r\u001b[K     |██████████████████████          | 440kB 22.7MB/s eta 0:00:01\r\u001b[K     |██████████████████████▍         | 450kB 22.7MB/s eta 0:00:01\r\u001b[K     |███████████████████████         | 460kB 22.7MB/s eta 0:00:01\r\u001b[K     |███████████████████████▍        | 471kB 22.7MB/s eta 0:00:01\r\u001b[K     |████████████████████████        | 481kB 22.7MB/s eta 0:00:01\r\u001b[K     |████████████████████████▌       | 491kB 22.7MB/s eta 0:00:01\r\u001b[K     |█████████████████████████       | 501kB 22.7MB/s eta 0:00:01\r\u001b[K     |█████████████████████████▌      | 512kB 22.7MB/s eta 0:00:01\r\u001b[K     |██████████████████████████      | 522kB 22.7MB/s eta 0:00:01\r\u001b[K     |██████████████████████████▌     | 532kB 22.7MB/s eta 0:00:01\r\u001b[K     |███████████████████████████     | 542kB 22.7MB/s eta 0:00:01\r\u001b[K     |███████████████████████████▌    | 552kB 22.7MB/s eta 0:00:01\r\u001b[K     |████████████████████████████    | 563kB 22.7MB/s eta 0:00:01\r\u001b[K     |████████████████████████████▌   | 573kB 22.7MB/s eta 0:00:01\r\u001b[K     |█████████████████████████████   | 583kB 22.7MB/s eta 0:00:01\r\u001b[K     |█████████████████████████████▌  | 593kB 22.7MB/s eta 0:00:01\r\u001b[K     |██████████████████████████████  | 604kB 22.7MB/s eta 0:00:01\r\u001b[K     |██████████████████████████████▋ | 614kB 22.7MB/s eta 0:00:01\r\u001b[K     |███████████████████████████████ | 624kB 22.7MB/s eta 0:00:01\r\u001b[K     |███████████████████████████████▋| 634kB 22.7MB/s eta 0:00:01\r\u001b[K     |████████████████████████████████| 645kB 22.7MB/s \n",
            "\u001b[?25h  Installing build dependencies ... \u001b[?25l\u001b[?25hdone\n",
            "  Getting requirements to build wheel ... \u001b[?25l\u001b[?25hdone\n",
            "    Preparing wheel metadata ... \u001b[?25l\u001b[?25hdone\n",
            "Collecting gwcs!=0.16.0\n",
            "\u001b[?25l  Downloading https://files.pythonhosted.org/packages/fd/35/ce7b5fb8b640c2e4b65a901fdd7c701ed6b23e62b8135aa72f48056cfb91/gwcs-0.16.1.tar.gz (171kB)\n",
            "\u001b[K     |████████████████████████████████| 174kB 49.2MB/s \n",
            "\u001b[?25hRequirement already satisfied: astropy>=4.1 in /usr/local/lib/python3.7/dist-packages (from specutils) (4.2.1)\n",
            "Requirement already satisfied: scipy in /usr/local/lib/python3.7/dist-packages (from specutils) (1.4.1)\n",
            "Collecting asdf>=2.5\n",
            "\u001b[?25l  Downloading https://files.pythonhosted.org/packages/c5/2d/8fb2e2ae3df4b9a319f860cfcbbb5743859f8a2c410ed32ee4ed5c953655/asdf-2.7.3.tar.gz (509kB)\n",
            "\u001b[K     |████████████████████████████████| 512kB 38.8MB/s \n",
            "\u001b[?25h  Installing build dependencies ... \u001b[?25l\u001b[?25hdone\n",
            "  Getting requirements to build wheel ... \u001b[?25l\u001b[?25hdone\n",
            "    Preparing wheel metadata ... \u001b[?25l\u001b[?25hdone\n",
            "Requirement already satisfied: numpy in /usr/local/lib/python3.7/dist-packages (from gwcs!=0.16.0->specutils) (1.19.5)\n",
            "Requirement already satisfied: pyerfa in /usr/local/lib/python3.7/dist-packages (from astropy>=4.1->specutils) (1.7.2)\n",
            "Requirement already satisfied: pyyaml>=3.10 in /usr/local/lib/python3.7/dist-packages (from asdf>=2.5->specutils) (3.13)\n",
            "Collecting semantic-version>=2.8\n",
            "  Downloading https://files.pythonhosted.org/packages/a5/15/00ef3b7888a10363b7c402350eda3acf395ff05bebae312d1296e528516a/semantic_version-2.8.5-py2.py3-none-any.whl\n",
            "Requirement already satisfied: jsonschema<4,>=3.0.2 in /usr/local/lib/python3.7/dist-packages (from asdf>=2.5->specutils) (3.2.0)\n",
            "Requirement already satisfied: six>=1.11.0 in /usr/local/lib/python3.7/dist-packages (from jsonschema<4,>=3.0.2->asdf>=2.5->specutils) (1.15.0)\n",
            "Requirement already satisfied: pyrsistent>=0.14.0 in /usr/local/lib/python3.7/dist-packages (from jsonschema<4,>=3.0.2->asdf>=2.5->specutils) (0.17.3)\n",
            "Requirement already satisfied: attrs>=17.4.0 in /usr/local/lib/python3.7/dist-packages (from jsonschema<4,>=3.0.2->asdf>=2.5->specutils) (20.3.0)\n",
            "Requirement already satisfied: importlib-metadata; python_version < \"3.8\" in /usr/local/lib/python3.7/dist-packages (from jsonschema<4,>=3.0.2->asdf>=2.5->specutils) (4.0.1)\n",
            "Requirement already satisfied: setuptools in /usr/local/lib/python3.7/dist-packages (from jsonschema<4,>=3.0.2->asdf>=2.5->specutils) (56.0.0)\n",
            "Requirement already satisfied: typing-extensions>=3.6.4; python_version < \"3.8\" in /usr/local/lib/python3.7/dist-packages (from importlib-metadata; python_version < \"3.8\"->jsonschema<4,>=3.0.2->asdf>=2.5->specutils) (3.7.4.3)\n",
            "Requirement already satisfied: zipp>=0.5 in /usr/local/lib/python3.7/dist-packages (from importlib-metadata; python_version < \"3.8\"->jsonschema<4,>=3.0.2->asdf>=2.5->specutils) (3.4.1)\n",
            "Building wheels for collected packages: specutils, asdf\n",
            "  Building wheel for specutils (PEP 517) ... \u001b[?25l\u001b[?25hdone\n",
            "  Created wheel for specutils: filename=specutils-1.2-cp37-none-any.whl size=177575 sha256=74131b6f221e7e117138354c02963cf1a3a400b8ac2fd5b54be3ba52315b788d\n",
            "  Stored in directory: /root/.cache/pip/wheels/af/88/32/7ccdd3bfdd9469747850b14674938ccc180caf58f69e006659\n",
            "  Building wheel for asdf (PEP 517) ... \u001b[?25l\u001b[?25hdone\n",
            "  Created wheel for asdf: filename=asdf-2.7.3-cp37-none-any.whl size=573206 sha256=b3b1d9d1777262cc6318d3181d60b849f8ebf8d979d6e1ad5db80235677db80a\n",
            "  Stored in directory: /root/.cache/pip/wheels/01/cc/ff/c29ad7c212112bbdd9f416c24915607bdf2b4d83641f876e2e\n",
            "Successfully built specutils asdf\n",
            "Building wheels for collected packages: gwcs\n",
            "  Building wheel for gwcs (setup.py) ... \u001b[?25l\u001b[?25hdone\n",
            "  Created wheel for gwcs: filename=gwcs-0.16.1-cp37-none-any.whl size=108765 sha256=f5bedbd44e08d391889884af55ba5c7bd237d8eef2eec5309ed954cf37dd7e8a\n",
            "  Stored in directory: /root/.cache/pip/wheels/04/8b/18/46c2c837c352644e5f5b9fbad89ceaf5fa9e82062cd0a64bfe\n",
            "Successfully built gwcs\n",
            "Installing collected packages: semantic-version, asdf, gwcs, specutils\n",
            "Successfully installed asdf-2.7.3 gwcs-0.16.1 semantic-version-2.8.5 specutils-1.2\n"
          ],
          "name": "stdout"
        }
      ]
    },
    {
      "cell_type": "markdown",
      "metadata": {
        "id": "CpcRlQnwnAcR"
      },
      "source": [
        "Vamos a crear un objeto llamado \"Spectrum1D\" que vamos a graficar."
      ]
    },
    {
      "cell_type": "code",
      "metadata": {
        "id": "earpJ36ZIkSZ"
      },
      "source": [
        "from specutils import Spectrum1D\n",
        "spec = Spectrum1D(spectral_axis=wave, flux=flux)"
      ],
      "execution_count": 16,
      "outputs": []
    },
    {
      "cell_type": "markdown",
      "metadata": {
        "id": "7ymJdWpAKN08"
      },
      "source": [
        "Importamos el módulo para usar unidades posteriormente en la gráfica. (quantity_support)"
      ]
    },
    {
      "cell_type": "code",
      "metadata": {
        "id": "Wm8CfJWcKHYp"
      },
      "source": [
        "from astropy.visualization import quantity_support\n",
        "quantity_support();  # para obtener las unidades en los ejes de la gráfica de abajo."
      ],
      "execution_count": 19,
      "outputs": []
    },
    {
      "cell_type": "markdown",
      "metadata": {
        "id": "HdpkbUu2zLg2"
      },
      "source": [
        "Graficamos el espectro. La ventaja de specutils es que las unidades de los ejes de la gráfica están correctas."
      ]
    },
    {
      "cell_type": "code",
      "metadata": {
        "colab": {
          "base_uri": "https://localhost:8080/",
          "height": 525
        },
        "id": "ywwLmwzLe3Nv",
        "outputId": "0cadd95c-b1e8-46ef-bf40-62e4f00237c8"
      },
      "source": [
        "f, ax = plt.subplots(figsize = (8, 8))\n",
        "ax.step(spec.spectral_axis, spec.flux)\n",
        "plt.xlabel('Longitud de onda ({})'.format(spec.spectral_axis.unit), fontsize = 16) \n",
        "plt.ylabel('Flujo ({})'.format(spec.flux.unit), fontsize = 16)\n",
        "plt.xticks(fontsize = 16)\n",
        "plt.yticks(fontsize = 16)\n",
        "plt.title('SDSS spectrum of KISSR 298', fontsize = 16);"
      ],
      "execution_count": 34,
      "outputs": [
        {
          "output_type": "display_data",
          "data": {
            "image/png": "[encoded data removed]",
            "text/plain": [
              "<Figure size 576x576 with 1 Axes>"
            ]
          },
          "metadata": {
            "tags": [],
            "needs_background": "light"
          }
        }
      ]
    },
    {
      "cell_type": "markdown",
      "metadata": {
        "id": "aeaOO9CRzLg5"
      },
      "source": [
        "# Corrección del espectro por polvo en la Vía Láctea"
      ]
    },
    {
      "cell_type": "markdown",
      "metadata": {
        "id": "eF-HWaN9JE0G"
      },
      "source": [
        "Vamos a corregir la luz de las estrellas que se encuentran en la galaxia KISSR 298 por extinción debida al polvo en nuestra Galaxia.\n",
        "\n",
        "Para esto, necesitamos el exceso de color debido al polvo en nuestra Galaxia en la dirección de KISSR 298. "
      ]
    },
    {
      "cell_type": "markdown",
      "metadata": {
        "id": "UFzI9p5VM8Sr"
      },
      "source": [
        "## Método manual de obtención de extinciones en los filtros Blue y Visible. Las extinciones, A$_B$ y A$_V$, tienen unidades de magnitud."
      ]
    },
    {
      "cell_type": "markdown",
      "metadata": {
        "id": "iE6Er76CzLg5"
      },
      "source": [
        "INSTRUCCIONES.\n",
        "\n",
        "* Para calcular el exceso de color, E(B-V), primero encuentra la extinción Galáctica en las bandas Landolt B y V. Para esto ve a: https://ned.ipac.caltech.edu/ \n",
        "* Introduce el nombre del objeto\n",
        "* Ve a la pestaña de Galactic Extinction\n",
        "* Ve a la columna \"Galactic Extinctions\", en donde encontrarás los valores de B y V.\n",
        "* Asigna a las variables A_B y A_V de abajo, el valor de las extinciones en para observaciones en los filstros Blue y Visible.\n",
        "* La variable \"ebvmw\" contiene el exceso de color, E(B-V) debido al polvo en la Vía Láctea (Milky Way).\n",
        "\n"
      ]
    },
    {
      "cell_type": "code",
      "metadata": {
        "id": "Z99mPddnzLg6"
      },
      "source": [
        "A_B=0 #0.062 extinción Galáctica en la banda B\n",
        "A_V=0 #0.047 extinción Galáctica en la banda V\n",
        "ebvmw=A_B-A_V # exceso de color E(B-V) de la Vía Láctea (Milky Way)"
      ],
      "execution_count": 25,
      "outputs": []
    },
    {
      "cell_type": "markdown",
      "metadata": {
        "id": "j94zBTkxNqKg"
      },
      "source": [
        "## Método automático de obtención de las extinciones."
      ]
    },
    {
      "cell_type": "markdown",
      "metadata": {
        "id": "zWKJjp3EOqDw"
      },
      "source": [
        "* Impotamos el módulo para poder obtener la extinción. \n",
        "* La tabla de extinción debida al polvo Galáctico del InfraRed Science Archive (IRSA):\n",
        "* https://irsa.ipac.caltech.edu/applications/DUST/index.html\n",
        "\n",
        "\n",
        "\n"
      ]
    },
    {
      "cell_type": "code",
      "metadata": {
        "id": "Go1wG0xjNuvP"
      },
      "source": [
        "from astroquery.irsa_dust import IrsaDust\n",
        "#Have the `coords` module automatically look up the coordinates from the name of the source \n",
        "pos = coords.SkyCoord.from_name(\"KISSR 298\")\n",
        "table = IrsaDust.get_extinction_table(pos)"
      ],
      "execution_count": 26,
      "outputs": []
    },
    {
      "cell_type": "markdown",
      "metadata": {
        "id": "SlZLKizgPMFn"
      },
      "source": [
        "* Obtenemos los valores de extinción para los filtros CTIO B y V\n",
        "*  Esto toma los valores de A_lambda calculados de acuerdo con la prescripción de Schlafly & Finkbeiner (2011), que amplía el Cardelli et al. (1989; CCM89) a longitudes de onda más largas."
      ]
    },
    {
      "cell_type": "code",
      "metadata": {
        "id": "UBWnGdFxPMPB",
        "colab": {
          "base_uri": "https://localhost:8080/"
        },
        "outputId": "6af9fff9-c14f-484e-d26c-103b60c20d6d"
      },
      "source": [
        "A_B = table['A_SandF'][table['Filter_name'] == 'CTIO B'] # extinción Galáctica en la banda B\n",
        "A_V = table['A_SandF'][table['Filter_name'] == 'CTIO V'] # extinción Galáctica en la banda V\n",
        "ebvmw = A_B - A_V # exceso de color E(B-V) de la Vía Láctea (Milky Way)\n",
        "print(ebvmw.quantity)"
      ],
      "execution_count": 27,
      "outputs": [
        {
          "output_type": "stream",
          "text": [
            "[0.017] mag\n"
          ],
          "name": "stdout"
        }
      ]
    },
    {
      "cell_type": "markdown",
      "metadata": {
        "id": "ERQKjW_S0wZ9"
      },
      "source": [
        "Importamos el paquete necesario para hacer la corrección por polvo."
      ]
    },
    {
      "cell_type": "code",
      "metadata": {
        "colab": {
          "base_uri": "https://localhost:8080/"
        },
        "id": "6cw5RfOspTBw",
        "outputId": "a19742b5-07a8-4e8c-ec1d-f2eaf04c2c76"
      },
      "source": [
        "!pip install git+https://github.com/karllark/dust_extinction.git"
      ],
      "execution_count": 28,
      "outputs": [
        {
          "output_type": "stream",
          "text": [
            "Collecting git+https://github.com/karllark/dust_extinction.git\n",
            "  Cloning https://github.com/karllark/dust_extinction.git to /tmp/pip-req-build-3k3zk71d\n",
            "  Running command git clone -q https://github.com/karllark/dust_extinction.git /tmp/pip-req-build-3k3zk71d\n",
            "  Installing build dependencies ... \u001b[?25l\u001b[?25hdone\n",
            "  Getting requirements to build wheel ... \u001b[?25l\u001b[?25hdone\n",
            "    Preparing wheel metadata ... \u001b[?25l\u001b[?25hdone\n",
            "Requirement already satisfied: astropy in /usr/local/lib/python3.7/dist-packages (from dust-extinction==1.1.dev1+g8bd0b2f) (4.2.1)\n",
            "Requirement already satisfied: scipy in /usr/local/lib/python3.7/dist-packages (from dust-extinction==1.1.dev1+g8bd0b2f) (1.4.1)\n",
            "Requirement already satisfied: numpy>=1.17 in /usr/local/lib/python3.7/dist-packages (from astropy->dust-extinction==1.1.dev1+g8bd0b2f) (1.19.5)\n",
            "Requirement already satisfied: pyerfa in /usr/local/lib/python3.7/dist-packages (from astropy->dust-extinction==1.1.dev1+g8bd0b2f) (1.7.2)\n",
            "Building wheels for collected packages: dust-extinction\n",
            "  Building wheel for dust-extinction (PEP 517) ... \u001b[?25l\u001b[?25hdone\n",
            "  Created wheel for dust-extinction: filename=dust_extinction-1.1.dev1+g8bd0b2f-cp37-none-any.whl size=424827 sha256=0b1ad3e4f2ad5a80e94140b1fae360e29ea08d77acbdb40c541efd0dd7d81f86\n",
            "  Stored in directory: /tmp/pip-ephem-wheel-cache-nzvh26_4/wheels/bc/75/93/10949c6b5bee8da271150d593844866943a9fb3e42dff15e9c\n",
            "Successfully built dust-extinction\n",
            "Installing collected packages: dust-extinction\n",
            "Successfully installed dust-extinction-1.1.dev1+g8bd0b2f\n"
          ],
          "name": "stdout"
        }
      ]
    },
    {
      "cell_type": "markdown",
      "metadata": {
        "id": "16h_8O3pJ718"
      },
      "source": [
        "Importamos la función que me permite corregir el flujo en cada longitud de onda debida al polvo para el valor de ebvmw dado."
      ]
    },
    {
      "cell_type": "code",
      "metadata": {
        "id": "hl4MG42rzLg6"
      },
      "source": [
        "# Importamos el modelo de Cardelli, Clayton & Mathis (1989) con A_V = 1 y R_V = 3.1\n",
        "from dust_extinction.parameter_averages import CCM89\n",
        "from scipy.optimize import curve_fit\n",
        "\n",
        "# Definimos el modelo de enrojecimiento debido al polvo\n",
        "\n",
        "ext = CCM89(Rv=3.1)\n",
        "\n"
      ],
      "execution_count": 29,
      "outputs": []
    },
    {
      "cell_type": "markdown",
      "metadata": {
        "id": "IxzlD0R-KHj0"
      },
      "source": [
        "En principio se debe calcular el flujo corregido, uflux, usando el exceso de color ebvmw que obtuvimos arriba. Sin embargo, para la galaxia KISSR 298, la extinción en la Vía Láctea es muy pequeña. Entonces para ilustrar lo que sucede cuando la extinción es mayor, utilizaremos un valor artificial de E(B-V)."
      ]
    },
    {
      "cell_type": "code",
      "metadata": {
        "id": "xtnB676aKKaF"
      },
      "source": [
        "# Flujo corregido (unextinguished flux )\n",
        "ebvmw=0.1 # en vez de tomar el valor real (E(B-V)=0.017 mag), vamos a usar un valor más grande. Sino, es dificil ver el efecto del polvo en el espectro.\n",
        "uflux = flux / ext.extinguish(1/wave.to(u.micron), Ebv=ebvmw)"
      ],
      "execution_count": 30,
      "outputs": []
    },
    {
      "cell_type": "markdown",
      "metadata": {
        "id": "by4rrPejzLg6"
      },
      "source": [
        "Graficamos el espectro antes y después de la corrección por enrojecimiento en la Vía Láctea. ¿Cuál es el espectro más luminoso y porqué?"
      ]
    },
    {
      "cell_type": "code",
      "metadata": {
        "id": "F3Xe1pIIzLg7",
        "colab": {
          "base_uri": "https://localhost:8080/",
          "height": 518
        },
        "outputId": "5cfe9410-301e-4777-fa3c-0f31d5ec640b"
      },
      "source": [
        "f, ax = plt.subplots(figsize = (8, 8))  \n",
        "\n",
        "ax.step(spec.spectral_axis, spec.flux, label='Con polvo')\n",
        "ax.plot(wave,uflux, label='Sin polvo')\n",
        "plt.xlabel('Longitud de onda ({})'.format(spec.spectral_axis.unit), fontsize = 16) \n",
        "plt.ylabel('Flujo ({})'.format(spec.flux.unit), fontsize = 16)\n",
        "plt.ylim(0,5e-16)\n",
        "plt.xticks(fontsize = 16)\n",
        "plt.yticks(fontsize = 16)\n",
        "plt.legend(loc = 'best');"
      ],
      "execution_count": 35,
      "outputs": [
        {
          "output_type": "display_data",
          "data": {
            "image/png": "[encoded data removed]",
            "text/plain": [
              "<Figure size 576x576 with 1 Axes>"
            ]
          },
          "metadata": {
            "tags": [],
            "needs_background": "light"
          }
        }
      ]
    },
    {
      "cell_type": "markdown",
      "metadata": {
        "id": "wvFhBuTnzLg7"
      },
      "source": [
        "# Corrección por corrimiento al rojo de la galaxia que se está moviendo radialmente respecto al observador."
      ]
    },
    {
      "cell_type": "markdown",
      "metadata": {
        "id": "SalIYDQLOVjW"
      },
      "source": [
        "## Método manual de obtención del corrimiento al rojo, z."
      ]
    },
    {
      "cell_type": "markdown",
      "metadata": {
        "id": "jVpQTEyczLg7"
      },
      "source": [
        "INSTRUCCIONES. \n",
        "\n",
        "* Determina el corrimiento al rojo (redshift), z, de la galaxia usando la base de datos de NED: : https://ned.ipac.caltech.edu/ \n",
        "* Introduce el nombre del objeto\n",
        "* Ve a la pestaña de \"redshift\"\n",
        "* Asigna el corrimiento al rojo que encontraste a la variable z.\n",
        "\n",
        "\n"
      ]
    },
    {
      "cell_type": "code",
      "metadata": {
        "id": "YXkm6pb6zLg7"
      },
      "source": [
        "z=0 #Corrimiento al rojo encontrado manualmente"
      ],
      "execution_count": 36,
      "outputs": []
    },
    {
      "cell_type": "markdown",
      "metadata": {
        "id": "7rp80aUxN37Y"
      },
      "source": [
        "# Método automático de obtener el corrimiento al rojo."
      ]
    },
    {
      "cell_type": "markdown",
      "metadata": {
        "id": "gHluFVFGR3rJ"
      },
      "source": [
        "Usamos la base de dato de NED."
      ]
    },
    {
      "cell_type": "code",
      "metadata": {
        "id": "dP4jpu9NN8-o",
        "colab": {
          "base_uri": "https://localhost:8080/"
        },
        "outputId": "9fea5586-636c-43b2-eddf-4c80ba154905"
      },
      "source": [
        "from astroquery.ned import Ned\n",
        "result_table = Ned.query_object(\"KISSR 298\")\n",
        "z = result_table['Redshift']\n",
        "print(z)"
      ],
      "execution_count": 37,
      "outputs": [
        {
          "output_type": "stream",
          "text": [
            " Redshift \n",
            "----------\n",
            "  0.048991\n"
          ],
          "name": "stdout"
        }
      ]
    },
    {
      "cell_type": "markdown",
      "metadata": {
        "id": "cMwQOSoEOeVL"
      },
      "source": [
        "Corregimos el vector de longitudes de onda por corrmiento al rojo."
      ]
    },
    {
      "cell_type": "code",
      "metadata": {
        "id": "22zWUsYGzLg9"
      },
      "source": [
        "wave_rest = wave / (1 + z)"
      ],
      "execution_count": 38,
      "outputs": []
    },
    {
      "cell_type": "markdown",
      "metadata": {
        "id": "h0MJUQiszLg9"
      },
      "source": [
        "Graficamos el espectro antes y después de la corrección por corrimiento al rojo."
      ]
    },
    {
      "cell_type": "code",
      "metadata": {
        "id": "_6mgjfAMzLg9",
        "colab": {
          "base_uri": "https://localhost:8080/",
          "height": 518
        },
        "outputId": "e3b53098-a55b-42af-98ac-4a6071558688"
      },
      "source": [
        "f, ax = plt.subplots(figsize = (8, 8))  \n",
        "\n",
        "ax.plot(wave, uflux, label=\"Corrido al rojo\")\n",
        "ax.plot(wave_rest, uflux, label=\"Corregido\")\n",
        "plt.xlabel('Longitud de onda ({})'.format(spec.spectral_axis.unit), fontsize = 16) \n",
        "plt.ylabel('Flujo ({})'.format(spec.flux.unit), fontsize = 16)\n",
        "plt.xticks(fontsize = 16)\n",
        "plt.yticks(fontsize = 16)\n",
        "plt.legend(prop = {'size': 16});"
      ],
      "execution_count": 44,
      "outputs": [
        {
          "output_type": "display_data",
          "data": {
            "image/png": "[encoded data removed]",
            "text/plain": [
              "<Figure size 576x576 with 1 Axes>"
            ]
          },
          "metadata": {
            "tags": [],
            "needs_background": "light"
          }
        }
      ]
    },
    {
      "cell_type": "markdown",
      "metadata": {
        "id": "-3FXlFDrSHJa"
      },
      "source": [
        "La galaxia está corrida al rojo. ¿Qué significa esto?"
      ]
    },
    {
      "cell_type": "markdown",
      "metadata": {
        "id": "kMM29P3MSNbR"
      },
      "source": [
        "FIN DE LA PRÁCTICA"
      ]
    },
    {
      "cell_type": "code",
      "metadata": {
        "id": "a8IbqPZBSQsb"
      },
      "source": [
        ""
      ],
      "execution_count": null,
      "outputs": []
    }
  ]
}