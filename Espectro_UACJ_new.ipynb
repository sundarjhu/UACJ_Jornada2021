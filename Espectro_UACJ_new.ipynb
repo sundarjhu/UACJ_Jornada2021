{
  "nbformat": 4,
  "nbformat_minor": 0,
  "metadata": {
    "kernelspec": {
      "display_name": "Python 3",
      "language": "python",
      "name": "python3"
    },
    "language_info": {
      "codemirror_mode": {
        "name": "ipython",
        "version": 3
      },
      "file_extension": ".py",
      "mimetype": "text/x-python",
      "name": "python",
      "nbconvert_exporter": "python",
      "pygments_lexer": "ipython3",
      "version": "3.8.3"
    },
    "colab": {
      "name": "Espectro_UACJ.ipynb",
      "provenance": [],
      "include_colab_link": true
    }
  },
  "cells": [
    {
      "cell_type": "markdown",
      "metadata": {
        "id": "view-in-github",
        "colab_type": "text"
      },
      "source": [
        "<a href=\"https://colab.research.google.com/github/sundarjhu/UACJ_Jornada2021/blob/main/Espectro_UACJ_new.ipynb\" target=\"_parent\"><img src=\"https://colab.research.google.com/assets/colab-badge.svg\" alt=\"Open In Colab\"/></a>"
      ]
    },
    {
      "cell_type": "markdown",
      "metadata": {
        "id": "RfUPXxXfzLgi"
      },
      "source": [
        "# Análisis del espectro óptico de KISSR 298"
      ]
    },
    {
      "cell_type": "markdown",
      "metadata": {
        "id": "pv48E0PpzLgp"
      },
      "source": [
        "# Cómo bajar el espectro de la base de datos del Sloan Digital Sky Survey (SDSS)"
      ]
    },
    {
      "cell_type": "markdown",
      "metadata": {
        "id": "DvozVa_-rzTc"
      },
      "source": [
        "## Método Manual de obtención de las coordenadas del objeto."
      ]
    },
    {
      "cell_type": "markdown",
      "metadata": {
        "id": "53L9l7TmzLgq"
      },
      "source": [
        "Para poder bajar su espectro de la base de datos, necesitamos sus coordenadas (RA, Dec) o (longitude, latitude) en el sistema de referencia Equatorial (J2000.0). "
      ]
    },
    {
      "cell_type": "markdown",
      "metadata": {
        "id": "vRWYCoKzr97b"
      },
      "source": [
        "INSTRUCCIONES. \n",
        "\n",
        "* Encuentra las coordenadas buscando al objeto por su nombre (KISSR 298) en la  base de datos de NED:\n",
        "https://ned.ipac.caltech.edu/.\n",
        "\n",
        "* Asigna a las variables de abajo las coordenadas del objecto que encontraste.\n",
        "\n"
      ]
    },
    {
      "cell_type": "code",
      "metadata": {
        "id": "kHMIAzpqzLgr"
      },
      "source": [
        "RA_manual=0 #202.457480 longitude in Equatorial J2000\n",
        "Dec_manual=0 #29.579716 latitude in Equatorial J2000"
      ],
      "execution_count": 137,
      "outputs": []
    },
    {
      "cell_type": "markdown",
      "metadata": {
        "id": "G6GK2GhNa4Vs"
      },
      "source": [
        "## Método Automático de obtención de las coordenadas del objeto."
      ]
    },
    {
      "cell_type": "markdown",
      "metadata": {
        "id": "DBeGYhM2wwci"
      },
      "source": [
        "Installamos el paquete necesario para bajar las coordenadas."
      ]
    },
    {
      "cell_type": "code",
      "metadata": {
        "id": "IpRpUZLgwvHp",
        "outputId": "36b7d03e-d9dc-42a0-d843-1f5627a341ae",
        "colab": {
          "base_uri": "https://localhost:8080/"
        }
      },
      "source": [
        "!pip install astroquery"
      ],
      "execution_count": 138,
      "outputs": [
        {
          "output_type": "stream",
          "text": [
            "Requirement already satisfied: astroquery in /usr/local/lib/python3.7/dist-packages (0.4.1)\n",
            "Requirement already satisfied: keyring>=4.0 in /usr/local/lib/python3.7/dist-packages (from astroquery) (23.0.1)\n",
            "Requirement already satisfied: astropy>=3.1 in /usr/local/lib/python3.7/dist-packages (from astroquery) (4.2.1)\n",
            "Requirement already satisfied: requests>=2.4.3 in /usr/local/lib/python3.7/dist-packages (from astroquery) (2.23.0)\n",
            "Requirement already satisfied: numpy in /usr/local/lib/python3.7/dist-packages (from astroquery) (1.19.5)\n",
            "Requirement already satisfied: beautifulsoup4>=4.3.2 in /usr/local/lib/python3.7/dist-packages (from astroquery) (4.6.3)\n",
            "Requirement already satisfied: six in /usr/local/lib/python3.7/dist-packages (from astroquery) (1.15.0)\n",
            "Requirement already satisfied: html5lib>=0.999 in /usr/local/lib/python3.7/dist-packages (from astroquery) (1.0.1)\n",
            "Requirement already satisfied: SecretStorage>=3.2; sys_platform == \"linux\" in /usr/local/lib/python3.7/dist-packages (from keyring>=4.0->astroquery) (3.3.1)\n",
            "Requirement already satisfied: jeepney>=0.4.2; sys_platform == \"linux\" in /usr/local/lib/python3.7/dist-packages (from keyring>=4.0->astroquery) (0.6.0)\n",
            "Requirement already satisfied: importlib-metadata>=3.6 in /usr/local/lib/python3.7/dist-packages (from keyring>=4.0->astroquery) (4.0.1)\n",
            "Requirement already satisfied: pyerfa in /usr/local/lib/python3.7/dist-packages (from astropy>=3.1->astroquery) (1.7.2)\n",
            "Requirement already satisfied: certifi>=2017.4.17 in /usr/local/lib/python3.7/dist-packages (from requests>=2.4.3->astroquery) (2020.12.5)\n",
            "Requirement already satisfied: idna<3,>=2.5 in /usr/local/lib/python3.7/dist-packages (from requests>=2.4.3->astroquery) (2.10)\n",
            "Requirement already satisfied: chardet<4,>=3.0.2 in /usr/local/lib/python3.7/dist-packages (from requests>=2.4.3->astroquery) (3.0.4)\n",
            "Requirement already satisfied: urllib3!=1.25.0,!=1.25.1,<1.26,>=1.21.1 in /usr/local/lib/python3.7/dist-packages (from requests>=2.4.3->astroquery) (1.24.3)\n",
            "Requirement already satisfied: webencodings in /usr/local/lib/python3.7/dist-packages (from html5lib>=0.999->astroquery) (0.5.1)\n",
            "Requirement already satisfied: cryptography>=2.0 in /usr/local/lib/python3.7/dist-packages (from SecretStorage>=3.2; sys_platform == \"linux\"->keyring>=4.0->astroquery) (3.4.7)\n",
            "Requirement already satisfied: typing-extensions>=3.6.4; python_version < \"3.8\" in /usr/local/lib/python3.7/dist-packages (from importlib-metadata>=3.6->keyring>=4.0->astroquery) (3.7.4.3)\n",
            "Requirement already satisfied: zipp>=0.5 in /usr/local/lib/python3.7/dist-packages (from importlib-metadata>=3.6->keyring>=4.0->astroquery) (3.4.1)\n",
            "Requirement already satisfied: cffi>=1.12 in /usr/local/lib/python3.7/dist-packages (from cryptography>=2.0->SecretStorage>=3.2; sys_platform == \"linux\"->keyring>=4.0->astroquery) (1.14.5)\n",
            "Requirement already satisfied: pycparser in /usr/local/lib/python3.7/dist-packages (from cffi>=1.12->cryptography>=2.0->SecretStorage>=3.2; sys_platform == \"linux\"->keyring>=4.0->astroquery) (2.20)\n"
          ],
          "name": "stdout"
        }
      ]
    },
    {
      "cell_type": "markdown",
      "metadata": {
        "id": "v5C7TI8As3i-"
      },
      "source": [
        "La ventaja de obtener de manera automática las coordenadas es evitar errores. El método automático se muestra a continuación."
      ]
    },
    {
      "cell_type": "code",
      "metadata": {
        "id": "TxuoV-jqvoQj",
        "outputId": "375661dd-7181-4d76-d248-196294c430b3",
        "colab": {
          "base_uri": "https://localhost:8080/"
        }
      },
      "source": [
        "from astroquery.ned import Ned\n",
        "tabla_ned = Ned.query_object(\"KISSR 298\")\n",
        "\n",
        "# Desplegamos la tabla\n",
        "print(\"TABLA DE NED\")\n",
        "print(\"\\n\")\n",
        "print(tabla_ned) # tabla_ned es una astropy.table.Table\n",
        "print(\"\\n\\n\")\n",
        "\n",
        "# Es más fácil de leer las columnas así\n",
        "print(\"COLUMNAS DE LA TABLA DE NED\")\n",
        "print(\"\\n\")\n",
        "print(tabla_ned.info)\n",
        "print(\"\\n\\n\")\n",
        "\n",
        "# Desplegamos la primer línea de la tabla con los nombres de las columnas (esta tabla solo tiene una línea de datos).\n",
        "print(\"NOMBRE DE LAS COLUMNAS Y PRIMER LÍNEA DE LA TABLA\")\n",
        "print(\"\\n\")\n",
        "print(tabla_ned[0])\n",
        "print(\"\\n\\n\")\n",
        "\n",
        "# Asignamos a la variable \"coordenadas\" texto que incluye las coordenadas del objeto y sus unidades.\n",
        "coordenadas=f'{tabla_ned[0][2]}deg {tabla_ned[0][3]}deg'\n",
        "print(\"CONTENIDO DE LA VARIABLE COORDENADAS\")\n",
        "print(\"\\n\")\n",
        "print(coordenadas)\n",
        "print(\"\\n\\n\")"
      ],
      "execution_count": 139,
      "outputs": [
        {
          "output_type": "stream",
          "text": [
            "TABLA DE NED\n",
            "\n",
            "\n",
            "No.       Object Name           RA     ... Diameter Points Associations\n",
            "                             degrees   ...                             \n",
            "--- ----------------------- ---------- ... --------------- ------------\n",
            "  1 2MASX J13294981+2934455  202.45748 ...              10            0\n",
            "\n",
            "\n",
            "\n",
            "COLUMNAS DE LA TABLA DE NED\n",
            "\n",
            "\n",
            "<Table length=1>\n",
            "        name          dtype    unit   format                                            description                                           n_bad\n",
            "-------------------- ------- ------- -------- ----------------------------------------------------------------------------------------------- -----\n",
            "                 No.   int32                                                         A sequential object number applicable to this list only.     0\n",
            "         Object Name   str30                                                                                NED preferred name for the object     0\n",
            "                  RA float64 degrees {!r:>10}                                                 Right Ascension in degrees (Equatorial J2000.0)     0\n",
            "                 DEC float64 degrees {!r:>10}                                                     Declination in degrees (Equatorial J2000.0)     0\n",
            "                Type  object                  NED's Preferred Object Type: G,GPair,GTrpl,GGroup,GClstr,QSO,AbLS,RadioS,IrS,EmLS,UvES,XrayS,SN     0\n",
            "            Velocity float64  km / s {!r:>10}                                        Velocity in km/sec, based on known heliocentric redshift     0\n",
            "            Redshift float64         {!r:>10}                                       Heliocentric redshift for the object, if it exists in NED     0\n",
            "       Redshift Flag  object                                                                     Quality flag for known heliocentric redshift     0\n",
            "Magnitude and Filter  object                                             NED's Basic Data magnitude and filter, generally in an optical band.     0\n",
            "          Separation float64  arcmin {!r:>10}                         Angular separation of the object coordinates and the search coordinate.     1\n",
            "          References   int32                                                                           Number of literature references in NED     0\n",
            "               Notes   int32                                                                                   Number of catalog notes in NED     0\n",
            "   Photometry Points   int32                                                   Number of photometric data points stored by NED for the object     0\n",
            "           Positions   int32                                                      Number of position data points stored by NED for the object     0\n",
            "     Redshift Points   int32                                                     Number of redshift data points stored by NED for the object.     0\n",
            "     Diameter Points   int32                                                     Number of diameter data points stored by NED for the object.     0\n",
            "        Associations   int32                                                                       Number of NED associations for the object.     0\n",
            "\n",
            "\n",
            "\n",
            "\n",
            "NOMBRE DE LAS COLUMNAS Y PRIMER LÍNEA DE LA TABLA\n",
            "\n",
            "\n",
            "No.       Object Name           RA        DEC     Type  Velocity   Redshift  Redshift Flag Magnitude and Filter Separation References Notes Photometry Points Positions Redshift Points Diameter Points Associations\n",
            "                             degrees    degrees          km / s                                                   arcmin                                                                                            \n",
            "--- ----------------------- ---------- ---------- ---- ---------- ---------- ------------- -------------------- ---------- ---------- ----- ----------------- --------- --------------- --------------- ------------\n",
            "  1 2MASX J13294981+2934455  202.45748   29.57972    G    14687.0   0.048991                              16.5g         --         23     0                59        10              10              10            0\n",
            "\n",
            "\n",
            "\n",
            "CONTENIDO DE LA VARIABLE COORDENADAS\n",
            "\n",
            "\n",
            "202.45748deg 29.57972deg\n",
            "\n",
            "\n",
            "\n"
          ],
          "name": "stdout"
        }
      ]
    },
    {
      "cell_type": "markdown",
      "metadata": {
        "id": "qnhlcxdrtZQ2"
      },
      "source": [
        "## Método manual de obtención de los IDs de la placa, fecha de observación y fibra con que se obtuvieron los datos de SDSS."
      ]
    },
    {
      "cell_type": "markdown",
      "metadata": {
        "id": "6cctV-0QzLgs"
      },
      "source": [
        "Para bajar el espectro de KISSR 298 la base de datos, necesitamos los IDs de la placa, la fecha y la fibra con que se usaron para obtener los datos. "
      ]
    },
    {
      "cell_type": "markdown",
      "metadata": {
        "id": "jRQ4ULMBt58X"
      },
      "source": [
        "INSTRUCCIONES. \n",
        "\n",
        "*   Busca el objecto usando las coordenadas en: https://skyserver.sdss.org/dr14/en/tools/chart/chartinfo.aspx. \n",
        "*   Dále a \"Get Image\" para ver la imagen del objeto. Puedes cambiar el tamaño de la imagen con los botones de \"+\" y \"-\".\n",
        "* Haz click en \"Explore\" para ir a donde se encuentra el espectro. \n",
        "* Abajo a la derecha, en donde dice \"Interactive Spectrum\", hay una tabla con información sobre las observaciones del objeto. \n",
        "* Asigna a las variables de abajo las coordenadas del objecto que encontraste.\n",
        "\n",
        "\n",
        "\n"
      ]
    },
    {
      "cell_type": "code",
      "metadata": {
        "id": "An2dPH5czLgu"
      },
      "source": [
        "plate_manual=-1 #1978 plate\n",
        "mjd_manual=-1 #53473 modified Julian date\n",
        "fiberid_manual=-1 #371 fiberid\n",
        "\n",
        "#Bajamos el archivo con el espectro de la base de datos de SDSS usando los IDs de arriba.\n",
        "archivo_con_espectro_man = 'https://dr14.sdss.org/optical/spectrum/view/data/format=fits/spec=lite?plateid='+str(plate_manual)+'&mjd='+str(mjd_manual)+'&fiberid='+str(fiberid_manual)"
      ],
      "execution_count": 140,
      "outputs": []
    },
    {
      "cell_type": "markdown",
      "metadata": {
        "id": "HZIA-g89u-PN"
      },
      "source": [
        "## Método Automático de obtención de los IDs de la placa, fecha de observación y fibra."
      ]
    },
    {
      "cell_type": "code",
      "metadata": {
        "id": "e1efK9TVv7wc",
        "outputId": "ed1fd7e1-8236-4fd9-b0e3-a13912a5147a",
        "colab": {
          "base_uri": "https://localhost:8080/"
        }
      },
      "source": [
        "from astroquery.sdss import SDSS\n",
        "from astropy import coordinates as coords\n",
        "pos = coords.SkyCoord(coord, frame='icrs')\n",
        "tabla_sdss = SDSS.query_region(pos, spectro=True)\n",
        "\n",
        "print(\"Tabla de SDSS\")\n",
        "print(tabla_sdss[0])\n",
        "print(\"\\n\\n\")\n",
        "\n",
        "print(\"Elementos de la tabla que necesitamos.\")\n",
        "plate=tabla_sdss[0][8] # plate\n",
        "mjd=tabla_sdss[0][9] # modified Julian date\n",
        "fiberid=tabla_sdss[0][10] # fiberid\n",
        "print(f'plate: {plate}\\n mjd: {mjd}\\n fiberid: {fiberid}')\n",
        "print(\"\\n\\n\")\n",
        "\n",
        "#Bajamos el archivo con el espectro de la base de datos de SDSS usando los IDs de arriba.\n",
        "archivo_con_espectro_aut = 'https://dr14.sdss.org/optical/spectrum/view/data/format=fits/spec=lite?plateid='+str(plate)+'&mjd='+str(mjd)+'&fiberid='+str(fiberid)"
      ],
      "execution_count": 141,
      "outputs": [
        {
          "output_type": "stream",
          "text": [
            "Tabla de SDSS\n",
            "       ra              dec               objid        run  rerun camcol field     z      plate  mjd  fiberID      specobjid      run2d instrument\n",
            "---------------- ---------------- ------------------- ---- ----- ------ ----- ---------- ----- ----- ------- ------------------- ----- ----------\n",
            "202.457448174821 29.5797191488763 1237667259357790380 5072   301      5    39 0.04897743  1978 53473     371 2227132053705484288    26       SDSS\n",
            "\n",
            "\n",
            "\n",
            "Elementos de la tabla que necesitamos.\n",
            "plate: 1978\n",
            " mjd: 53473\n",
            " fiberid: 371\n",
            "\n",
            "\n",
            "\n"
          ],
          "name": "stdout"
        },
        {
          "output_type": "stream",
          "text": [
            "/usr/local/lib/python3.7/dist-packages/astroquery/sdss/core.py:865: VisibleDeprecationWarning: Reading unicode strings without specifying the encoding argument is deprecated. Set the encoding, use None for the system default.\n",
            "  comments='#'))\n"
          ],
          "name": "stderr"
        }
      ]
    },
    {
      "cell_type": "markdown",
      "metadata": {
        "id": "OPBgfsZKzLgv"
      },
      "source": [
        "Importamos los paquetes necesarios para abrir el archivo con el espectro y graficarlo."
      ]
    },
    {
      "cell_type": "code",
      "metadata": {
        "colab": {
          "base_uri": "https://localhost:8080/"
        },
        "id": "fB_G7t6EzLgw",
        "outputId": "8462a6a6-4025-4799-c761-65753f4e5dc9"
      },
      "source": [
        "from astropy.io import fits\n",
        "from astropy import units as u\n",
        "import numpy as np\n",
        "from matplotlib import pyplot as plt\n",
        "%matplotlib inline\n",
        "from astropy.visualization import quantity_support\n",
        "quantity_support()  # para obtener las unidades en los ejes de la gráfica de abajo."
      ],
      "execution_count": 142,
      "outputs": [
        {
          "output_type": "execute_result",
          "data": {
            "text/plain": [
              "<astropy.visualization.units.quantity_support.<locals>.MplQuantityConverter at 0x7f6fc5ee0a50>"
            ]
          },
          "metadata": {
            "tags": []
          },
          "execution_count": 142
        }
      ]
    },
    {
      "cell_type": "markdown",
      "metadata": {
        "id": "ZJwkQEQHzLgy"
      },
      "source": [
        "El espectro está en un archivo con formato fits.\n",
        "\n",
        "Abrimos el archivo y contruimos los vectores de longitudes de onda (wave),  flujos (flux), y de errores en los flujos (err)."
      ]
    },
    {
      "cell_type": "code",
      "metadata": {
        "colab": {
          "base_uri": "https://localhost:8080/"
        },
        "id": "_LEnUBdMzLg1",
        "outputId": "7312fa0f-1129-4b8d-92f8-6fc68c45b00d"
      },
      "source": [
        "f = fits.open(archivo_con_espectro_aut) \n",
        "\n",
        "#El espectro está en el segundo encabezado del archivo (f[1])\n",
        "specdata = f[1].data \n",
        "f.close()\n",
        "\n",
        "wave = 10**specdata['loglam'] * u.AA # longitud de onda\n",
        "flux = specdata['flux'] * 10**-17 * u.Unit('erg cm-2 s-1 AA-1') # flujo\n",
        "ivar = specdata['ivar']# inverso de la varianza\n",
        "err = 1 / np.sqrt(ivar) # error * u.Unit('erg cm-2 s-1 AA-1') # error en el flujo"
      ],
      "execution_count": 143,
      "outputs": [
        {
          "output_type": "stream",
          "text": [
            "/usr/local/lib/python3.7/dist-packages/ipykernel_launcher.py:10: RuntimeWarning: divide by zero encountered in true_divide\n",
            "  # Remove the CWD from sys.path while we load stuff.\n"
          ],
          "name": "stderr"
        }
      ]
    },
    {
      "cell_type": "markdown",
      "metadata": {
        "id": "Mbc27u2oz7xB"
      },
      "source": [
        "Instalamos el paquete specutils que permite poner las unidades correctas en los ejes de la gráfica del espectro."
      ]
    },
    {
      "cell_type": "markdown",
      "metadata": {
        "id": "JNOVPEkEGaAz"
      },
      "source": [
        "# Método manual de poner unidades en los ejes de las gráficas."
      ]
    },
    {
      "cell_type": "markdown",
      "metadata": {
        "id": "KUHaBNVTod7d"
      },
      "source": [
        "Poner las unidades de los ejes de manera manual en las gráficas puede llevar a errores. ¿Qué errores notas en las unidades de los ejes de la gráfica de abajo (compara con la gráfica del método automático de más abajo)?"
      ]
    },
    {
      "cell_type": "code",
      "metadata": {
        "colab": {
          "base_uri": "https://localhost:8080/",
          "height": 307
        },
        "id": "FV7tE6VczLg3",
        "outputId": "f84a6432-e6ed-4c32-cf4d-f6940cc38750"
      },
      "source": [
        "f, ax = plt.subplots()  \n",
        "ax.plot(wave, flux)\n",
        "plt.xlabel('Rest Wavelength (Anstrom)') \n",
        "plt.ylabel('Flux (Anstron/cm/s)')"
      ],
      "execution_count": 144,
      "outputs": [
        {
          "output_type": "execute_result",
          "data": {
            "text/plain": [
              "Text(0, 0.5, 'Flux (Anstron/cm/s)')"
            ]
          },
          "metadata": {
            "tags": []
          },
          "execution_count": 144
        },
        {
          "output_type": "display_data",
          "data": {
            "image/png": "[encoded data removed]",
            "text/plain": [
              "<Figure size 432x288 with 1 Axes>"
            ]
          },
          "metadata": {
            "tags": [],
            "needs_background": "light"
          }
        }
      ]
    },
    {
      "cell_type": "markdown",
      "metadata": {
        "id": "vSadwUsuHZ4S"
      },
      "source": [
        "## Método automático de poner las unidades en la gráfica."
      ]
    },
    {
      "cell_type": "markdown",
      "metadata": {
        "id": "qVIAcv2RHfxW"
      },
      "source": [
        "Instalamos un paquete que nos permite hacer esto."
      ]
    },
    {
      "cell_type": "code",
      "metadata": {
        "colab": {
          "base_uri": "https://localhost:8080/"
        },
        "id": "izIH2ooX0CUf",
        "outputId": "a9867429-090e-4240-8d48-2b37ec016e25"
      },
      "source": [
        "!pip install specutils"
      ],
      "execution_count": 145,
      "outputs": [
        {
          "output_type": "stream",
          "text": [
            "Requirement already satisfied: specutils in /usr/local/lib/python3.7/dist-packages (1.2)\n",
            "Requirement already satisfied: asdf>=2.5 in /usr/local/lib/python3.7/dist-packages (from specutils) (2.7.3)\n",
            "Requirement already satisfied: gwcs!=0.16.0 in /usr/local/lib/python3.7/dist-packages (from specutils) (0.16.1)\n",
            "Requirement already satisfied: scipy in /usr/local/lib/python3.7/dist-packages (from specutils) (1.4.1)\n",
            "Requirement already satisfied: astropy>=4.1 in /usr/local/lib/python3.7/dist-packages (from specutils) (4.2.1)\n",
            "Requirement already satisfied: semantic-version>=2.8 in /usr/local/lib/python3.7/dist-packages (from asdf>=2.5->specutils) (2.8.5)\n",
            "Requirement already satisfied: pyyaml>=3.10 in /usr/local/lib/python3.7/dist-packages (from asdf>=2.5->specutils) (3.13)\n",
            "Requirement already satisfied: jsonschema<4,>=3.0.2 in /usr/local/lib/python3.7/dist-packages (from asdf>=2.5->specutils) (3.2.0)\n",
            "Requirement already satisfied: numpy>=1.10 in /usr/local/lib/python3.7/dist-packages (from asdf>=2.5->specutils) (1.19.5)\n",
            "Requirement already satisfied: pyerfa in /usr/local/lib/python3.7/dist-packages (from astropy>=4.1->specutils) (1.7.2)\n",
            "Requirement already satisfied: attrs>=17.4.0 in /usr/local/lib/python3.7/dist-packages (from jsonschema<4,>=3.0.2->asdf>=2.5->specutils) (20.3.0)\n",
            "Requirement already satisfied: six>=1.11.0 in /usr/local/lib/python3.7/dist-packages (from jsonschema<4,>=3.0.2->asdf>=2.5->specutils) (1.15.0)\n",
            "Requirement already satisfied: setuptools in /usr/local/lib/python3.7/dist-packages (from jsonschema<4,>=3.0.2->asdf>=2.5->specutils) (56.0.0)\n",
            "Requirement already satisfied: importlib-metadata; python_version < \"3.8\" in /usr/local/lib/python3.7/dist-packages (from jsonschema<4,>=3.0.2->asdf>=2.5->specutils) (4.0.1)\n",
            "Requirement already satisfied: pyrsistent>=0.14.0 in /usr/local/lib/python3.7/dist-packages (from jsonschema<4,>=3.0.2->asdf>=2.5->specutils) (0.17.3)\n",
            "Requirement already satisfied: zipp>=0.5 in /usr/local/lib/python3.7/dist-packages (from importlib-metadata; python_version < \"3.8\"->jsonschema<4,>=3.0.2->asdf>=2.5->specutils) (3.4.1)\n",
            "Requirement already satisfied: typing-extensions>=3.6.4; python_version < \"3.8\" in /usr/local/lib/python3.7/dist-packages (from importlib-metadata; python_version < \"3.8\"->jsonschema<4,>=3.0.2->asdf>=2.5->specutils) (3.7.4.3)\n"
          ],
          "name": "stdout"
        }
      ]
    },
    {
      "cell_type": "markdown",
      "metadata": {
        "id": "CpcRlQnwnAcR"
      },
      "source": [
        "Vamos a crear un objeto llamado \"Spectrum1D\" que vamos a graficar."
      ]
    },
    {
      "cell_type": "code",
      "metadata": {
        "id": "tAu-KoSImspa"
      },
      "source": [
        "from specutils import Spectrum1D\n",
        "spec = Spectrum1D(spectral_axis=wave, flux=flux)"
      ],
      "execution_count": 146,
      "outputs": []
    },
    {
      "cell_type": "markdown",
      "metadata": {
        "id": "HdpkbUu2zLg2"
      },
      "source": [
        "Graficamos el espectro. La ventaja de specutils es que las unidades de los ejes de la gráfica están correctas."
      ]
    },
    {
      "cell_type": "code",
      "metadata": {
        "id": "ywwLmwzLe3Nv",
        "outputId": "93fb54c5-9ecb-4925-9ea4-b13b18df381e",
        "colab": {
          "base_uri": "https://localhost:8080/",
          "height": 307
        }
      },
      "source": [
        "f, ax = plt.subplots()  \n",
        "ax.step(spec.spectral_axis, spec.flux)\n",
        "plt.xlabel('Longitud de onda ({})'.format(spec.spectral_axis.unit)) \n",
        "plt.ylabel('Flujo ({})'.format(spec.flux.unit))"
      ],
      "execution_count": 167,
      "outputs": [
        {
          "output_type": "execute_result",
          "data": {
            "text/plain": [
              "Text(0, 0.5, 'Flujo (erg / (Angstrom cm2 s))')"
            ]
          },
          "metadata": {
            "tags": []
          },
          "execution_count": 167
        },
        {
          "output_type": "display_data",
          "data": {
            "image/png": "[encoded data removed]",
            "text/plain": [
              "<Figure size 432x288 with 1 Axes>"
            ]
          },
          "metadata": {
            "tags": [],
            "needs_background": "light"
          }
        }
      ]
    },
    {
      "cell_type": "markdown",
      "metadata": {
        "id": "aeaOO9CRzLg5"
      },
      "source": [
        "# Corrección del espectro por polvo en la Vía Láctea"
      ]
    },
    {
      "cell_type": "markdown",
      "metadata": {
        "id": "eF-HWaN9JE0G"
      },
      "source": [
        "Vamos a corregir la luz de las estrellas que se encuentran en la galaxia KISSR 298 por extinción debida al polvo en nuestra Galaxia.\n",
        "\n",
        "Para esto, necesitamos el exceso de color debido al polvo en nuestra Galaxia en la dirección de KISSR 298. "
      ]
    },
    {
      "cell_type": "markdown",
      "metadata": {
        "id": "iE6Er76CzLg5"
      },
      "source": [
        "INSTRUCCIONES.\n",
        "\n",
        "* Para calcular el exceso de color, E(B-V), primero encuentra la extinción Galáctica en las bandas Landolt B y V. Para esto ve a: https://ned.ipac.caltech.edu/ \n",
        "* Introduce el nombre del objeto\n",
        "* Ve a la pestaña de Galactic Extinction\n",
        "* Ve a la columna \"Galactic Extinctions\", en donde encontrarás los valores de B y V.\n",
        "* Asigna a las variables B y V de abajo, el valor de las extinciones en para observacioens en los filstros B y V.\n",
        "\n"
      ]
    },
    {
      "cell_type": "code",
      "metadata": {
        "id": "Z99mPddnzLg6"
      },
      "source": [
        "B=0.062 #0.062 extinción Galáctica en la banda B\n",
        "V=0.047 #0.047 extinción Galáctica en la banda V\n",
        "ebvmw=B-V # exceso de color E(B-V) de la Vía Láctea (Milky Way)"
      ],
      "execution_count": 148,
      "outputs": []
    },
    {
      "cell_type": "markdown",
      "metadata": {
        "id": "ERQKjW_S0wZ9"
      },
      "source": [
        "Importamos el paquete necesario para hacer la corrección por polvo."
      ]
    },
    {
      "cell_type": "code",
      "metadata": {
        "id": "6cw5RfOspTBw",
        "outputId": "54d0fdff-f16a-4621-fcbf-3700d432995d",
        "colab": {
          "base_uri": "https://localhost:8080/"
        }
      },
      "source": [
        "!pip install git+https://github.com/karllark/dust_extinction.git"
      ],
      "execution_count": 149,
      "outputs": [
        {
          "output_type": "stream",
          "text": [
            "Collecting git+https://github.com/karllark/dust_extinction.git\n",
            "  Cloning https://github.com/karllark/dust_extinction.git to /tmp/pip-req-build-nj4y88to\n",
            "  Running command git clone -q https://github.com/karllark/dust_extinction.git /tmp/pip-req-build-nj4y88to\n",
            "  Installing build dependencies ... \u001b[?25l\u001b[?25hdone\n",
            "  Getting requirements to build wheel ... \u001b[?25l\u001b[?25hdone\n",
            "    Preparing wheel metadata ... \u001b[?25l\u001b[?25hdone\n",
            "Requirement already satisfied (use --upgrade to upgrade): dust-extinction==1.1.dev1+g8bd0b2f from git+https://github.com/karllark/dust_extinction.git in /usr/local/lib/python3.7/dist-packages\n",
            "Requirement already satisfied: astropy in /usr/local/lib/python3.7/dist-packages (from dust-extinction==1.1.dev1+g8bd0b2f) (4.2.1)\n",
            "Requirement already satisfied: scipy in /usr/local/lib/python3.7/dist-packages (from dust-extinction==1.1.dev1+g8bd0b2f) (1.4.1)\n",
            "Requirement already satisfied: pyerfa in /usr/local/lib/python3.7/dist-packages (from astropy->dust-extinction==1.1.dev1+g8bd0b2f) (1.7.2)\n",
            "Requirement already satisfied: numpy>=1.17 in /usr/local/lib/python3.7/dist-packages (from astropy->dust-extinction==1.1.dev1+g8bd0b2f) (1.19.5)\n",
            "Building wheels for collected packages: dust-extinction\n",
            "  Building wheel for dust-extinction (PEP 517) ... \u001b[?25l\u001b[?25hdone\n",
            "  Created wheel for dust-extinction: filename=dust_extinction-1.1.dev1+g8bd0b2f-cp37-none-any.whl size=424827 sha256=6b347846fd55f33c469ca8ac667f08814a7340623a8f39f50dfd2ec9f74d53c7\n",
            "  Stored in directory: /tmp/pip-ephem-wheel-cache-fuiszm8i/wheels/bc/75/93/10949c6b5bee8da271150d593844866943a9fb3e42dff15e9c\n",
            "Successfully built dust-extinction\n"
          ],
          "name": "stdout"
        }
      ]
    },
    {
      "cell_type": "markdown",
      "metadata": {
        "id": "16h_8O3pJ718"
      },
      "source": [
        "Importamos la función que me permite corregir el flujo en cada longitud de onda debida al polvo para el valor de ebvmw dado."
      ]
    },
    {
      "cell_type": "code",
      "metadata": {
        "id": "hl4MG42rzLg6"
      },
      "source": [
        "# Importamos el modelo de Cardelli, Clayton & Mathis (1989) con A_V = 1 y R_V = 3.1\n",
        "from dust_extinction.parameter_averages import CCM89\n",
        "from scipy.optimize import curve_fit\n",
        "\n",
        "# Definimos el modelo de enrojecimiento debido al polvo\n",
        "\n",
        "ext = CCM89(Rv=3.1)\n",
        "\n"
      ],
      "execution_count": 150,
      "outputs": []
    },
    {
      "cell_type": "markdown",
      "metadata": {
        "id": "IxzlD0R-KHj0"
      },
      "source": [
        "Calculamos el flujo corregido uflux."
      ]
    },
    {
      "cell_type": "code",
      "metadata": {
        "id": "xtnB676aKKaF"
      },
      "source": [
        "# Flujo corregido (unextinguished flux )\n",
        "\n",
        "uflux = flux / ext.extinguish(1/wave.to(u.micron), Ebv=0.1)"
      ],
      "execution_count": 159,
      "outputs": []
    },
    {
      "cell_type": "markdown",
      "metadata": {
        "id": "by4rrPejzLg6"
      },
      "source": [
        "Graficamos el espectro antes y después de la corrección por enrojecimiento en la Vía Láctea. ¿Cuál es el espectro más luminoso y porqué?"
      ]
    },
    {
      "cell_type": "code",
      "metadata": {
        "id": "F3Xe1pIIzLg7",
        "outputId": "132152cf-5399-444b-d82b-67261340d613",
        "colab": {
          "base_uri": "https://localhost:8080/",
          "height": 307
        }
      },
      "source": [
        "f, ax = plt.subplots()  \n",
        "\n",
        "ax.step(spec.spectral_axis, spec.flux, label='Con polvo')\n",
        "ax.plot(wave,uflux, label='Sin polvo')\n",
        "plt.xlabel('Longitud de onda ({})'.format(spec.spectral_axis.unit)) \n",
        "plt.ylabel('Flujo ({})'.format(spec.flux.unit))\n",
        "plt.ylim(0,5e-16)\n",
        "plt.legend()"
      ],
      "execution_count": 166,
      "outputs": [
        {
          "output_type": "execute_result",
          "data": {
            "text/plain": [
              "<matplotlib.legend.Legend at 0x7f6fc5ec14d0>"
            ]
          },
          "metadata": {
            "tags": []
          },
          "execution_count": 166
        },
        {
          "output_type": "display_data",
          "data": {
            "image/png": "[encoded data removed]",
            "text/plain": [
              "<Figure size 432x288 with 1 Axes>"
            ]
          },
          "metadata": {
            "tags": [],
            "needs_background": "light"
          }
        }
      ]
    },
    {
      "cell_type": "markdown",
      "metadata": {
        "id": "wvFhBuTnzLg7"
      },
      "source": [
        "# Corrección por corrimiento al rojo de la galaxia que se está moviendo radialmente respecto al observador."
      ]
    },
    {
      "cell_type": "markdown",
      "metadata": {
        "id": "jVpQTEyczLg7"
      },
      "source": [
        "INSTRUCCIONES. \n",
        "\n",
        "* Determina el corrimiento al rojo, z, de la galaxia usando la base de datos de NED.\n",
        "* Asigna el corrimiento al rojo que encontraste a la variable z.\n",
        "\n"
      ]
    },
    {
      "cell_type": "code",
      "metadata": {
        "id": "YXkm6pb6zLg7"
      },
      "source": [
        "z=1 #0.04899 Corrimiento al rojo encontrado"
      ],
      "execution_count": 160,
      "outputs": []
    },
    {
      "cell_type": "code",
      "metadata": {
        "id": "22zWUsYGzLg9"
      },
      "source": [
        "wave_rest = wave / (1 + z)"
      ],
      "execution_count": 153,
      "outputs": []
    },
    {
      "cell_type": "markdown",
      "metadata": {
        "id": "h0MJUQiszLg9"
      },
      "source": [
        "Graficamos el espectro antes y después de la corrección por corrimiento al rojo."
      ]
    },
    {
      "cell_type": "code",
      "metadata": {
        "id": "_6mgjfAMzLg9",
        "outputId": "61a990f5-4c20-4e12-fc1a-77bdb7d9d88e",
        "colab": {
          "base_uri": "https://localhost:8080/",
          "height": 307
        }
      },
      "source": [
        "f, ax = plt.subplots()  \n",
        "\n",
        "ax.plot(wave, uflux, label=\"Corrido al rojo\")\n",
        "ax.plot(wave_rest, uflux, label=\"Corregido\")\n",
        "plt.xlabel('Longitud de onda ({})'.format(spec.spectral_axis.unit)) \n",
        "plt.ylabel('Flujo ({})'.format(spec.flux.unit))\n",
        "plt.legend()"
      ],
      "execution_count": 165,
      "outputs": [
        {
          "output_type": "execute_result",
          "data": {
            "text/plain": [
              "<matplotlib.legend.Legend at 0x7f6fc5d54b10>"
            ]
          },
          "metadata": {
            "tags": []
          },
          "execution_count": 165
        },
        {
          "output_type": "display_data",
          "data": {
            "image/png": "[encoded data removed]",
            "text/plain": [
              "<Figure size 432x288 with 1 Axes>"
            ]
          },
          "metadata": {
            "tags": [],
            "needs_background": "light"
          }
        }
      ]
    },
    {
      "cell_type": "code",
      "metadata": {
        "id": "hyjj9ZPIzLg9"
      },
      "source": [
        ""
      ],
      "execution_count": 154,
      "outputs": []
    }
  ]
}